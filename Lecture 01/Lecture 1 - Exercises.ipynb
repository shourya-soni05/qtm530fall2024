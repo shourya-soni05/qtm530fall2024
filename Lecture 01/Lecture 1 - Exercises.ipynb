{
 "cells": [
  {
   "attachments": {},
   "cell_type": "markdown",
   "metadata": {},
   "source": [
    "# Lecture 1 Exercises"
   ]
  },
  {
   "cell_type": "markdown",
   "metadata": {},
   "source": [
    "\n",
    "\n",
    "## Short Questions\n",
    "\n",
    "<font size = \"5\">\n",
    "\n",
    "1. What is the difference between a list and an array?\n",
    "2. Consider the list <br>\n",
    "\n",
    "```list_colors = [\"red\",\"yellow\",\"green\"]``` <br>\n",
    "\n",
    "What is the output of ```list_colors[0]``` and <br>\n",
    "```list_colors[1]```?\n",
    "\n",
    "3. How do you concatenate two strings? \n",
    "4. What does the error \"not defined\" mean?\n",
    "5. What does the error \"could not be broadcast\" mean?\n",
    "6. How do you compute the median of an array?\n"
   ]
  },
  {
   "cell_type": "code",
   "execution_count": null,
   "metadata": {},
   "outputs": [],
   "source": [
    "# Write your answers here as comments:\n",
    "\n",
    "# 1. Lists are homogenous and contain elements of the same type while arrays can be heterogeneous and contain elements of different types.\n",
    "\n"
   ]
  },
  {
   "cell_type": "markdown",
   "metadata": {},
   "source": [
    "\n",
    "\n",
    "## Long Questions"
   ]
  },
  {
   "attachments": {},
   "cell_type": "markdown",
   "metadata": {},
   "source": [
    "<font size = \"5\">\n",
    "\n",
    "(a) Import the pandas, matplotlib, and numpy packages"
   ]
  },
  {
   "cell_type": "code",
   "execution_count": 1,
   "metadata": {},
   "outputs": [],
   "source": [
    "# Write your own code\n",
    "\n",
    "import pandas as pd\n",
    "import numpy as np\n",
    "import matplotlib.pyplot as plt\n"
   ]
  },
  {
   "attachments": {},
   "cell_type": "markdown",
   "metadata": {},
   "source": [
    "<font size = \"5\">\n",
    "\n",
    "(b) Open the dataset \"worldbank_wdi_2019.csv\" <br>\n",
    "in the \"data\" folder\n",
    "\n",
    "<font size = \"3\">\n",
    "\n",
    "- Read it as a pandas object called \"wdi\"\n",
    "- Note: This is a subset of the World Development Indicators for 2019\n",
    "- Each observation represents a different country"
   ]
  },
  {
   "cell_type": "code",
   "execution_count": 5,
   "metadata": {},
   "outputs": [],
   "source": [
    "# Write your own code\n",
    "\n",
    "wdi = pd.read_csv(\"data/worldbank_wdi_2019.csv\")\n"
   ]
  },
  {
   "attachments": {},
   "cell_type": "markdown",
   "metadata": {},
   "source": [
    "<font size = \"5\">\n",
    "\n",
    "(c) Browse the dataset and manually create <br>\n",
    "a list of variable names\n",
    "\n"
   ]
  },
  {
   "cell_type": "markdown",
   "metadata": {},
   "source": []
  },
  {
   "cell_type": "code",
   "execution_count": 7,
   "metadata": {},
   "outputs": [
    {
     "name": "stdout",
     "output_type": "stream",
     "text": [
      "['year', 'country_name', 'life_expectancy', 'gdp_per_capita_usd']\n"
     ]
    }
   ],
   "source": [
    "variable_names = list(wdi.columns)\n",
    "print(variable_names)"
   ]
  },
  {
   "attachments": {},
   "cell_type": "markdown",
   "metadata": {},
   "source": [
    "<font size = \"5\">\n",
    "\n",
    "(d) Compute descriptive statistics for the fourth <br>\n",
    "variable in the dataset\n",
    "\n",
    "<font size = \"3\">\n",
    "\n",
    "- One way to do this is:\n",
    "\n",
    "wdi[\"gdp_per_capita_usd\"].describe()\n",
    "\n",
    "- Do something similar, but with the list you created above.\n",
    "- Substitute \"gdp_per_capita_usd\" with a command that <br>\n",
    "automatically extracts the fourth element in the list"
   ]
  },
  {
   "cell_type": "code",
   "execution_count": 8,
   "metadata": {},
   "outputs": [
    {
     "data": {
      "application/vnd.microsoft.datawrangler.viewer.v0+json": {
       "columns": [
        {
         "name": "index",
         "rawType": "object",
         "type": "string"
        },
        {
         "name": "gdp_per_capita_usd",
         "rawType": "float64",
         "type": "float"
        }
       ],
       "ref": "8354cf37-5705-4193-a651-78e05d5e160e",
       "rows": [
        [
         "count",
         "255.0"
        ],
        [
         "mean",
         "17230.94975652353"
        ],
        [
         "std",
         "25792.183785237947"
        ],
        [
         "min",
         "216.9729681"
        ],
        [
         "25%",
         "2186.0465815"
        ],
        [
         "50%",
         "6837.717826"
        ],
        [
         "75%",
         "19809.323135"
        ],
        [
         "max",
         "199377.4818"
        ]
       ],
       "shape": {
        "columns": 1,
        "rows": 8
       }
      },
      "text/plain": [
       "count       255.000000\n",
       "mean      17230.949757\n",
       "std       25792.183785\n",
       "min         216.972968\n",
       "25%        2186.046581\n",
       "50%        6837.717826\n",
       "75%       19809.323135\n",
       "max      199377.481800\n",
       "Name: gdp_per_capita_usd, dtype: float64"
      ]
     },
     "execution_count": 8,
     "metadata": {},
     "output_type": "execute_result"
    }
   ],
   "source": [
    "# Compute descriptive statistics for the fourth variable using the variable_names list\n",
    "wdi[variable_names[3]].describe()"
   ]
  },
  {
   "attachments": {},
   "cell_type": "markdown",
   "metadata": {},
   "source": [
    "<font size = \"5\">\n",
    "\n",
    "(e) Show a scatter plot that shows \"gdp_per_capita_usd\" <br>\n",
    "in the x-axis and \"lifexpectancy\" in the y-axis. Label the axes."
   ]
  },
  {
   "cell_type": "code",
   "execution_count": 13,
   "metadata": {},
   "outputs": [
    {
     "data": {
      "image/png": "[encoded data removed]",
      "text/plain": [
       "<Figure size 640x480 with 1 Axes>"
      ]
     },
     "metadata": {},
     "output_type": "display_data"
    }
   ],
   "source": [
    "# Write your own code\n",
    "\n",
    "plt.scatter(x = wdi['gdp_per_capita_usd'], y = wdi['life_expectancy'])\n",
    "plt.show()\n"
   ]
  },
  {
   "cell_type": "markdown",
   "metadata": {},
   "source": [
    "<font size = \"5\">\n",
    "\n",
    "(f) Generate \"vec_x\" from a chi-square <br>\n",
    "distribution with (df = 1, size = 1000)\n",
    "\n",
    "<font size = \"3\">\n",
    "\n",
    "- Plot a histogram of each variable, with axis labels, and title\n",
    "- Create a new variable \"vec_y\" by the formula <br>\n",
    "$ y = e^x + 2x + 5$\n",
    "- Plot \"vec_x\" against \"vec_y\" and label the axes"
   ]
  },
  {
   "cell_type": "code",
   "execution_count": 14,
   "metadata": {},
   "outputs": [
    {
     "data": {
      "image/png": "[encoded data removed]",
      "text/plain": [
       "<Figure size 640x480 with 1 Axes>"
      ]
     },
     "metadata": {},
     "output_type": "display_data"
    },
    {
     "data": {
      "image/png": "[encoded data removed]",
      "text/plain": [
       "<Figure size 640x480 with 1 Axes>"
      ]
     },
     "metadata": {},
     "output_type": "display_data"
    }
   ],
   "source": [
    "# Generate vec_x from a chi-square distribution\n",
    "vec_x = np.random.chisquare(df=1, size=1000)\n",
    "\n",
    "# Plot histogram of vec_x\n",
    "plt.hist(vec_x, bins=30, edgecolor='black')\n",
    "plt.xlabel('vec_x')\n",
    "plt.ylabel('Frequency')\n",
    "plt.title('Histogram of vec_x')\n",
    "plt.show()\n",
    "\n",
    "# Create vec_y using the given formula\n",
    "vec_y = np.exp(vec_x) + 2 * vec_x + 5\n",
    "\n",
    "# Plot vec_x against vec_y\n",
    "plt.scatter(vec_x, vec_y, alpha=0.5)\n",
    "plt.xlabel('vec_x')\n",
    "plt.ylabel('vec_y')\n",
    "plt.title('Scatter plot of vec_x vs vec_y')\n",
    "plt.show()"
   ]
  },
  {
   "cell_type": "code",
   "execution_count": null,
   "metadata": {},
   "outputs": [],
   "source": []
  },
  {
   "cell_type": "markdown",
   "metadata": {},
   "source": [
    "<font size = \"5\">\n",
    "\n",
    "(g) Research online how to create an array with <br>\n",
    "```size = 1000``` entries, with all entries equal to one.\n",
    "\n",
    "<font size = \"3\">\n",
    "\n",
    "- Create a new matrix, ```X_mat``` that appends a <br>\n",
    "vector with only ones and \"vec_x\" from question (f) to form <br>\n",
    "a matrix with two columns and 1000 rows\n",
    "- Compute $(X_{mat}'X_{mat})^{-1}$"
   ]
  },
  {
   "cell_type": "code",
   "execution_count": 15,
   "metadata": {},
   "outputs": [
    {
     "name": "stdout",
     "output_type": "stream",
     "text": [
      "[[ 0.00148732 -0.00049686]\n",
      " [-0.00049686  0.00050659]]\n"
     ]
    }
   ],
   "source": [
    "# Write your own code\n",
    "\n",
    "\n",
    "\n",
    "# Create an array of ones with size 1000\n",
    "ones_vec = np.ones(1000)\n",
    "\n",
    "# Stack ones_vec and vec_x as columns to form X_mat (shape: 1000 x 2)\n",
    "X_mat = np.column_stack((ones_vec, vec_x))\n",
    "\n",
    "# Compute (X_mat'X_mat)^(-1)\n",
    "XtX_inv = np.linalg.inv(X_mat.T @ X_mat)\n",
    "print(XtX_inv)\n"
   ]
  }
 ],
 "metadata": {
  "kernelspec": {
   "display_name": "base",
   "language": "python",
   "name": "python3"
  },
  "language_info": {
   "codemirror_mode": {
    "name": "ipython",
    "version": 3
   },
   "file_extension": ".py",
   "mimetype": "text/x-python",
   "name": "python",
   "nbconvert_exporter": "python",
   "pygments_lexer": "ipython3",
   "version": "3.12.7"
  },
  "orig_nbformat": 4
 },
 "nbformat": 4,
 "nbformat_minor": 2
}
