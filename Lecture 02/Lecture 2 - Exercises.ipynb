{
 "cells": [
  {
   "attachments": {},
   "cell_type": "markdown",
   "metadata": {},
   "source": [
    "# Lecture 2 Exercises"
   ]
  },
  {
   "cell_type": "markdown",
   "metadata": {},
   "source": [
    "\n",
    "\n",
    "## Short Questions\n",
    "\n",
    "<font size = \"5\">\n",
    "\n",
    "1. How do you check whether an element is part of a list?\n",
    "2. How do you reference a global variable in ```.query()```?\n"
   ]
  },
  {
   "cell_type": "code",
   "execution_count": 42,
   "metadata": {},
   "outputs": [],
   "source": [
    "# Write your answers here as comments:\n",
    "\n",
    "\n"
   ]
  },
  {
   "cell_type": "markdown",
   "metadata": {},
   "source": [
    "\n",
    "\n",
    "## Long Questions"
   ]
  },
  {
   "attachments": {},
   "cell_type": "markdown",
   "metadata": {},
   "source": [
    "<font size = \"5\">\n",
    "\n",
    "Import the pandas and matplotlib packages"
   ]
  },
  {
   "cell_type": "code",
   "execution_count": 43,
   "metadata": {},
   "outputs": [],
   "source": [
    "# Write your own code\n",
    "\n",
    "import pandas as pd\n",
    "import matplotlib.pyplot as plt\n",
    "import numpy as np\n",
    "\n"
   ]
  },
  {
   "cell_type": "markdown",
   "metadata": {},
   "source": [
    "<font size = \"5\">\n",
    "\n",
    "(a) Checking a string condition\n",
    "\n",
    "<font size = \"3\">\n",
    "\n",
    "- Define a variable \"fruit\" with the value \"apple\"\n",
    "- Define a list\n",
    "\n",
    "list_fruits = [\"banana\",\"orange\",\"apple\"]\n",
    "- Write an expression to test whether \"fruit\" is contained in \"list_fruits\"\n",
    "\n",
    "Hint: Use the \"in\" command. The final output should be True/False.\n",
    "\n",
    "To get full points run all of the above commands\n"
   ]
  },
  {
   "cell_type": "code",
   "execution_count": 44,
   "metadata": {},
   "outputs": [
    {
     "name": "stdout",
     "output_type": "stream",
     "text": [
      "fruit is not in the list\n"
     ]
    }
   ],
   "source": [
    "# Write your own code\n",
    "\n",
    "fruit = 'apple'\n",
    "list_fruits = ['apple', 'banana', 'orange']\n",
    "if 'fruit' in list_fruits:\n",
    "    print('fruit is in the list')\n",
    "else:\n",
    "    print('fruit is not in the list')\n",
    "\n",
    "\n",
    "\n"
   ]
  },
  {
   "cell_type": "markdown",
   "metadata": {},
   "source": [
    "<font size = \"5\">\n",
    "\n",
    "(b) Classifying a variable\n",
    "\n",
    "<font size = \"3\">\n",
    "\n",
    "- Define a new variable \"year\" an assign the value \"2008\"\n",
    "- Write an if/else statement that does the following\n",
    "    - print(\"Year 2000 or earlier\") if the year is less than or equal to  2000.\n",
    "    - print(\"Between 2001 and 2005\") if the year is between 2001 and 2005.\n",
    "    - print(\"Year 2006 or later\") if the year is after 2005.\n",
    "\n",
    "To get full points you must do all of the above instructions\n"
   ]
  },
  {
   "cell_type": "code",
   "execution_count": 45,
   "metadata": {},
   "outputs": [
    {
     "name": "stdout",
     "output_type": "stream",
     "text": [
      "2006 or later\n"
     ]
    }
   ],
   "source": [
    "# Write your own code\n",
    "\n",
    "year = 2008\n",
    "\n",
    "if year<= 2000:\n",
    "    print(\"Year 2000 or earlier\")\n",
    "elif 2000 < year <= 2005:\n",
    "    print(\"Between 2001 and 2005\")\n",
    "else:\n",
    "    print (\"2006 or later\")\n",
    "\n",
    "\n"
   ]
  },
  {
   "cell_type": "markdown",
   "metadata": {},
   "source": [
    "<font size = \"5\">\n",
    "\n",
    "(c) Split a dataset into subsets\n",
    "\n",
    "<font size = \"3\">\n",
    "\n",
    "- Create ``` list_status = [0,1]```\n",
    "- Create ``` list_prob = [0.5, 0.5]```\n",
    "- Create a new variable $n = 1000$ with the number of rows of the dataset\n",
    "- Use \n",
    "```python\n",
    "    np.random.choice(list_status,\n",
    "                     size = n,\n",
    "                     p = list_prob)\n",
    "```\n",
    "$\\qquad$ to create a new column called \"status\" <br>\n",
    "$\\qquad$ which randomly assigns each row to \"0\" or \"1\" <br>\n",
    "$\\qquad$ with equal probability\n",
    "- Use .query() to subset all observations with status == 0.<br>\n",
    "store it in a new dataset called \"data0\"\n",
    "- Use .query() to subset all observations with status == 1.<br>\n",
    "store it in a new dataset called \"data1\"\n",
    "\n"
   ]
  },
  {
   "cell_type": "code",
   "execution_count": null,
   "metadata": {
    "vscode": {
     "languageId": "r"
    }
   },
   "outputs": [],
   "source": [
    "# Create a DataFrame with a \"status\" column\n",
    "n = 1000\n",
    "list_status = [0,1]\n",
    "list_prob = [0.5,0.5]\n",
    "status = np.random.choice(list_status, size = 1000, p = list_prob)\n",
    "df_status = pd.DataFrame({'status': status})\n",
    "\n",
    "# Subset observations with status == 0 and status == 1\n",
    "data0 = df_status.query('status == 0')\n",
    "data1 = df_status.query('status == 1')\n",
    "\n",
    "# Print value counts\n",
    "print(\"Number of rows with status == 0:\", len(data0))\n",
    "print(\"Number of rows with status == 1:\", len(data1))"
   ]
  },
  {
   "cell_type": "markdown",
   "metadata": {},
   "source": [
    "<font size = \"5\">\n",
    "\n",
    "For questions (d) through (f) mport the dataset <br>\n",
    " \"data_raw/fifa23_players_basic.csv\"\n",
    "\n",
    "<font size = \"3\">\n",
    "\n",
    "- It's a dataset on professional soccer players\n",
    "- Rows correspond to players (18,539)\n",
    "- Columns contain attributes of players (32)\n",
    "- Try to view the dataset before starting"
   ]
  },
  {
   "cell_type": "code",
   "execution_count": 46,
   "metadata": {},
   "outputs": [],
   "source": [
    "# Write your own code\n",
    "df =  pd.read_csv(\"data_raw/fifa23_players_basic.csv\")\n",
    "\n",
    "\n",
    "\n"
   ]
  },
  {
   "cell_type": "markdown",
   "metadata": {},
   "source": [
    "<font size = \"5\">\n",
    "\n",
    "(d) Create a new dataset subsetting the <br>\n",
    "players whose age is less than 20\n",
    "\n",
    "- Read the dataset using `pd.read_csv(df)`\n",
    "- Subset the players whose \"Age\" is less than 20 using `.query(\"Age < 20\")`\n",
    "- Store the result in a new variable, e.g., `young_players`"
   ]
  },
  {
   "cell_type": "code",
   "execution_count": 47,
   "metadata": {},
   "outputs": [],
   "source": [
    "# Write your own code\n",
    "\n",
    "young_players = df.query('Age < 20')\n",
    "\n",
    "\n",
    "\n"
   ]
  },
  {
   "cell_type": "markdown",
   "metadata": {},
   "source": [
    "<font size = \"5\">\n",
    "\n",
    "(e) Use queries + global variables\n",
    "\n",
    "<font size = \"3\">\n",
    "\n",
    "- Compute the mean of the column \"Value(in Euro)\" <br>\n",
    "and store it as a variable\n",
    "- Subset the players whose value is above the mean value <br>\n",
    "  using \".query()\"\n",
    "\n",
    "\n",
    "HINT: Remember that there is a special syntax for <br>\n",
    "when the column names have spaces (see Lecture 10) <br>\n",
    "Reference the column as ``` `Value(in Euro)`    ``` inside .query()"
   ]
  },
  {
   "cell_type": "code",
   "execution_count": 48,
   "metadata": {},
   "outputs": [],
   "source": [
    "# Compute the mean of the \"Value(in Euro)\" column\n",
    "mean_value = df[\"Value(in Euro)\"].mean()\n",
    "\n",
    "# Subset players whose value is above the mean\n",
    "above_mean_value = df.query(\"`Value(in Euro)` > @mean_value\")"
   ]
  },
  {
   "cell_type": "code",
   "execution_count": 49,
   "metadata": {},
   "outputs": [],
   "source": [
    "# Write your own code\n",
    "\n",
    "\n",
    "\n",
    "\n",
    "\n"
   ]
  },
  {
   "cell_type": "markdown",
   "metadata": {},
   "source": [
    "<font size = \"5\">\n",
    "\n",
    "(f) Use sorting + \".iloc[]\"\n",
    "\n",
    "<font size = \"3\">\n",
    "\n",
    "- Use \".sort_values()\" to order the \"Age\" column <br>\n",
    "from youngest to oldest\n",
    "- Get a subset with the 5 youngest players"
   ]
  },
  {
   "cell_type": "code",
   "execution_count": 50,
   "metadata": {},
   "outputs": [
    {
     "name": "stdout",
     "output_type": "stream",
     "text": [
      "               Known As  Age\n",
      "18524        A. Brînzea   16\n",
      "18459          E. Topcu   16\n",
      "18447       Du Yuezheng   16\n",
      "14747  A. Benyahia-Tani   16\n",
      "18425         M. Moraru   16\n"
     ]
    }
   ],
   "source": [
    "# Write your own code\n",
    "sorted_age = df.sort_values(by='Age', ascending=True)\n",
    "youngest_players = sorted_age.iloc[:5]\n",
    "# Use double brackets to select multiple columns by their exact names\n",
    "print(youngest_players[['Known As', 'Age']])\n",
    "\n",
    "\n",
    "\n",
    "\n"
   ]
  },
  {
   "cell_type": "markdown",
   "metadata": {},
   "source": [
    "<font size = \"5\">\n",
    "For questions (h)-(i), read \"data_raw/wdi_2020.csv\" <br>\n",
    "This is a dataset of countries from <br>\n",
    "the World Development Indicators"
   ]
  },
  {
   "cell_type": "markdown",
   "metadata": {},
   "source": [
    "<font size = \"5\">\n",
    "\n",
    "(g) Extract sorted elements from a dataset\n",
    "\n",
    "<font size = \"3\">\n",
    "\n",
    "- Sort by \"prop_urbanpopulation\" in descending order\n",
    "- Subset the 5 countries with the highest urban population"
   ]
  },
  {
   "cell_type": "code",
   "execution_count": 51,
   "metadata": {},
   "outputs": [
    {
     "name": "stdout",
     "output_type": "stream",
     "text": [
      "Highest countries:      year yearcode           countryname countrycode  prop_urbanpopulation\n",
      "103  2020   YR2020  Hong Kong SAR, China         HKG                 100.0\n",
      "147  2020   YR2020      Macao SAR, China         MAC                 100.0\n",
      "128  2020   YR2020                Kuwait         KWT                 100.0\n",
      "171  2020   YR2020                 Nauru         NRU                 100.0\n",
      "164  2020   YR2020                Monaco         MCO                 100.0\n"
     ]
    }
   ],
   "source": [
    "# Write your own code\n",
    "\n",
    "wdi_2020 = pd.read_csv(\"data_raw/wdi_2020.csv\")\n",
    "pop_countries = wdi_2020.sort_values(by='prop_urbanpopulation', ascending=False)\n",
    "highest_countries = pop_countries.iloc[:5]\n",
    "print(f'Highest countries: {highest_countries}')\n",
    "\n",
    "\n"
   ]
  },
  {
   "cell_type": "markdown",
   "metadata": {},
   "source": [
    "<font size = \"5\">\n",
    "\n",
    "(h) Subset elements with query\n",
    "\n",
    "<font size = \"3\">\n",
    "\n",
    "- Compute the median of \"prop_urbanpopulation\"\n",
    "- Use \".query()\" to subset countries with <br>\n",
    " \"prop_urbanpopulation\" above the median"
   ]
  },
  {
   "cell_type": "code",
   "execution_count": 52,
   "metadata": {},
   "outputs": [
    {
     "name": "stdout",
     "output_type": "stream",
     "text": [
      "60.69872843\n",
      "     year yearcode            countryname countrycode  prop_urbanpopulation\n",
      "3    2020   YR2020                Albania         ALB             62.112000\n",
      "4    2020   YR2020                Algeria         DZA             73.733000\n",
      "5    2020   YR2020         American Samoa         ASM             87.153000\n",
      "6    2020   YR2020                Andorra         AND             87.916000\n",
      "7    2020   YR2020                 Angola         AGO             66.825000\n",
      "..    ...      ...                    ...         ...                   ...\n",
      "254  2020   YR2020    Upper middle income         UMC             67.601442\n",
      "255  2020   YR2020                Uruguay         URY             95.515000\n",
      "258  2020   YR2020          Venezuela, RB         VEN             88.279000\n",
      "260  2020   YR2020  Virgin Islands (U.S.)         VIR             95.939000\n",
      "261  2020   YR2020     West Bank and Gaza         PSE             76.719000\n",
      "\n",
      "[131 rows x 5 columns]\n"
     ]
    }
   ],
   "source": [
    "# Write your own code\n",
    "median_value = wdi_2020['prop_urbanpopulation'].median()\n",
    "print(median_value)\n",
    "above_median = wdi_2020.query('prop_urbanpopulation > @median_value')\n",
    "print(above_median)\n",
    "\n",
    "\n",
    "\n",
    "\n"
   ]
  },
  {
   "cell_type": "markdown",
   "metadata": {},
   "source": [
    "<font size = \"5\">\n",
    "\n",
    "(i) Plot by category\n",
    "\n",
    "<font size = \"3\">\n",
    "\n",
    "- Read \"data_raw/wdi_urban.csv\"<br>\n",
    "This contains data from 1980 and 2020\n",
    "\n",
    "- Create a list with the unique values of \"year\"\n",
    "- Create a plot with a ...\n",
    "    - Histogram of \"prop_urbanpopulation\" <br>\n",
    "    for each year\n",
    "    - Set the histogram option ``` alpha = 0.5 ``` for transparency\n",
    "    - All the histograms should be overlapping\n",
    "    - Create a legend with the list of years\n",
    "    - Label the axes and the title\n",
    "\n",
    "What do we learn from the graph?\n",
    "\n",
    "HINT: See the example at the end of Lecture 10\n"
   ]
  },
  {
   "cell_type": "code",
   "execution_count": null,
   "metadata": {
    "vscode": {
     "languageId": "r"
    }
   },
   "outputs": [],
   "source": [
    "import plotly.express as px\n",
    "import pandas as pd\n",
    "\n",
    "urban_df = pd.read_csv(\"data_raw/wdi_urban.csv\")\n",
    "\n",
    "fig = px.histogram(\n",
    "    urban_df,\n",
    "    x=\"prop_urbanpopulation\",\n",
    "    color=\"year\",\n",
    "    nbins=20,\n",
    "    opacity=0.5,\n",
    "    barmode=\"overlay\",\n",
    "    labels={\"prop_urbanpopulation\": \"Proportion Urban Population\", \"year\": \"Year\"},\n",
    "    title=\"Distribution of Urban Population Proportion by Year\"\n",
    ")\n",
    "fig.show()"
   ]
  },
  {
   "cell_type": "markdown",
   "metadata": {},
   "source": [
    "# Review of last lecture\n"
   ]
  },
  {
   "cell_type": "markdown",
   "metadata": {},
   "source": [
    "<font size = \"5\">\n",
    "\n",
    "(k) Composite operations on arrays\n",
    "\n",
    "<font size = \"3\">\n",
    "\n",
    "- Define $r = 0.04$\n",
    "- Define two arrays $A$ and $T$ using \"np.array()\", assigning the following values\n",
    "\n",
    "$ a = \\begin{pmatrix} a_0 \\\\ a_1 \\\\ a_2 \\end{pmatrix} =  \\begin{pmatrix} 20 \\\\ 30 \\\\ 15 \\end{pmatrix},\n",
    "\\qquad  t = \\begin{pmatrix} t_0 \\\\ t_1 \\\\ t_2 \\end{pmatrix} = \\begin{pmatrix} 0 \\\\ 1 \\\\ 2 \\end{pmatrix} $\n",
    "\n",
    "- Use element-by-element vector operations to compute a new array $M$ of length 3:\n",
    "\n",
    "$ M = \\begin{pmatrix} a_1 / (1+r)^{t_0}  \\\\ a_2 / (1+r)^{t_1} \\\\ a_3 / (1+r)^{t_2} \\end{pmatrix} $\n",
    "\n",
    "- Compute the sum of the values of $M$ using \"M.sum()\"\n",
    "\n",
    "Note: I am using subscripts to denote the individual elements of $a$ and $t$.\n",
    "- In the code just enter the values of $a$ and $t$.\n",
    "- To get full points you must do all of the above tasks\n",
    "\n"
   ]
  },
  {
   "cell_type": "code",
   "execution_count": 53,
   "metadata": {},
   "outputs": [
    {
     "name": "stdout",
     "output_type": "stream",
     "text": [
      "M: [20.         28.84615385 13.8683432 ]\n",
      "Sum of M: 62.71449704142012\n"
     ]
    }
   ],
   "source": [
    "# Write your own code\n",
    "\n",
    "r = 0.04\n",
    "a = np.array([20,30,15])\n",
    "t = np.array([0,1,2])\n",
    "M = a/(1+r)**t\n",
    "print(f'M: {M}')\n",
    "print(f'Sum of M: {M.sum()}')\n",
    "\n",
    "\n",
    "\n"
   ]
  }
 ],
 "metadata": {
  "kernelspec": {
   "display_name": "base",
   "language": "python",
   "name": "python3"
  },
  "language_info": {
   "codemirror_mode": {
    "name": "ipython",
    "version": 3
   },
   "file_extension": ".py",
   "mimetype": "text/x-python",
   "name": "python",
   "nbconvert_exporter": "python",
   "pygments_lexer": "ipython3",
   "version": "3.12.7"
  },
  "orig_nbformat": 4
 },
 "nbformat": 4,
 "nbformat_minor": 2
}
