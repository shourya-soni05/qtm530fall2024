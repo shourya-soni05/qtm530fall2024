{
 "cells": [
  {
   "attachments": {},
   "cell_type": "markdown",
   "metadata": {},
   "source": [
    "# <span style=\"color:darkblue\"> Lecture 8b: Map </span>\n",
    "\n",
    "<font size = \"5\">\n",
    "\n",
    "In the previous lecture we ...\n",
    "\n",
    "- Worked through the definition of functions\n",
    "- Illustrated some examples\n",
    "\n",
    "In this lecture, we will ...\n",
    "\n",
    "- Discuss the syntax of functions (local/global)\n",
    "- Apply functions to multiple elements in a data frame\n",
    "- Introduce \".py\" files"
   ]
  },
  {
   "attachments": {},
   "cell_type": "markdown",
   "metadata": {},
   "source": [
    "## <span style=\"color:darkblue\"> I. Import Libraries </span>"
   ]
  },
  {
   "cell_type": "code",
   "execution_count": 1,
   "metadata": {},
   "outputs": [],
   "source": [
    "# the \"pandas\" library is for manipualting datasets\n",
    "\n",
    "import pandas as pd\n",
    "import numpy as np\n"
   ]
  },
  {
   "attachments": {},
   "cell_type": "markdown",
   "metadata": {},
   "source": [
    "## <span style=\"color:darkblue\"> II. Operations over data frames (map) </span>\n"
   ]
  },
  {
   "attachments": {},
   "cell_type": "markdown",
   "metadata": {},
   "source": [
    "<font size = \"5\">\n",
    "\n",
    "Create an empty data frame"
   ]
  },
  {
   "cell_type": "code",
   "execution_count": 2,
   "metadata": {},
   "outputs": [],
   "source": [
    "data  = pd.DataFrame()"
   ]
  },
  {
   "cell_type": "code",
   "execution_count": 3,
   "metadata": {},
   "outputs": [
    {
     "name": "stdout",
     "output_type": "stream",
     "text": [
      "Empty DataFrame\n",
      "Columns: []\n",
      "Index: []\n"
     ]
    }
   ],
   "source": [
    "print(data)"
   ]
  },
  {
   "attachments": {},
   "cell_type": "markdown",
   "metadata": {},
   "source": [
    "<font size = \"5\">\n",
    "\n",
    "Add variables"
   ]
  },
  {
   "cell_type": "code",
   "execution_count": 4,
   "metadata": {},
   "outputs": [],
   "source": [
    "# The following are lists with values for different individuals\n",
    "# \"age\" is the number of years\n",
    "# \"num_underage_siblings\" is the total number of underage siblings\n",
    "# \"num_adult_siblings\" is the total number of adult siblings\n",
    "\n",
    "data[\"age\"] = [18,29,15,32,6]\n",
    "data[\"num_underage_siblings\"] = [0,0,1,1,0]\n",
    "data[\"num_adult_siblings\"] = [1,0,0,1,0]\n"
   ]
  },
  {
   "cell_type": "code",
   "execution_count": 5,
   "metadata": {},
   "outputs": [
    {
     "data": {
      "application/vnd.microsoft.datawrangler.viewer.v0+json": {
       "columns": [
        {
         "name": "index",
         "rawType": "int64",
         "type": "integer"
        },
        {
         "name": "age",
         "rawType": "int64",
         "type": "integer"
        },
        {
         "name": "num_underage_siblings",
         "rawType": "int64",
         "type": "integer"
        },
        {
         "name": "num_adult_siblings",
         "rawType": "int64",
         "type": "integer"
        }
       ],
       "ref": "ab725baa-6f1c-42c4-a4dc-7258b9636797",
       "rows": [
        [
         "0",
         "18",
         "0",
         "1"
        ],
        [
         "1",
         "29",
         "0",
         "0"
        ],
        [
         "2",
         "15",
         "1",
         "0"
        ],
        [
         "3",
         "32",
         "1",
         "1"
        ],
        [
         "4",
         "6",
         "0",
         "0"
        ]
       ],
       "shape": {
        "columns": 3,
        "rows": 5
       }
      },
      "text/html": [
       "<div>\n",
       "<style scoped>\n",
       "    .dataframe tbody tr th:only-of-type {\n",
       "        vertical-align: middle;\n",
       "    }\n",
       "\n",
       "    .dataframe tbody tr th {\n",
       "        vertical-align: top;\n",
       "    }\n",
       "\n",
       "    .dataframe thead th {\n",
       "        text-align: right;\n",
       "    }\n",
       "</style>\n",
       "<table border=\"1\" class=\"dataframe\">\n",
       "  <thead>\n",
       "    <tr style=\"text-align: right;\">\n",
       "      <th></th>\n",
       "      <th>age</th>\n",
       "      <th>num_underage_siblings</th>\n",
       "      <th>num_adult_siblings</th>\n",
       "    </tr>\n",
       "  </thead>\n",
       "  <tbody>\n",
       "    <tr>\n",
       "      <th>0</th>\n",
       "      <td>18</td>\n",
       "      <td>0</td>\n",
       "      <td>1</td>\n",
       "    </tr>\n",
       "    <tr>\n",
       "      <th>1</th>\n",
       "      <td>29</td>\n",
       "      <td>0</td>\n",
       "      <td>0</td>\n",
       "    </tr>\n",
       "    <tr>\n",
       "      <th>2</th>\n",
       "      <td>15</td>\n",
       "      <td>1</td>\n",
       "      <td>0</td>\n",
       "    </tr>\n",
       "    <tr>\n",
       "      <th>3</th>\n",
       "      <td>32</td>\n",
       "      <td>1</td>\n",
       "      <td>1</td>\n",
       "    </tr>\n",
       "    <tr>\n",
       "      <th>4</th>\n",
       "      <td>6</td>\n",
       "      <td>0</td>\n",
       "      <td>0</td>\n",
       "    </tr>\n",
       "  </tbody>\n",
       "</table>\n",
       "</div>"
      ],
      "text/plain": [
       "   age  num_underage_siblings  num_adult_siblings\n",
       "0   18                      0                   1\n",
       "1   29                      0                   0\n",
       "2   15                      1                   0\n",
       "3   32                      1                   1\n",
       "4    6                      0                   0"
      ]
     },
     "execution_count": 5,
     "metadata": {},
     "output_type": "execute_result"
    }
   ],
   "source": [
    "data"
   ]
  },
  {
   "attachments": {},
   "cell_type": "markdown",
   "metadata": {},
   "source": [
    "<font size = \"5\">\n",
    "\n",
    "Define functions"
   ]
  },
  {
   "cell_type": "code",
   "execution_count": 6,
   "metadata": {},
   "outputs": [],
   "source": [
    "# The first two functions return True/False depending on age constraints\n",
    "# The third function returns the sum of two numbers\n",
    "# The fourt function returns a string with the age bracket\n",
    "\n",
    "fn_iseligible_vote = lambda age: age >= 18\n",
    "\n",
    "fn_istwenties = lambda age: (age >= 20) & (age < 30)\n",
    "\n",
    "fn_sum = lambda x,y: x + y\n",
    "\n",
    "def fn_agebracket(age):\n",
    "    if (age >= 18):\n",
    "        status = \"Adult\"\n",
    "    elif (age >= 10) & (age < 18):\n",
    "        status = \"Adolescent\"\n",
    "    else:\n",
    "        status = \"Child\"\n",
    "    return(status)\n"
   ]
  },
  {
   "attachments": {},
   "cell_type": "markdown",
   "metadata": {},
   "source": [
    "<font size = \"5\">\n",
    "Applying functions with one argument: <br>\n",
    "\n",
    "```python\n",
    " apply(myfunction)\n",
    " ```\n",
    " - Takes a dataframe series (a column vector) as an input\n",
    " - Computes function separately for each individual\n"
   ]
  },
  {
   "cell_type": "code",
   "execution_count": 7,
   "metadata": {},
   "outputs": [
    {
     "data": {
      "application/vnd.microsoft.datawrangler.viewer.v0+json": {
       "columns": [
        {
         "name": "index",
         "rawType": "int64",
         "type": "integer"
        },
        {
         "name": "age",
         "rawType": "int64",
         "type": "integer"
        },
        {
         "name": "num_underage_siblings",
         "rawType": "int64",
         "type": "integer"
        },
        {
         "name": "num_adult_siblings",
         "rawType": "int64",
         "type": "integer"
        },
        {
         "name": "can_vote",
         "rawType": "bool",
         "type": "boolean"
        },
        {
         "name": "in_twenties",
         "rawType": "bool",
         "type": "boolean"
        },
        {
         "name": "age_bracket",
         "rawType": "object",
         "type": "string"
        }
       ],
       "ref": "065c2857-c6d5-4ef3-afe0-f3b75dec820d",
       "rows": [
        [
         "0",
         "18",
         "0",
         "1",
         "True",
         "False",
         "Adult"
        ],
        [
         "1",
         "29",
         "0",
         "0",
         "True",
         "True",
         "Adult"
        ],
        [
         "2",
         "15",
         "1",
         "0",
         "False",
         "False",
         "Adolescent"
        ],
        [
         "3",
         "32",
         "1",
         "1",
         "True",
         "False",
         "Adult"
        ],
        [
         "4",
         "6",
         "0",
         "0",
         "False",
         "False",
         "Child"
        ]
       ],
       "shape": {
        "columns": 6,
        "rows": 5
       }
      },
      "text/html": [
       "<div>\n",
       "<style scoped>\n",
       "    .dataframe tbody tr th:only-of-type {\n",
       "        vertical-align: middle;\n",
       "    }\n",
       "\n",
       "    .dataframe tbody tr th {\n",
       "        vertical-align: top;\n",
       "    }\n",
       "\n",
       "    .dataframe thead th {\n",
       "        text-align: right;\n",
       "    }\n",
       "</style>\n",
       "<table border=\"1\" class=\"dataframe\">\n",
       "  <thead>\n",
       "    <tr style=\"text-align: right;\">\n",
       "      <th></th>\n",
       "      <th>age</th>\n",
       "      <th>num_underage_siblings</th>\n",
       "      <th>num_adult_siblings</th>\n",
       "      <th>can_vote</th>\n",
       "      <th>in_twenties</th>\n",
       "      <th>age_bracket</th>\n",
       "    </tr>\n",
       "  </thead>\n",
       "  <tbody>\n",
       "    <tr>\n",
       "      <th>0</th>\n",
       "      <td>18</td>\n",
       "      <td>0</td>\n",
       "      <td>1</td>\n",
       "      <td>True</td>\n",
       "      <td>False</td>\n",
       "      <td>Adult</td>\n",
       "    </tr>\n",
       "    <tr>\n",
       "      <th>1</th>\n",
       "      <td>29</td>\n",
       "      <td>0</td>\n",
       "      <td>0</td>\n",
       "      <td>True</td>\n",
       "      <td>True</td>\n",
       "      <td>Adult</td>\n",
       "    </tr>\n",
       "    <tr>\n",
       "      <th>2</th>\n",
       "      <td>15</td>\n",
       "      <td>1</td>\n",
       "      <td>0</td>\n",
       "      <td>False</td>\n",
       "      <td>False</td>\n",
       "      <td>Adolescent</td>\n",
       "    </tr>\n",
       "    <tr>\n",
       "      <th>3</th>\n",
       "      <td>32</td>\n",
       "      <td>1</td>\n",
       "      <td>1</td>\n",
       "      <td>True</td>\n",
       "      <td>False</td>\n",
       "      <td>Adult</td>\n",
       "    </tr>\n",
       "    <tr>\n",
       "      <th>4</th>\n",
       "      <td>6</td>\n",
       "      <td>0</td>\n",
       "      <td>0</td>\n",
       "      <td>False</td>\n",
       "      <td>False</td>\n",
       "      <td>Child</td>\n",
       "    </tr>\n",
       "  </tbody>\n",
       "</table>\n",
       "</div>"
      ],
      "text/plain": [
       "   age  num_underage_siblings  num_adult_siblings  can_vote  in_twenties  \\\n",
       "0   18                      0                   1      True        False   \n",
       "1   29                      0                   0      True         True   \n",
       "2   15                      1                   0     False        False   \n",
       "3   32                      1                   1      True        False   \n",
       "4    6                      0                   0     False        False   \n",
       "\n",
       "  age_bracket  \n",
       "0       Adult  \n",
       "1       Adult  \n",
       "2  Adolescent  \n",
       "3       Adult  \n",
       "4       Child  "
      ]
     },
     "metadata": {},
     "output_type": "display_data"
    }
   ],
   "source": [
    "# The fucntion \"apply\" will extract each element and return the function value\n",
    "# It is similar to running a \"for-loop\" over each element\n",
    "\n",
    "data[\"can_vote\"]    = data[\"age\"].apply(fn_iseligible_vote)\n",
    "data[\"in_twenties\"] = data[\"age\"].apply(fn_istwenties)\n",
    "data[\"age_bracket\"] = data[\"age\"].apply(fn_agebracket)\n",
    "\n",
    "\n",
    "# NOTE: The following code also works:\n",
    "# data[\"can_vote\"]    = data[\"age\"].apply(lambda age: age >= 18)\n",
    "# data[\"in_twenties\"] = data[\"age\"].apply(lambda age: (age >= 20) & (age < 30))\n",
    "\n",
    "display(data)\n"
   ]
  },
  {
   "cell_type": "markdown",
   "metadata": {},
   "source": [
    "<font size = \"5\">\n",
    "\n",
    "Creating a new variable"
   ]
  },
  {
   "cell_type": "code",
   "execution_count": 8,
   "metadata": {},
   "outputs": [
    {
     "data": {
      "application/vnd.microsoft.datawrangler.viewer.v0+json": {
       "columns": [
        {
         "name": "index",
         "rawType": "int64",
         "type": "integer"
        },
        {
         "name": "age",
         "rawType": "int64",
         "type": "integer"
        },
        {
         "name": "num_underage_siblings",
         "rawType": "int64",
         "type": "integer"
        },
        {
         "name": "num_adult_siblings",
         "rawType": "int64",
         "type": "integer"
        },
        {
         "name": "can_vote",
         "rawType": "bool",
         "type": "boolean"
        },
        {
         "name": "in_twenties",
         "rawType": "bool",
         "type": "boolean"
        },
        {
         "name": "age_bracket",
         "rawType": "object",
         "type": "string"
        },
        {
         "name": "new_var",
         "rawType": "bool",
         "type": "boolean"
        }
       ],
       "ref": "d349b5e9-a6c5-4831-94e1-911ef39ce80c",
       "rows": [
        [
         "0",
         "18",
         "0",
         "1",
         "True",
         "False",
         "Adult",
         "True"
        ],
        [
         "1",
         "29",
         "0",
         "0",
         "True",
         "True",
         "Adult",
         "True"
        ],
        [
         "2",
         "15",
         "1",
         "0",
         "False",
         "False",
         "Adolescent",
         "False"
        ],
        [
         "3",
         "32",
         "1",
         "1",
         "True",
         "False",
         "Adult",
         "True"
        ],
        [
         "4",
         "6",
         "0",
         "0",
         "False",
         "False",
         "Child",
         "False"
        ]
       ],
       "shape": {
        "columns": 7,
        "rows": 5
       }
      },
      "text/html": [
       "<div>\n",
       "<style scoped>\n",
       "    .dataframe tbody tr th:only-of-type {\n",
       "        vertical-align: middle;\n",
       "    }\n",
       "\n",
       "    .dataframe tbody tr th {\n",
       "        vertical-align: top;\n",
       "    }\n",
       "\n",
       "    .dataframe thead th {\n",
       "        text-align: right;\n",
       "    }\n",
       "</style>\n",
       "<table border=\"1\" class=\"dataframe\">\n",
       "  <thead>\n",
       "    <tr style=\"text-align: right;\">\n",
       "      <th></th>\n",
       "      <th>age</th>\n",
       "      <th>num_underage_siblings</th>\n",
       "      <th>num_adult_siblings</th>\n",
       "      <th>can_vote</th>\n",
       "      <th>in_twenties</th>\n",
       "      <th>age_bracket</th>\n",
       "      <th>new_var</th>\n",
       "    </tr>\n",
       "  </thead>\n",
       "  <tbody>\n",
       "    <tr>\n",
       "      <th>0</th>\n",
       "      <td>18</td>\n",
       "      <td>0</td>\n",
       "      <td>1</td>\n",
       "      <td>True</td>\n",
       "      <td>False</td>\n",
       "      <td>Adult</td>\n",
       "      <td>True</td>\n",
       "    </tr>\n",
       "    <tr>\n",
       "      <th>1</th>\n",
       "      <td>29</td>\n",
       "      <td>0</td>\n",
       "      <td>0</td>\n",
       "      <td>True</td>\n",
       "      <td>True</td>\n",
       "      <td>Adult</td>\n",
       "      <td>True</td>\n",
       "    </tr>\n",
       "    <tr>\n",
       "      <th>2</th>\n",
       "      <td>15</td>\n",
       "      <td>1</td>\n",
       "      <td>0</td>\n",
       "      <td>False</td>\n",
       "      <td>False</td>\n",
       "      <td>Adolescent</td>\n",
       "      <td>False</td>\n",
       "    </tr>\n",
       "    <tr>\n",
       "      <th>3</th>\n",
       "      <td>32</td>\n",
       "      <td>1</td>\n",
       "      <td>1</td>\n",
       "      <td>True</td>\n",
       "      <td>False</td>\n",
       "      <td>Adult</td>\n",
       "      <td>True</td>\n",
       "    </tr>\n",
       "    <tr>\n",
       "      <th>4</th>\n",
       "      <td>6</td>\n",
       "      <td>0</td>\n",
       "      <td>0</td>\n",
       "      <td>False</td>\n",
       "      <td>False</td>\n",
       "      <td>Child</td>\n",
       "      <td>False</td>\n",
       "    </tr>\n",
       "  </tbody>\n",
       "</table>\n",
       "</div>"
      ],
      "text/plain": [
       "   age  num_underage_siblings  num_adult_siblings  can_vote  in_twenties  \\\n",
       "0   18                      0                   1      True        False   \n",
       "1   29                      0                   0      True         True   \n",
       "2   15                      1                   0     False        False   \n",
       "3   32                      1                   1      True        False   \n",
       "4    6                      0                   0     False        False   \n",
       "\n",
       "  age_bracket  new_var  \n",
       "0       Adult     True  \n",
       "1       Adult     True  \n",
       "2  Adolescent    False  \n",
       "3       Adult     True  \n",
       "4       Child    False  "
      ]
     },
     "execution_count": 8,
     "metadata": {},
     "output_type": "execute_result"
    }
   ],
   "source": [
    "data['new_var'] = data['age'].apply(lambda age: age >= 18)\n",
    "data"
   ]
  },
  {
   "cell_type": "markdown",
   "metadata": {},
   "source": [
    "<font size = \"5\">\n",
    "\n",
    "Dropping an existing variable"
   ]
  },
  {
   "cell_type": "code",
   "execution_count": 9,
   "metadata": {},
   "outputs": [
    {
     "data": {
      "application/vnd.microsoft.datawrangler.viewer.v0+json": {
       "columns": [
        {
         "name": "index",
         "rawType": "int64",
         "type": "integer"
        },
        {
         "name": "age",
         "rawType": "int64",
         "type": "integer"
        },
        {
         "name": "num_underage_siblings",
         "rawType": "int64",
         "type": "integer"
        },
        {
         "name": "num_adult_siblings",
         "rawType": "int64",
         "type": "integer"
        },
        {
         "name": "can_vote",
         "rawType": "bool",
         "type": "boolean"
        },
        {
         "name": "in_twenties",
         "rawType": "bool",
         "type": "boolean"
        },
        {
         "name": "age_bracket",
         "rawType": "object",
         "type": "string"
        }
       ],
       "ref": "dd647465-395b-4887-86b7-a228535fc21b",
       "rows": [
        [
         "0",
         "18",
         "0",
         "1",
         "True",
         "False",
         "Adult"
        ],
        [
         "1",
         "29",
         "0",
         "0",
         "True",
         "True",
         "Adult"
        ],
        [
         "2",
         "15",
         "1",
         "0",
         "False",
         "False",
         "Adolescent"
        ],
        [
         "3",
         "32",
         "1",
         "1",
         "True",
         "False",
         "Adult"
        ],
        [
         "4",
         "6",
         "0",
         "0",
         "False",
         "False",
         "Child"
        ]
       ],
       "shape": {
        "columns": 6,
        "rows": 5
       }
      },
      "text/html": [
       "<div>\n",
       "<style scoped>\n",
       "    .dataframe tbody tr th:only-of-type {\n",
       "        vertical-align: middle;\n",
       "    }\n",
       "\n",
       "    .dataframe tbody tr th {\n",
       "        vertical-align: top;\n",
       "    }\n",
       "\n",
       "    .dataframe thead th {\n",
       "        text-align: right;\n",
       "    }\n",
       "</style>\n",
       "<table border=\"1\" class=\"dataframe\">\n",
       "  <thead>\n",
       "    <tr style=\"text-align: right;\">\n",
       "      <th></th>\n",
       "      <th>age</th>\n",
       "      <th>num_underage_siblings</th>\n",
       "      <th>num_adult_siblings</th>\n",
       "      <th>can_vote</th>\n",
       "      <th>in_twenties</th>\n",
       "      <th>age_bracket</th>\n",
       "    </tr>\n",
       "  </thead>\n",
       "  <tbody>\n",
       "    <tr>\n",
       "      <th>0</th>\n",
       "      <td>18</td>\n",
       "      <td>0</td>\n",
       "      <td>1</td>\n",
       "      <td>True</td>\n",
       "      <td>False</td>\n",
       "      <td>Adult</td>\n",
       "    </tr>\n",
       "    <tr>\n",
       "      <th>1</th>\n",
       "      <td>29</td>\n",
       "      <td>0</td>\n",
       "      <td>0</td>\n",
       "      <td>True</td>\n",
       "      <td>True</td>\n",
       "      <td>Adult</td>\n",
       "    </tr>\n",
       "    <tr>\n",
       "      <th>2</th>\n",
       "      <td>15</td>\n",
       "      <td>1</td>\n",
       "      <td>0</td>\n",
       "      <td>False</td>\n",
       "      <td>False</td>\n",
       "      <td>Adolescent</td>\n",
       "    </tr>\n",
       "    <tr>\n",
       "      <th>3</th>\n",
       "      <td>32</td>\n",
       "      <td>1</td>\n",
       "      <td>1</td>\n",
       "      <td>True</td>\n",
       "      <td>False</td>\n",
       "      <td>Adult</td>\n",
       "    </tr>\n",
       "    <tr>\n",
       "      <th>4</th>\n",
       "      <td>6</td>\n",
       "      <td>0</td>\n",
       "      <td>0</td>\n",
       "      <td>False</td>\n",
       "      <td>False</td>\n",
       "      <td>Child</td>\n",
       "    </tr>\n",
       "  </tbody>\n",
       "</table>\n",
       "</div>"
      ],
      "text/plain": [
       "   age  num_underage_siblings  num_adult_siblings  can_vote  in_twenties  \\\n",
       "0   18                      0                   1      True        False   \n",
       "1   29                      0                   0      True         True   \n",
       "2   15                      1                   0     False        False   \n",
       "3   32                      1                   1      True        False   \n",
       "4    6                      0                   0     False        False   \n",
       "\n",
       "  age_bracket  \n",
       "0       Adult  \n",
       "1       Adult  \n",
       "2  Adolescent  \n",
       "3       Adult  \n",
       "4       Child  "
      ]
     },
     "execution_count": 9,
     "metadata": {},
     "output_type": "execute_result"
    }
   ],
   "source": [
    "data = data.drop(columns=['new_var'])\n",
    "data"
   ]
  },
  {
   "attachments": {},
   "cell_type": "markdown",
   "metadata": {},
   "source": [
    "<font size = \"5\">\n",
    "\n",
    "Mapping functions with one or more arguments <br>\n",
    "\n",
    "**Definition:** The ```map()``` function executes a <br>\n",
    "specified function for each item in an iterable <br>\n",
    "(such as a list or an array). <br>\n",
    " The item is sent to the function as a parameter.\n",
    "\n",
    "```python\n",
    "list(map(myfunction, list1,list2, ....))\n",
    "```"
   ]
  },
  {
   "cell_type": "code",
   "execution_count": 10,
   "metadata": {},
   "outputs": [
    {
     "data": {
      "text/plain": [
       "[True, True, False, True, False]"
      ]
     },
     "execution_count": 10,
     "metadata": {},
     "output_type": "execute_result"
    }
   ],
   "source": [
    "list(map(fn_iseligible_vote, data[\"age\"]))"
   ]
  },
  {
   "cell_type": "code",
   "execution_count": 11,
   "metadata": {},
   "outputs": [],
   "source": [
    "# Repeat the above example with map\n",
    "# We use list() to convert the output to a list\n",
    "# The first argument of map() is a function\n",
    "# The following arguments are the subarguments of the function\n",
    "\n",
    "data[\"can_vote_map\"] = list(map(fn_iseligible_vote, data[\"age\"]))"
   ]
  },
  {
   "cell_type": "code",
   "execution_count": 12,
   "metadata": {},
   "outputs": [],
   "source": [
    "# In this example, there are more than two arguments\n",
    "\n",
    "data[\"num_siblings\"] = list(map(fn_sum,\n",
    "                                data[\"num_underage_siblings\"],\n",
    "                                data[\"num_adult_siblings\"]))"
   ]
  },
  {
   "cell_type": "code",
   "execution_count": 13,
   "metadata": {},
   "outputs": [
    {
     "data": {
      "text/plain": [
       "[1, 0, 1, 2, 0]"
      ]
     },
     "execution_count": 13,
     "metadata": {},
     "output_type": "execute_result"
    }
   ],
   "source": [
    "list(map(fn_sum, data[\"num_underage_siblings\"],\n",
    "         data[\"num_adult_siblings\"]))"
   ]
  },
  {
   "cell_type": "code",
   "execution_count": 14,
   "metadata": {},
   "outputs": [
    {
     "data": {
      "application/vnd.microsoft.datawrangler.viewer.v0+json": {
       "columns": [
        {
         "name": "index",
         "rawType": "int64",
         "type": "integer"
        },
        {
         "name": "num_underage_siblings",
         "rawType": "int64",
         "type": "integer"
        }
       ],
       "ref": "69b527a7-3c55-4498-8138-3871ed371dc9",
       "rows": [
        [
         "0",
         "0"
        ],
        [
         "1",
         "0"
        ],
        [
         "2",
         "1"
        ],
        [
         "3",
         "1"
        ],
        [
         "4",
         "0"
        ]
       ],
       "shape": {
        "columns": 1,
        "rows": 5
       }
      },
      "text/plain": [
       "0    0\n",
       "1    0\n",
       "2    1\n",
       "3    1\n",
       "4    0\n",
       "Name: num_underage_siblings, dtype: int64"
      ]
     },
     "execution_count": 14,
     "metadata": {},
     "output_type": "execute_result"
    }
   ],
   "source": [
    "data[\"num_underage_siblings\"]"
   ]
  },
  {
   "cell_type": "code",
   "execution_count": 15,
   "metadata": {},
   "outputs": [
    {
     "data": {
      "application/vnd.microsoft.datawrangler.viewer.v0+json": {
       "columns": [
        {
         "name": "index",
         "rawType": "int64",
         "type": "integer"
        },
        {
         "name": "num_adult_siblings",
         "rawType": "int64",
         "type": "integer"
        }
       ],
       "ref": "2413defc-4927-4db1-b903-77bb0904264c",
       "rows": [
        [
         "0",
         "1"
        ],
        [
         "1",
         "0"
        ],
        [
         "2",
         "0"
        ],
        [
         "3",
         "1"
        ],
        [
         "4",
         "0"
        ]
       ],
       "shape": {
        "columns": 1,
        "rows": 5
       }
      },
      "text/plain": [
       "0    1\n",
       "1    0\n",
       "2    0\n",
       "3    1\n",
       "4    0\n",
       "Name: num_adult_siblings, dtype: int64"
      ]
     },
     "execution_count": 15,
     "metadata": {},
     "output_type": "execute_result"
    }
   ],
   "source": [
    "data[\"num_adult_siblings\"]"
   ]
  },
  {
   "attachments": {},
   "cell_type": "markdown",
   "metadata": {},
   "source": [
    "<font size = \"5\">\n",
    "\n",
    "<span style=\"color:darkgreen\"> Recommended! </span>\n",
    "\n",
    "- Arguments can be split into multiple lines!\n",
    "- Start a separate line after a comma\n",
    "- Experts recommend each line has 80 characters or less"
   ]
  },
  {
   "cell_type": "code",
   "execution_count": 90,
   "metadata": {},
   "outputs": [],
   "source": [
    "data[\"num_siblings\"] = list(map(fn_sum,\n",
    "                                data[\"num_underage_siblings\"],\n",
    "                                data[\"num_adult_siblings\"]))"
   ]
  },
  {
   "attachments": {},
   "cell_type": "markdown",
   "metadata": {},
   "source": [
    "<font size = \"5\">\n",
    "\n",
    "Try it yourself!\n",
    "\n",
    "- Write a function checking whether num_siblings $\\ge$ 1\n",
    "- Add a variable to the dataset called \"has_siblings\"\n",
    "- Assign True/False to this variable using \"apply()\""
   ]
  },
  {
   "cell_type": "code",
   "execution_count": 16,
   "metadata": {},
   "outputs": [
    {
     "data": {
      "application/vnd.microsoft.datawrangler.viewer.v0+json": {
       "columns": [
        {
         "name": "index",
         "rawType": "int64",
         "type": "integer"
        },
        {
         "name": "age",
         "rawType": "int64",
         "type": "integer"
        },
        {
         "name": "num_underage_siblings",
         "rawType": "int64",
         "type": "integer"
        },
        {
         "name": "num_adult_siblings",
         "rawType": "int64",
         "type": "integer"
        },
        {
         "name": "can_vote",
         "rawType": "bool",
         "type": "boolean"
        },
        {
         "name": "in_twenties",
         "rawType": "bool",
         "type": "boolean"
        },
        {
         "name": "age_bracket",
         "rawType": "object",
         "type": "string"
        },
        {
         "name": "can_vote_map",
         "rawType": "bool",
         "type": "boolean"
        },
        {
         "name": "num_siblings",
         "rawType": "int64",
         "type": "integer"
        },
        {
         "name": "has_siblings",
         "rawType": "bool",
         "type": "boolean"
        }
       ],
       "ref": "51c7e3e8-0cfb-4fbf-98f4-162115be0635",
       "rows": [
        [
         "0",
         "18",
         "0",
         "1",
         "True",
         "False",
         "Adult",
         "True",
         "1",
         "True"
        ],
        [
         "1",
         "29",
         "0",
         "0",
         "True",
         "True",
         "Adult",
         "True",
         "0",
         "False"
        ],
        [
         "2",
         "15",
         "1",
         "0",
         "False",
         "False",
         "Adolescent",
         "False",
         "1",
         "True"
        ],
        [
         "3",
         "32",
         "1",
         "1",
         "True",
         "False",
         "Adult",
         "True",
         "2",
         "True"
        ],
        [
         "4",
         "6",
         "0",
         "0",
         "False",
         "False",
         "Child",
         "False",
         "0",
         "False"
        ]
       ],
       "shape": {
        "columns": 9,
        "rows": 5
       }
      },
      "text/html": [
       "<div>\n",
       "<style scoped>\n",
       "    .dataframe tbody tr th:only-of-type {\n",
       "        vertical-align: middle;\n",
       "    }\n",
       "\n",
       "    .dataframe tbody tr th {\n",
       "        vertical-align: top;\n",
       "    }\n",
       "\n",
       "    .dataframe thead th {\n",
       "        text-align: right;\n",
       "    }\n",
       "</style>\n",
       "<table border=\"1\" class=\"dataframe\">\n",
       "  <thead>\n",
       "    <tr style=\"text-align: right;\">\n",
       "      <th></th>\n",
       "      <th>age</th>\n",
       "      <th>num_underage_siblings</th>\n",
       "      <th>num_adult_siblings</th>\n",
       "      <th>can_vote</th>\n",
       "      <th>in_twenties</th>\n",
       "      <th>age_bracket</th>\n",
       "      <th>can_vote_map</th>\n",
       "      <th>num_siblings</th>\n",
       "      <th>has_siblings</th>\n",
       "    </tr>\n",
       "  </thead>\n",
       "  <tbody>\n",
       "    <tr>\n",
       "      <th>0</th>\n",
       "      <td>18</td>\n",
       "      <td>0</td>\n",
       "      <td>1</td>\n",
       "      <td>True</td>\n",
       "      <td>False</td>\n",
       "      <td>Adult</td>\n",
       "      <td>True</td>\n",
       "      <td>1</td>\n",
       "      <td>True</td>\n",
       "    </tr>\n",
       "    <tr>\n",
       "      <th>1</th>\n",
       "      <td>29</td>\n",
       "      <td>0</td>\n",
       "      <td>0</td>\n",
       "      <td>True</td>\n",
       "      <td>True</td>\n",
       "      <td>Adult</td>\n",
       "      <td>True</td>\n",
       "      <td>0</td>\n",
       "      <td>False</td>\n",
       "    </tr>\n",
       "    <tr>\n",
       "      <th>2</th>\n",
       "      <td>15</td>\n",
       "      <td>1</td>\n",
       "      <td>0</td>\n",
       "      <td>False</td>\n",
       "      <td>False</td>\n",
       "      <td>Adolescent</td>\n",
       "      <td>False</td>\n",
       "      <td>1</td>\n",
       "      <td>True</td>\n",
       "    </tr>\n",
       "    <tr>\n",
       "      <th>3</th>\n",
       "      <td>32</td>\n",
       "      <td>1</td>\n",
       "      <td>1</td>\n",
       "      <td>True</td>\n",
       "      <td>False</td>\n",
       "      <td>Adult</td>\n",
       "      <td>True</td>\n",
       "      <td>2</td>\n",
       "      <td>True</td>\n",
       "    </tr>\n",
       "    <tr>\n",
       "      <th>4</th>\n",
       "      <td>6</td>\n",
       "      <td>0</td>\n",
       "      <td>0</td>\n",
       "      <td>False</td>\n",
       "      <td>False</td>\n",
       "      <td>Child</td>\n",
       "      <td>False</td>\n",
       "      <td>0</td>\n",
       "      <td>False</td>\n",
       "    </tr>\n",
       "  </tbody>\n",
       "</table>\n",
       "</div>"
      ],
      "text/plain": [
       "   age  num_underage_siblings  num_adult_siblings  can_vote  in_twenties  \\\n",
       "0   18                      0                   1      True        False   \n",
       "1   29                      0                   0      True         True   \n",
       "2   15                      1                   0     False        False   \n",
       "3   32                      1                   1      True        False   \n",
       "4    6                      0                   0     False        False   \n",
       "\n",
       "  age_bracket  can_vote_map  num_siblings  has_siblings  \n",
       "0       Adult          True             1          True  \n",
       "1       Adult          True             0         False  \n",
       "2  Adolescent         False             1          True  \n",
       "3       Adult          True             2          True  \n",
       "4       Child         False             0         False  "
      ]
     },
     "execution_count": 16,
     "metadata": {},
     "output_type": "execute_result"
    }
   ],
   "source": [
    "def has_siblings(num_siblings):\n",
    "    return num_siblings >= 1\n",
    "\n",
    "data[\"has_siblings\"] = data[\"num_siblings\"].apply(has_siblings)\n",
    "data\n"
   ]
  },
  {
   "attachments": {},
   "cell_type": "markdown",
   "metadata": {},
   "source": [
    "<font size = \"5\">\n",
    "\n",
    "Try it yourself!\n",
    "\n",
    "- Read the car dataset \"data_raw/features.csv\"\n",
    "- Create a function that tests whether mpg $\\ge$ 29\n",
    "- Add a variable \"mpg_above_29\" which is True/False if mpg $\\ge$ 29\n",
    "- Store the new dataset to \"data_clean/features.csv\"\n"
   ]
  },
  {
   "cell_type": "code",
   "execution_count": 19,
   "metadata": {},
   "outputs": [],
   "source": [
    "# Write your own code\n",
    "\n",
    "car_data = pd.read_csv(\"data/features.csv\")\n",
    "def mpg_above_29(mpg):\n",
    "    return mpg >= 29\n",
    "car_data[\"mpg_above_29\"] = car_data[\"mpg\"].apply(mpg_above_29)\n",
    "car_data.to_csv(\"data/features.csv\", index=False)\n",
    "\n",
    "\n"
   ]
  },
  {
   "attachments": {},
   "cell_type": "markdown",
   "metadata": {},
   "source": [
    "<font size = \"5\">\n",
    "\n",
    "Try it yourself!\n",
    "\n",
    "- Map can also be applied to simple lists!\n",
    "- Create a lambda function with arguments {fruit,color}.\n",
    "- The function returns the string <br>\n",
    "\" A {fruit} is {color}\"\n",
    "- Create the following two lists:\n",
    "\n",
    "``` list_fruits  = [\"banana\",\"strawberry\",\"kiwi\"] ```\n",
    "\n",
    "``` list_colors  = [\"yellow\",\"red\",\"green\"] ```\n",
    "- Use the list(map()) function to output a list with the form"
   ]
  },
  {
   "cell_type": "code",
   "execution_count": 20,
   "metadata": {},
   "outputs": [
    {
     "data": {
      "text/plain": [
       "['A banana is yellow', 'A strawberry is red', 'A kiwi is green']"
      ]
     },
     "execution_count": 20,
     "metadata": {},
     "output_type": "execute_result"
    }
   ],
   "source": [
    "# Write your own code\n",
    "\n",
    "list_fruits = [\"banana\", \"strawberry\", \"kiwi\"]\n",
    "list_colors = [\"yellow\", \"red\", \"green\"]\n",
    "\n",
    "result = list(map(lambda fruit, color: f\"A {fruit} is {color}\", list_fruits, list_colors))\n",
    "result\n",
    "\n",
    "\n"
   ]
  },
  {
   "attachments": {},
   "cell_type": "markdown",
   "metadata": {},
   "source": [
    "## <span style=\"color:darkblue\"> III. External Scripts </span>"
   ]
  },
  {
   "attachments": {},
   "cell_type": "markdown",
   "metadata": {},
   "source": [
    "<font size = \"5\">\n",
    "\n",
    "\".ipynb\" files ...\n",
    "\n",
    "- Markdown + python code\n",
    "- Great for interactive output!\n",
    "\n",
    "\".py\" files ...\n",
    "\n",
    "- Python (only) script\n",
    "- Used for specific tasks\n",
    "- Why? Split code into smaller, more manageable files\n"
   ]
  },
  {
   "attachments": {},
   "cell_type": "markdown",
   "metadata": {},
   "source": [
    "\n",
    "<font size = \"5\">\n",
    "\n",
    "<table><tr>\n",
    "<td style = \"border:0px\"> <img src=\"figures/screenshot_py_functions.png\" alt=\"drawing\" width=\"300\"/>  </td>\n",
    "<td style = \"border:0px\">\n",
    "\n",
    "File with functions\n",
    "\n",
    " </td>\n",
    "</tr></table>\n"
   ]
  },
  {
   "cell_type": "markdown",
   "metadata": {},
   "source": [
    "<font size = \"5\">\n",
    "\n",
    "\n",
    "You can reference Python scripts \"as if\" you were running them <br>\n",
    "from the Jupyter notebook\n",
    "\n",
    "- Can help break down big projects into smaller chunks\n",
    "- Keep things organized in subfolders\n",
    "- Interact with variables in the current environment"
   ]
  },
  {
   "cell_type": "code",
   "execution_count": 21,
   "metadata": {},
   "outputs": [
    {
     "data": {
      "text/plain": [
       "'This is a message: hello'"
      ]
     },
     "execution_count": 21,
     "metadata": {},
     "output_type": "execute_result"
    }
   ],
   "source": [
    "# Check the script in the subfolder\n",
    "\n",
    "message = \"hello\"\n",
    "exec(open(\"./scripts/example_script.py\").read())\n",
    "message_output\n"
   ]
  },
  {
   "cell_type": "markdown",
   "metadata": {},
   "source": [
    "<font size = \"5\">\n",
    "\n",
    "**A module is just a Python program that ends with <br>\n",
    ".py extension and a folder that contains a <br>\n",
    " module becomes a package!**"
   ]
  },
  {
   "cell_type": "markdown",
   "metadata": {},
   "source": [
    "<font size = \"5\">\n",
    "\n",
    "We can import functions into the working <br>\n",
    "environment from a file\n",
    "\n",
    "- When you input code this way it won't interact with variables <br>\n",
    "in the current environment\n",
    "- Best reserved for functions or parameter values\n",
    "- Not for code that needs to interact with things you <br>\n",
    "defined in the current environment"
   ]
  },
  {
   "cell_type": "code",
   "execution_count": 22,
   "metadata": {},
   "outputs": [],
   "source": [
    "import scripts.example_functions as ef"
   ]
  },
  {
   "cell_type": "markdown",
   "metadata": {},
   "source": [
    "<font size = \"5\">\n",
    "\n",
    "We reference them using the alias"
   ]
  },
  {
   "cell_type": "code",
   "execution_count": 23,
   "metadata": {},
   "outputs": [
    {
     "name": "stdout",
     "output_type": "stream",
     "text": [
      "1\n",
      "25\n"
     ]
    },
    {
     "data": {
      "text/plain": [
       "'hi Juan'"
      ]
     },
     "execution_count": 23,
     "metadata": {},
     "output_type": "execute_result"
    }
   ],
   "source": [
    "x = 1\n",
    "print(ef.fn_quadratic(1))\n",
    "print(ef.fn_quadratic(5))\n",
    "\n",
    "ef.message_hello(\"Juan\")"
   ]
  },
  {
   "attachments": {},
   "cell_type": "markdown",
   "metadata": {},
   "source": [
    "\n",
    "<font size = \"5\">\n",
    "\n",
    "<table><tr>\n",
    "<td style = \"border:0px\"> <img src=\"figures/screenshot_py_variables.png\" alt=\"drawing\" width=\"300\"/>  </td>\n",
    "<td style = \"border:0px\">\n",
    "\n",
    "File with variables\n",
    "\n",
    "- Storing values/settings\n",
    "- Variables are global <br>\n",
    "(can be referenced later)\n",
    "\n",
    "</td>\n",
    "</tr></table>"
   ]
  },
  {
   "cell_type": "markdown",
   "metadata": {},
   "source": [
    "<font size = \"5\">\n",
    "\n",
    "We can also import and reference variables"
   ]
  },
  {
   "cell_type": "code",
   "execution_count": 24,
   "metadata": {},
   "outputs": [],
   "source": [
    "import scripts.example_variables as ev"
   ]
  },
  {
   "cell_type": "code",
   "execution_count": 25,
   "metadata": {},
   "outputs": [
    {
     "name": "stdout",
     "output_type": "stream",
     "text": [
      "1\n",
      "5\n"
     ]
    }
   ],
   "source": [
    "# When we run this program\n",
    "# # the value of alpha will be overwritten\n",
    "\n",
    "alpha = 1\n",
    "print(alpha)\n",
    "print(ev.alpha)"
   ]
  }
 ],
 "metadata": {
  "kernelspec": {
   "display_name": "base",
   "language": "python",
   "name": "python3"
  },
  "language_info": {
   "codemirror_mode": {
    "name": "ipython",
    "version": 3
   },
   "file_extension": ".py",
   "mimetype": "text/x-python",
   "name": "python",
   "nbconvert_exporter": "python",
   "pygments_lexer": "ipython3",
   "version": "3.12.7"
  },
  "orig_nbformat": 4,
  "vscode": {
   "interpreter": {
    "hash": "45fc1f684f6f416f40889115beff3ddf69879b64cf4bfee48cb72a61e9d15d1a"
   }
  }
 },
 "nbformat": 4,
 "nbformat_minor": 2
}
