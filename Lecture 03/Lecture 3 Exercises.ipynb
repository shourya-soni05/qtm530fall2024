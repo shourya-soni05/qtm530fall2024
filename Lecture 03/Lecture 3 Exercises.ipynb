{
 "cells": [
  {
   "attachments": {},
   "cell_type": "markdown",
   "metadata": {},
   "source": [
    "# <span style=\"color:darkblue\"> Lecture 3 Exercises </span>"
   ]
  },
  {
   "cell_type": "markdown",
   "metadata": {},
   "source": [
    "\n",
    "\n",
    "## Short Questions\n",
    "\n",
    "<font size = \"5\">\n",
    "\n",
    "1. What is a codebook?\n",
    "2. How you define a missing value in Python?\n",
    "2. What is chaining?"
   ]
  },
  {
   "cell_type": "code",
   "execution_count": null,
   "metadata": {},
   "outputs": [],
   "source": [
    "# Write your answers here as comments\n",
    "\n",
    "\n",
    "\n"
   ]
  },
  {
   "cell_type": "markdown",
   "metadata": {},
   "source": [
    "## Long Questions"
   ]
  },
  {
   "attachments": {},
   "cell_type": "markdown",
   "metadata": {},
   "source": [
    "<font size = \"5\">\n",
    "\n",
    "Import the libraries \"numpy\" and \"pandas\""
   ]
  },
  {
   "cell_type": "code",
   "execution_count": 1,
   "metadata": {},
   "outputs": [],
   "source": [
    "# Write your own code\n",
    "import pandas as pd\n",
    "import numpy as np\n",
    "\n",
    "\n",
    "\n"
   ]
  },
  {
   "cell_type": "markdown",
   "metadata": {},
   "source": [
    "<font size = \"5\">\n",
    "\n",
    "(a) Replace values from intervals\n",
    "\n",
    "<font size = \"3\">\n",
    "\n",
    "- Import the dataset \"data_raw/students.csv\" to a new object \"students\"\n",
    "- Use \"pd.cut()\" to assign the column \"numericgrade\" to a letter grade <br>\n",
    "using the following table\n",
    "\n",
    "<img src=\"figures/grading_scale.png\" alt=\"drawing\" width=\"600\"/>\n"
   ]
  },
  {
   "cell_type": "code",
   "execution_count": 4,
   "metadata": {},
   "outputs": [
    {
     "data": {
      "application/vnd.microsoft.datawrangler.viewer.v0+json": {
       "columns": [
        {
         "name": "index",
         "rawType": "int64",
         "type": "integer"
        },
        {
         "name": "studentid",
         "rawType": "int64",
         "type": "integer"
        },
        {
         "name": "numericgrade",
         "rawType": "int64",
         "type": "integer"
        },
        {
         "name": "letter_grade",
         "rawType": "category",
         "type": "unknown"
        }
       ],
       "ref": "26dec08a-5307-4ed4-8884-f4a56ec61dbc",
       "rows": [
        [
         "0",
         "1",
         "61",
         "C-"
        ],
        [
         "1",
         "2",
         "0",
         "F"
        ],
        [
         "2",
         "3",
         "14",
         "F"
        ],
        [
         "3",
         "4",
         "57",
         "D"
        ],
        [
         "4",
         "5",
         "72",
         "C+"
        ]
       ],
       "shape": {
        "columns": 3,
        "rows": 5
       }
      },
      "text/html": [
       "<div>\n",
       "<style scoped>\n",
       "    .dataframe tbody tr th:only-of-type {\n",
       "        vertical-align: middle;\n",
       "    }\n",
       "\n",
       "    .dataframe tbody tr th {\n",
       "        vertical-align: top;\n",
       "    }\n",
       "\n",
       "    .dataframe thead th {\n",
       "        text-align: right;\n",
       "    }\n",
       "</style>\n",
       "<table border=\"1\" class=\"dataframe\">\n",
       "  <thead>\n",
       "    <tr style=\"text-align: right;\">\n",
       "      <th></th>\n",
       "      <th>studentid</th>\n",
       "      <th>numericgrade</th>\n",
       "      <th>letter_grade</th>\n",
       "    </tr>\n",
       "  </thead>\n",
       "  <tbody>\n",
       "    <tr>\n",
       "      <th>0</th>\n",
       "      <td>1</td>\n",
       "      <td>61</td>\n",
       "      <td>C-</td>\n",
       "    </tr>\n",
       "    <tr>\n",
       "      <th>1</th>\n",
       "      <td>2</td>\n",
       "      <td>0</td>\n",
       "      <td>F</td>\n",
       "    </tr>\n",
       "    <tr>\n",
       "      <th>2</th>\n",
       "      <td>3</td>\n",
       "      <td>14</td>\n",
       "      <td>F</td>\n",
       "    </tr>\n",
       "    <tr>\n",
       "      <th>3</th>\n",
       "      <td>4</td>\n",
       "      <td>57</td>\n",
       "      <td>D</td>\n",
       "    </tr>\n",
       "    <tr>\n",
       "      <th>4</th>\n",
       "      <td>5</td>\n",
       "      <td>72</td>\n",
       "      <td>C+</td>\n",
       "    </tr>\n",
       "  </tbody>\n",
       "</table>\n",
       "</div>"
      ],
      "text/plain": [
       "   studentid  numericgrade letter_grade\n",
       "0          1            61           C-\n",
       "1          2             0            F\n",
       "2          3            14            F\n",
       "3          4            57            D\n",
       "4          5            72           C+"
      ]
     },
     "execution_count": 4,
     "metadata": {},
     "output_type": "execute_result"
    }
   ],
   "source": [
    "# Write your own code\n",
    "# Import the dataset\n",
    "df = pd.read_csv(\"data_raw/students.csv\")\n",
    "\n",
    "# Define bins and labels according to the grading scale\n",
    "bins = [0, 54, 59, 64, 69, 74, 79, 82, 86, 92, 100]\n",
    "labels = [\"F\", \"D\", \"C-\", \"C\", \"C+\", \"B-\", \"B\", \"B+\", \"A-\", \"A\"]\n",
    "\n",
    "# Assign letter grades using pd.cut\n",
    "df[\"letter_grade\"] = pd.cut(df[\"numericgrade\"], bins=bins, labels=labels, right=True, include_lowest=True)\n",
    "\n",
    "df.head()\n",
    "\n",
    "\n",
    "\n"
   ]
  },
  {
   "cell_type": "markdown",
   "metadata": {},
   "source": [
    "<font size = \"5\">\n",
    "\n",
    "For questions (b)-(e) use \"results.csv\", <br>\n",
    "a dataset on competitive car racing\n",
    "\n",
    "Import the dataset \"data/raw_results.csv\" to <br>\n",
    " a new object \"results\""
   ]
  },
  {
   "cell_type": "markdown",
   "metadata": {},
   "source": [
    "<font size = \"5\">\n",
    "\n",
    "(b) Check column types\n",
    "\n",
    "<font size = \"3\">\n",
    "\n",
    "- View the dataset\n",
    "- Use the function \"results.dtypes\" to get the column types\n",
    "- Search for the \"results\" table in \"codebook/f1_codebook.pdf\".\n",
    "- Does the type of the \"milliseconds\" column agree with the codebook? <br>\n",
    "i.e. is it an integer, float, or string/object?\n",
    "\n",
    "\n",
    "HINT: See Lectures 13 and 14 for how to interpret the codebook\n"
   ]
  },
  {
   "cell_type": "code",
   "execution_count": 7,
   "metadata": {},
   "outputs": [
    {
     "name": "stdout",
     "output_type": "stream",
     "text": [
      "milliseconds dtype: object\n"
     ]
    }
   ],
   "source": [
    "# Write your own code\n",
    "\n",
    "results = pd.read_csv(\"data_raw/results.csv\")\n",
    "results.dtypes\n",
    "# View the first few rows of the dataset\n",
    "results.head()\n",
    "\n",
    "# The dtype of the \"milliseconds\" column is:\n",
    "print(\"milliseconds dtype:\", results[\"milliseconds\"].dtype)\n",
    "\n",
    "# According to the codebook, \"milliseconds\" should be an integer.\n",
    "# In the dataset, it is currently of type 'object' (string), so it does NOT agree with the codebook.\n",
    "\n",
    "\n"
   ]
  },
  {
   "cell_type": "markdown",
   "metadata": {},
   "source": [
    "<font size = \"5\">\n",
    "\n",
    "(c) Clean a column\n",
    "\n",
    "<font size = \"3\">\n",
    "\n",
    "- Import the dataset \"data_raw/results.csv\" to a new object \"results\"\n",
    "- Our goal is to replace any string values in the column \"milliseconds\" <br>\n",
    "to missing values (NaNs) and covert to numeric\n",
    "- To do so, go to Lecture 13 and follow the setups under the headings\n",
    "    - \"Extract list of non-numeric values\"\n",
    "    - \"Replace certain values\"\n",
    "    - \"Convert column to numeric\"\n",
    "\n",
    "HINT: substitute \"milliseconds\" instead of \"alt\", <br>\n",
    "and the dataset \"results\" instead of \"circuits\" \n"
   ]
  },
  {
   "cell_type": "code",
   "execution_count": 8,
   "metadata": {},
   "outputs": [
    {
     "name": "stdout",
     "output_type": "stream",
     "text": [
      "Non-numeric values: ['\\\\N']\n"
     ]
    }
   ],
   "source": [
    "# Write your own code\n",
    "\n",
    "# Extract list of non-numeric values in \"milliseconds\"\n",
    "non_numeric = results.loc[~results[\"milliseconds\"].str.isnumeric(), \"milliseconds\"].unique()\n",
    "print(\"Non-numeric values:\", non_numeric)\n",
    "\n",
    "# Replace non-numeric values with np.nan\n",
    "results.loc[~results[\"milliseconds\"].str.isnumeric(), \"milliseconds\"] = np.nan\n",
    "\n",
    "# Convert the column to numeric\n",
    "results[\"milliseconds\"] = pd.to_numeric(results[\"milliseconds\"])\n",
    "\n",
    "\n"
   ]
  },
  {
   "cell_type": "markdown",
   "metadata": {},
   "source": [
    "<font size = \"5\">\n",
    "\n",
    "(d) Groupby + Aggregate\n",
    "\n",
    "<font size = \"3\">\n",
    "\n",
    "- Compute the mean and standard deviation of \"laps\", <br>\n",
    "grouping by \"constructorId\". Store the new dataset <br>\n",
    "as \"results_agg\"\n",
    "- Sort the aggregate dataset in decending <br>\n",
    "order of mean laps using \".sort_values()\"\n",
    "\n",
    "HINT: See Lecture 14 <br>\n"
   ]
  },
  {
   "cell_type": "code",
   "execution_count": 9,
   "metadata": {},
   "outputs": [
    {
     "data": {
      "application/vnd.microsoft.datawrangler.viewer.v0+json": {
       "columns": [
        {
         "name": "constructorId",
         "rawType": "int64",
         "type": "integer"
        },
        {
         "name": "mean",
         "rawType": "float64",
         "type": "float"
        },
        {
         "name": "std",
         "rawType": "float64",
         "type": "float"
        }
       ],
       "ref": "0d449f79-f553-4ce5-8c09-637d8bcac76f",
       "rows": [
        [
         "149",
         "198.5",
         "2.1213203435596424"
        ],
        [
         "112",
         "197.0",
         "4.242640687119285"
        ],
        [
         "109",
         "184.28571428571428",
         "32.91258262789621"
        ],
        [
         "119",
         "178.66666666666666",
         "36.95041722813605"
        ],
        [
         "108",
         "163.76470588235293",
         "63.1481684332221"
        ],
        [
         "114",
         "161.25641025641025",
         "57.140048610372055"
        ],
        [
         "111",
         "160.0",
         "67.92643079096678"
        ],
        [
         "138",
         "157.5",
         "15.0"
        ],
        [
         "142",
         "146.0",
         null
        ],
        [
         "113",
         "143.90265486725664",
         "63.02408211353566"
        ],
        [
         "135",
         "141.5",
         "35.22782990761707"
        ],
        [
         "129",
         "139.5",
         "81.61597065934257"
        ],
        [
         "134",
         "138.5",
         "45.688385520048435"
        ],
        [
         "110",
         "128.73333333333332",
         "73.14610297857556"
        ],
        [
         "157",
         "128.0",
         null
        ],
        [
         "107",
         "126.27272727272727",
         "81.81348230851616"
        ],
        [
         "158",
         "123.0",
         null
        ],
        [
         "159",
         "123.0",
         null
        ],
        [
         "160",
         "122.0",
         null
        ],
        [
         "120",
         "116.33333333333333",
         "81.13158036999731"
        ],
        [
         "115",
         "116.0",
         "97.58073580374356"
        ],
        [
         "121",
         "115.0",
         null
        ],
        [
         "156",
         "113.0",
         "28.284271247461902"
        ],
        [
         "150",
         "112.375",
         "61.3489725143904"
        ],
        [
         "162",
         "111.0",
         null
        ],
        [
         "161",
         "108.0",
         "0.0"
        ],
        [
         "136",
         "102.0",
         "130.10764773832474"
        ],
        [
         "116",
         "98.0",
         "55.46169849544819"
        ],
        [
         "155",
         "97.0",
         null
        ],
        [
         "139",
         "83.6",
         "59.75617122942199"
        ],
        [
         "196",
         "60.725",
         "27.17935443847605"
        ],
        [
         "104",
         "58.5",
         "24.748737341529164"
        ],
        [
         "2",
         "56.7",
         "14.541283329311394"
        ],
        [
         "23",
         "56.5",
         "14.334214208309325"
        ],
        [
         "131",
         "56.16607142857143",
         "16.912145679353742"
        ],
        [
         "102",
         "56.0",
         "0.0"
        ],
        [
         "148",
         "55.25",
         "31.041638702448253"
        ],
        [
         "211",
         "54.68421052631579",
         "17.680279429402535"
        ],
        [
         "117",
         "54.494949494949495",
         "17.91440745992678"
        ],
        [
         "214",
         "54.20454545454545",
         "17.951504973831486"
        ],
        [
         "206",
         "53.06422018348624",
         "16.331221648843755"
        ],
        [
         "9",
         "52.992816091954026",
         "18.85457271714173"
        ],
        [
         "213",
         "52.39344262295082",
         "19.88336128070389"
        ],
        [
         "187",
         "52.32183908045977",
         "32.50813646017468"
        ],
        [
         "209",
         "52.282051282051285",
         "19.522146887937787"
        ],
        [
         "10",
         "51.969339622641506",
         "19.470083823699316"
        ],
        [
         "6",
         "51.481039625053256",
         "24.824944711069065"
        ],
        [
         "210",
         "51.43402777777778",
         "19.915741198447684"
        ],
        [
         "7",
         "51.29642857142857",
         "20.812561380414422"
        ],
        [
         "3",
         "51.28391167192429",
         "20.950130778557373"
        ]
       ],
       "shape": {
        "columns": 2,
        "rows": 210
       }
      },
      "text/html": [
       "<div>\n",
       "<style scoped>\n",
       "    .dataframe tbody tr th:only-of-type {\n",
       "        vertical-align: middle;\n",
       "    }\n",
       "\n",
       "    .dataframe tbody tr th {\n",
       "        vertical-align: top;\n",
       "    }\n",
       "\n",
       "    .dataframe thead th {\n",
       "        text-align: right;\n",
       "    }\n",
       "</style>\n",
       "<table border=\"1\" class=\"dataframe\">\n",
       "  <thead>\n",
       "    <tr style=\"text-align: right;\">\n",
       "      <th></th>\n",
       "      <th>mean</th>\n",
       "      <th>std</th>\n",
       "    </tr>\n",
       "    <tr>\n",
       "      <th>constructorId</th>\n",
       "      <th></th>\n",
       "      <th></th>\n",
       "    </tr>\n",
       "  </thead>\n",
       "  <tbody>\n",
       "    <tr>\n",
       "      <th>149</th>\n",
       "      <td>198.500000</td>\n",
       "      <td>2.121320</td>\n",
       "    </tr>\n",
       "    <tr>\n",
       "      <th>112</th>\n",
       "      <td>197.000000</td>\n",
       "      <td>4.242641</td>\n",
       "    </tr>\n",
       "    <tr>\n",
       "      <th>109</th>\n",
       "      <td>184.285714</td>\n",
       "      <td>32.912583</td>\n",
       "    </tr>\n",
       "    <tr>\n",
       "      <th>119</th>\n",
       "      <td>178.666667</td>\n",
       "      <td>36.950417</td>\n",
       "    </tr>\n",
       "    <tr>\n",
       "      <th>108</th>\n",
       "      <td>163.764706</td>\n",
       "      <td>63.148168</td>\n",
       "    </tr>\n",
       "    <tr>\n",
       "      <th>...</th>\n",
       "      <td>...</td>\n",
       "      <td>...</td>\n",
       "    </tr>\n",
       "    <tr>\n",
       "      <th>71</th>\n",
       "      <td>0.000000</td>\n",
       "      <td>NaN</td>\n",
       "    </tr>\n",
       "    <tr>\n",
       "      <th>61</th>\n",
       "      <td>0.000000</td>\n",
       "      <td>0.000000</td>\n",
       "    </tr>\n",
       "    <tr>\n",
       "      <th>74</th>\n",
       "      <td>0.000000</td>\n",
       "      <td>0.000000</td>\n",
       "    </tr>\n",
       "    <tr>\n",
       "      <th>69</th>\n",
       "      <td>0.000000</td>\n",
       "      <td>NaN</td>\n",
       "    </tr>\n",
       "    <tr>\n",
       "      <th>47</th>\n",
       "      <td>0.000000</td>\n",
       "      <td>0.000000</td>\n",
       "    </tr>\n",
       "  </tbody>\n",
       "</table>\n",
       "<p>210 rows × 2 columns</p>\n",
       "</div>"
      ],
      "text/plain": [
       "                     mean        std\n",
       "constructorId                       \n",
       "149            198.500000   2.121320\n",
       "112            197.000000   4.242641\n",
       "109            184.285714  32.912583\n",
       "119            178.666667  36.950417\n",
       "108            163.764706  63.148168\n",
       "...                   ...        ...\n",
       "71               0.000000        NaN\n",
       "61               0.000000   0.000000\n",
       "74               0.000000   0.000000\n",
       "69               0.000000        NaN\n",
       "47               0.000000   0.000000\n",
       "\n",
       "[210 rows x 2 columns]"
      ]
     },
     "execution_count": 9,
     "metadata": {},
     "output_type": "execute_result"
    }
   ],
   "source": [
    "# Write your own code\n",
    "\n",
    "results_agg = results.groupby(\"constructorId\")[\"laps\"].agg(['mean', 'std'])\n",
    "results_agg.sort_values(\"mean\", ascending=False)\n"
   ]
  },
  {
   "cell_type": "markdown",
   "metadata": {},
   "source": [
    "<font size = \"5\" >\n",
    "\n",
    "(e) Query + Groupby + Aggregate\n",
    "\n",
    "<font size = \"3\">\n",
    "\n",
    "- Use \".query()\" to subset observations with <br>\n",
    "'race_id >= 200'\n",
    "- Compute the mean and standard deviation of \"laps\", <br>\n",
    "grouping by \"constructorId\". Store the new dataset <br>\n",
    "as \"results_agg\"\n",
    "\n",
    "Hint: See Lecture 11 (to refresh \".query()\") and <br>\n",
    "Lecture 14 for how to combine it with \".groupby()\""
   ]
  },
  {
   "cell_type": "code",
   "execution_count": 11,
   "metadata": {},
   "outputs": [
    {
     "data": {
      "application/vnd.microsoft.datawrangler.viewer.v0+json": {
       "columns": [
        {
         "name": "constructorId",
         "rawType": "int64",
         "type": "integer"
        },
        {
         "name": "mean",
         "rawType": "float64",
         "type": "float"
        },
        {
         "name": "std",
         "rawType": "float64",
         "type": "float"
        }
       ],
       "ref": "de7889e5-bc9f-4af6-83d4-2e9e77b79a62",
       "rows": [
        [
         "1",
         "50.09351011863224",
         "23.147774451164214"
        ],
        [
         "3",
         "51.34962089300758",
         "21.06490226325233"
        ],
        [
         "4",
         "46.396449704142015",
         "22.565290146291048"
        ],
        [
         "5",
         "51.78787878787879",
         "18.28177357668892"
        ],
        [
         "6",
         "50.305797845048744",
         "25.953854015084552"
        ],
        [
         "9",
         "54.54633204633205",
         "17.275466892272735"
        ],
        [
         "10",
         "53.440677966101696",
         "18.26196330596334"
        ],
        [
         "11",
         "45.19565217391305",
         "32.12518538828817"
        ],
        [
         "15",
         "48.51789077212806",
         "21.12382987884325"
        ],
        [
         "17",
         "42.04132231404959",
         "25.50987009185173"
        ],
        [
         "18",
         "36.43990384615385",
         "26.518849745001404"
        ],
        [
         "20",
         "46.166666666666664",
         "22.130496272072776"
        ],
        [
         "21",
         "42.345982142857146",
         "25.464603356211263"
        ],
        [
         "22",
         "50.13681592039801",
         "22.26083614212592"
        ],
        [
         "24",
         "35.229166666666664",
         "21.452807764787053"
        ],
        [
         "25",
         "44.72800925925926",
         "25.836841709918176"
        ],
        [
         "26",
         "33.03636363636364",
         "26.81437794812722"
        ],
        [
         "27",
         "42.93617021276596",
         "25.630812356029534"
        ],
        [
         "28",
         "33.407407407407405",
         "27.018175935608443"
        ],
        [
         "29",
         "36.90721649484536",
         "26.709173473778044"
        ],
        [
         "30",
         "17.484848484848484",
         "22.48913749705189"
        ],
        [
         "31",
         "36.825",
         "24.79235562498847"
        ],
        [
         "32",
         "42.36509758897819",
         "27.69322708530935"
        ],
        [
         "33",
         "38.625",
         "25.68671948964162"
        ],
        [
         "34",
         "40.483383685800604",
         "27.04569219477136"
        ],
        [
         "35",
         "37.6875",
         "25.41968532649258"
        ],
        [
         "36",
         "17.523809523809526",
         "21.92585965746683"
        ],
        [
         "37",
         "36.791984732824424",
         "29.114737298908775"
        ],
        [
         "38",
         "0.7333333333333333",
         "2.8401877872187726"
        ],
        [
         "39",
         "16.51219512195122",
         "25.8239201141108"
        ],
        [
         "40",
         "8.1875",
         "21.991842329196935"
        ],
        [
         "41",
         "33.34375",
         "25.383545945393546"
        ],
        [
         "42",
         "6.444444444444445",
         "17.362315513778682"
        ],
        [
         "44",
         "11.06578947368421",
         "23.085542677220182"
        ],
        [
         "45",
         "19.21031746031746",
         "22.795981785310065"
        ],
        [
         "46",
         "20.73076923076923",
         "26.091930526742708"
        ],
        [
         "47",
         "0.0",
         "0.0"
        ],
        [
         "48",
         "18.166666666666668",
         "27.004596404137473"
        ],
        [
         "49",
         "21.639097744360903",
         "24.770564870996633"
        ],
        [
         "50",
         "22.929577464788732",
         "23.42606847306282"
        ],
        [
         "51",
         "45.481572481572485",
         "24.125268920301735"
        ],
        [
         "52",
         "37.2",
         "26.492137198295897"
        ],
        [
         "53",
         "22.076335877862597",
         "23.86971635312464"
        ],
        [
         "54",
         "28.580246913580247",
         "27.403977676338137"
        ],
        [
         "55",
         "28.171875",
         "27.990108619931355"
        ],
        [
         "56",
         "34.47741935483871",
         "28.51801332852828"
        ],
        [
         "57",
         "28.98051948051948",
         "28.333326592668353"
        ],
        [
         "58",
         "38.76303317535545",
         "28.370856245262843"
        ],
        [
         "59",
         "40.379746835443036",
         "27.31830596799016"
        ],
        [
         "60",
         "8.5",
         "16.58604154684138"
        ]
       ],
       "shape": {
        "columns": 2,
        "rows": 201
       }
      },
      "text/html": [
       "<div>\n",
       "<style scoped>\n",
       "    .dataframe tbody tr th:only-of-type {\n",
       "        vertical-align: middle;\n",
       "    }\n",
       "\n",
       "    .dataframe tbody tr th {\n",
       "        vertical-align: top;\n",
       "    }\n",
       "\n",
       "    .dataframe thead th {\n",
       "        text-align: right;\n",
       "    }\n",
       "</style>\n",
       "<table border=\"1\" class=\"dataframe\">\n",
       "  <thead>\n",
       "    <tr style=\"text-align: right;\">\n",
       "      <th></th>\n",
       "      <th>mean</th>\n",
       "      <th>std</th>\n",
       "    </tr>\n",
       "    <tr>\n",
       "      <th>constructorId</th>\n",
       "      <th></th>\n",
       "      <th></th>\n",
       "    </tr>\n",
       "  </thead>\n",
       "  <tbody>\n",
       "    <tr>\n",
       "      <th>1</th>\n",
       "      <td>50.093510</td>\n",
       "      <td>23.147774</td>\n",
       "    </tr>\n",
       "    <tr>\n",
       "      <th>3</th>\n",
       "      <td>51.349621</td>\n",
       "      <td>21.064902</td>\n",
       "    </tr>\n",
       "    <tr>\n",
       "      <th>4</th>\n",
       "      <td>46.396450</td>\n",
       "      <td>22.565290</td>\n",
       "    </tr>\n",
       "    <tr>\n",
       "      <th>5</th>\n",
       "      <td>51.787879</td>\n",
       "      <td>18.281774</td>\n",
       "    </tr>\n",
       "    <tr>\n",
       "      <th>6</th>\n",
       "      <td>50.305798</td>\n",
       "      <td>25.953854</td>\n",
       "    </tr>\n",
       "    <tr>\n",
       "      <th>...</th>\n",
       "      <td>...</td>\n",
       "      <td>...</td>\n",
       "    </tr>\n",
       "    <tr>\n",
       "      <th>209</th>\n",
       "      <td>52.282051</td>\n",
       "      <td>19.522147</td>\n",
       "    </tr>\n",
       "    <tr>\n",
       "      <th>210</th>\n",
       "      <td>51.434028</td>\n",
       "      <td>19.915741</td>\n",
       "    </tr>\n",
       "    <tr>\n",
       "      <th>211</th>\n",
       "      <td>54.684211</td>\n",
       "      <td>17.680279</td>\n",
       "    </tr>\n",
       "    <tr>\n",
       "      <th>213</th>\n",
       "      <td>52.393443</td>\n",
       "      <td>19.883361</td>\n",
       "    </tr>\n",
       "    <tr>\n",
       "      <th>214</th>\n",
       "      <td>54.204545</td>\n",
       "      <td>17.951505</td>\n",
       "    </tr>\n",
       "  </tbody>\n",
       "</table>\n",
       "<p>201 rows × 2 columns</p>\n",
       "</div>"
      ],
      "text/plain": [
       "                    mean        std\n",
       "constructorId                      \n",
       "1              50.093510  23.147774\n",
       "3              51.349621  21.064902\n",
       "4              46.396450  22.565290\n",
       "5              51.787879  18.281774\n",
       "6              50.305798  25.953854\n",
       "...                  ...        ...\n",
       "209            52.282051  19.522147\n",
       "210            51.434028  19.915741\n",
       "211            54.684211  17.680279\n",
       "213            52.393443  19.883361\n",
       "214            54.204545  17.951505\n",
       "\n",
       "[201 rows x 2 columns]"
      ]
     },
     "execution_count": 11,
     "metadata": {},
     "output_type": "execute_result"
    }
   ],
   "source": [
    "# Write your own code\n",
    "results_agg = results.query('raceId >= 200').groupby(\"constructorId\")[\"laps\"].agg(['mean', 'std'])\n",
    "results_agg\n",
    "\n",
    "\n",
    "\n"
   ]
  },
  {
   "attachments": {},
   "cell_type": "markdown",
   "metadata": {},
   "source": [
    "\n",
    "<font size = \"5\">\n",
    "\n",
    "(f) Replace the values of a column\n",
    "\n",
    "<font size = \"3\">\n",
    "\n",
    "- Import the \"data_raw/constructor_standings.csv\" file\n",
    "- Replace the values \"E\" with 11 in the column \"positionText\"\n",
    "- Create a new column \"positionNumeric\" that converts <br>\n",
    "the modified \"positionText\" column from string to numeric <br>\n",
    "using ```pd.to_numeric()```\n",
    "\n"
   ]
  },
  {
   "cell_type": "code",
   "execution_count": 12,
   "metadata": {},
   "outputs": [],
   "source": [
    "# Write your own code\n",
    "constructor_standings = pd.read_csv(\"data_raw/constructor_standings.csv\")\n",
    "constructor_standings[\"positionText\"] = constructor_standings[\"positionText\"].replace(\"E\", 11)\n",
    "constructor_standings[\"positionNumeric\"] = pd.to_numeric(constructor_standings[\"positionText\"])\n",
    "\n"
   ]
  },
  {
   "attachments": {},
   "cell_type": "markdown",
   "metadata": {},
   "source": [
    "<font size = \"5\">\n",
    "\n",
    "(g) Recode a numeric colum\n",
    "\n",
    "<font size = \"3\">\n",
    "\n",
    "- Import the \"data_raw/races.csv\" file\n",
    "- Recode the \"year\" column into a new column \"year_brackets\" <br>\n",
    "with the following categories\n",
    "\n",
    "$\\qquad$ ``` [\"1950-1970\",\"1971-1990\",\"1991-2005\", \"2006-2020\", \"2020-onwards\"] ```\n",
    "\n",
    "$\\qquad$ HINT: Use the \"pd.cut()\" command. "
   ]
  },
  {
   "cell_type": "code",
   "execution_count": 13,
   "metadata": {},
   "outputs": [],
   "source": [
    "# Write your own code\n",
    "races = pd.read_csv(\"data_raw/races.csv\")\n",
    "bins_years = [1950, 1970, 1990, 2005, 2020, races[\"year\"].max()+1]\n",
    "labels_years = [\"1950-1970\", \"1971-1990\", \"1991-2005\", \"2006-2020\", \"2020-onwards\"]\n",
    "races[\"year_brackets\"] = pd.cut(races[\"year\"], bins=bins_years, labels=labels_years, right=True, include_lowest=True)\n",
    "\n"
   ]
  },
  {
   "attachments": {},
   "cell_type": "markdown",
   "metadata": {},
   "source": [
    "<font size = \"5\">\n",
    "\n",
    "(h) Aggregate and query\n",
    "\n",
    "<font size = \"3\">\n",
    "\n",
    "- Import the \"data_raw/constructor_standings.csv\" file\n",
    "- Subset the observations for 'raceId == 10' using ```.query()```\n",
    "- Obtain the sum of \"points\" by \"constructorId\" <br> \n",
    "(the team) using ``` .groupby().agg() ```\n",
    "- Subset the teams with a sum of points $\\ge 50$\n",
    "- Store the results of all these operations in a dataframe <br>\n",
    "```constructor_standings_agg ```"
   ]
  },
  {
   "cell_type": "code",
   "execution_count": null,
   "metadata": {},
   "outputs": [],
   "source": [
    "# Write your own code\n",
    "constructor_standings = pd.read_csv(\"data_raw/constructor_standings.csv\")\n",
    "constructor_standings_agg = constructor_standings.query('raceId==10').groupby(\"constructorId\")[\"points\"].sum().reset_index()\n",
    "constructor_standings_agg = constructor_standings_agg[constructor_standings_agg[\"points\"] >= 50]\n",
    "\n"
   ]
  },
  {
   "attachments": {},
   "cell_type": "markdown",
   "metadata": {},
   "source": [
    "<font size = \"5\">\n",
    "\n",
    "(i) Aggregate and sort\n",
    "\n",
    "<font size = \"3\">\n",
    "\n",
    "- Import the \"data_raw/constructor_standings.csv\" file\n",
    "- Obtain the sum of \"points\" by \"constructorId\" <br> \n",
    "(the team) using ``` .groupby().agg() ```\n",
    "- Sort the teams in descending order using of <br>\n",
    "the sum of points using ``` .sort_values() ```"
   ]
  },
  {
   "cell_type": "code",
   "execution_count": 16,
   "metadata": {},
   "outputs": [],
   "source": [
    "# Write your own code\n",
    "constructor_standings = pd.read_csv(\"data_raw/constructor_standings.csv\")\n",
    "constructor_standings_sum = constructor_standings.groupby(\"constructorId\")[\"points\"].sum().reset_index()\n",
    "constructor_standings_sum = constructor_standings_sum.sort_values(\"points\", ascending=False)\n",
    "\n",
    "\n",
    "\n",
    "\n"
   ]
  },
  {
   "attachments": {},
   "cell_type": "markdown",
   "metadata": {},
   "source": [
    "<font size = \"5\">\n",
    "\n",
    "(j) Rename column\n",
    "\n",
    "<font size = \"3\">\n",
    "\n",
    "- Import the \"data_raw/constructor_standings.csv\" file\n",
    "- Rename the column \"wins\" to \"wins_constructor\"\n",
    "\n",
    "HINT: Create a dictionary and use ```.rename(columns = ...)``` <br>"
   ]
  },
  {
   "cell_type": "code",
   "execution_count": 17,
   "metadata": {},
   "outputs": [],
   "source": [
    "# Write your own code\n",
    "\n",
    "constructor_standings = pd.read_csv(\"data_raw/constructor_standings.csv\")\n",
    "constructor_standings = constructor_standings.rename(columns={\"wins\": \"wins_constructor\"})\n",
    "\n",
    "\n"
   ]
  },
  {
   "attachments": {},
   "cell_type": "markdown",
   "metadata": {},
   "source": [
    "<font size = \"5\">\n",
    "\n",
    "(k) Merge dataset\n",
    "\n",
    "<font size = \"3\">\n",
    "\n",
    "- Import the \"data_raw/constructor_standings.csv\" and <br>\n",
    "\"data_raw/constructors.csv\" files\n",
    "- Create a new dataset with  ```pd.merge()``` using <br>\n",
    "\"constructor_standings\" as the primary dataset, and <br>\n",
    "\"constructors\" as the secondary dataset, merging on <br>\n",
    "the column \"constructorId\"\n",
    "- To get full points **ONLY** merge the \"nationality\" column <br>\n",
    "from the secondary dataset (not all the columns)\n",
    "\n",
    "HINT: Use ```[[...]]``` to extract a subset of columns <br>\n",
    "from the secondary dataset before merging, including the <br>\n",
    "\"constructorId\" column"
   ]
  },
  {
   "cell_type": "code",
   "execution_count": 18,
   "metadata": {},
   "outputs": [],
   "source": [
    "# Write your own code\n",
    "constructors = pd.read_csv(\"data_raw/constructors.csv\")\n",
    "new_data = pd.merge(constructor_standings, constructors[[\"constructorId\", \"nationality\"]], on=\"constructorId\", how=\"left\")\n",
    "\n",
    "\n",
    "\n",
    "\n",
    "\n"
   ]
  }
 ],
 "metadata": {
  "kernelspec": {
   "display_name": "base",
   "language": "python",
   "name": "python3"
  },
  "language_info": {
   "codemirror_mode": {
    "name": "ipython",
    "version": 3
   },
   "file_extension": ".py",
   "mimetype": "text/x-python",
   "name": "python",
   "nbconvert_exporter": "python",
   "pygments_lexer": "ipython3",
   "version": "3.12.7"
  },
  "orig_nbformat": 4,
  "vscode": {
   "interpreter": {
    "hash": "45fc1f684f6f416f40889115beff3ddf69879b64cf4bfee48cb72a61e9d15d1a"
   }
  }
 },
 "nbformat": 4,
 "nbformat_minor": 2
}
