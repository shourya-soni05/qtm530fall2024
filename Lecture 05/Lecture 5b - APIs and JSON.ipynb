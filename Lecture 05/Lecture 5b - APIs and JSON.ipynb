{
 "cells": [
  {
   "attachments": {},
   "cell_type": "markdown",
   "metadata": {},
   "source": [
    "# <span style=\"color:darkblue\"> Lecture 5b - APIs and JSON </span>\n",
    "\n",
    "<font size = \"5\">\n",
    "\n",
    "In this lecture we will cover the basics of dictionaries and <br>\n",
    "interacting with web-based APIs"
   ]
  },
  {
   "cell_type": "markdown",
   "metadata": {},
   "source": [
    "<font size = \"5\">\n",
    "\n",
    "Import packages"
   ]
  },
  {
   "cell_type": "code",
   "execution_count": 1,
   "metadata": {},
   "outputs": [],
   "source": [
    "import requests      # Requests data from an API\n",
    "import json          # Handles JSON object\n",
    "import jmespath      # Allows you to mor easily navigate JSON objects\n",
    "import pandas as pd  # Handles data frames"
   ]
  },
  {
   "cell_type": "markdown",
   "metadata": {},
   "source": [
    "# <span style=\"color:darkblue\"> I. Best Coding Practices </span>"
   ]
  },
  {
   "cell_type": "markdown",
   "metadata": {},
   "source": [
    "<font size = \"5\">\n",
    "\n",
    "Splitting a command into multiple lines\n",
    "\n",
    "<font size = \"3\">\n",
    "\n",
    "- Sometimes strings are very long, e.g. URLs\n",
    "- Best practice to code lines with maximum 80 characters\n",
    "- It is easier to read code if you scroll vertically <br>\n",
    "rather than sideways"
   ]
  },
  {
   "cell_type": "code",
   "execution_count": 2,
   "metadata": {},
   "outputs": [],
   "source": [
    "# You can split commands into multiple lines with a backlash\n",
    "example_backslash = \"This is a very long string\" \\\n",
    "                    + \"and I would like to break it down into multiple lines\"\n",
    "\n",
    "# You can also split commands into multiple lines by wrapping them in parentheses)\n",
    "example_parenthesis = ( \"This is a very long string\" \n",
    "                    + \"and I would like to break it down into multiple lines\")\n"
   ]
  },
  {
   "cell_type": "markdown",
   "metadata": {},
   "source": [
    "<font size = \"5\">\n",
    "\n",
    "Examples of Dictionary Formatting"
   ]
  },
  {
   "cell_type": "code",
   "execution_count": 3,
   "metadata": {},
   "outputs": [],
   "source": [
    "# Define dictionary\n",
    "dictionary_student = \\\n",
    "{\n",
    "    \"first_name\": \"John\",\n",
    "    \"last_name\" : \"Smith\",\n",
    "    \"location\"  : \"Atlanta\",\n",
    "    \"university\": \"Emory\",\n",
    "}\n"
   ]
  },
  {
   "cell_type": "markdown",
   "metadata": {},
   "source": [
    "<font size = \"5\">\n",
    "Nested dictionaries + Lists"
   ]
  },
  {
   "cell_type": "code",
   "execution_count": 4,
   "metadata": {},
   "outputs": [],
   "source": [
    "dictionary_student_wgrades =\\\n",
    "{\n",
    "    \"first_name\": \"John\",\n",
    "    \"last_name\" : \"Smith\",\n",
    "    \"location\"  : \"Atlanta\",\n",
    "    \"university\": \"Emory\",\n",
    "    \"grades\":{\n",
    "        \"computing\":\"A\",\n",
    "        \"reasoning\":\"B\",\n",
    "        \"applied\":\"A-\"\n",
    "    }\n",
    "}\n",
    "\n",
    "dictionary_liststudents = \\\n",
    "[{\n",
    "    \"first_name\": \"Ned\",\n",
    "    \"last_name\" : \"Stark\",\n",
    "    \"location\"  : \"Atlanta\",\n",
    "    \"university\": \"Emory\",\n",
    "    \n",
    " },\n",
    " {\n",
    "    \"first_name\": \"Cersei\",\n",
    "    \"last_name\" : \"Lannister\",\n",
    "    \"location\"  : \"Decatur\",\n",
    "    \"university\": \"Georgia Tech\",\n",
    " }\n",
    "]"
   ]
  },
  {
   "cell_type": "markdown",
   "metadata": {},
   "source": [
    "<font size = \"5\">\n",
    "\n",
    "Convert dictionaries to JSON"
   ]
  },
  {
   "cell_type": "code",
   "execution_count": 5,
   "metadata": {},
   "outputs": [],
   "source": [
    "# Convert dictionary to JSON\n",
    "## json.dumps() converts the dictionary to a string\n",
    "## json.loads() converts this string to a JSON object\n",
    "\n",
    "json_student         = json.loads(json.dumps(dictionary_student ))\n",
    "json_student_wgrades = json.loads(json.dumps(dictionary_student_wgrades))\n",
    "json_liststudents    = json.loads(json.dumps(dictionary_liststudents))\n"
   ]
  },
  {
   "cell_type": "markdown",
   "metadata": {},
   "source": [
    "<font size = \"5\">\n",
    "\n",
    "Navigating a JSON file by name"
   ]
  },
  {
   "cell_type": "code",
   "execution_count": 6,
   "metadata": {},
   "outputs": [
    {
     "name": "stdout",
     "output_type": "stream",
     "text": [
      "A\n"
     ]
    }
   ],
   "source": [
    "# The search command tries to search down the hierarchy, first \"grades\", then\n",
    "# computing. The \".\" is used to separate the queries at different levels.\n",
    "\n",
    "extract_info1 = jmespath.search('grades.computing', json_student_wgrades)\n",
    "print(extract_info1)"
   ]
  },
  {
   "cell_type": "markdown",
   "metadata": {},
   "source": [
    "<font size = \"5\">\n",
    "\n",
    "Navigating a JSON list by position"
   ]
  },
  {
   "cell_type": "code",
   "execution_count": 7,
   "metadata": {},
   "outputs": [
    {
     "name": "stdout",
     "output_type": "stream",
     "text": [
      "{'first_name': 'Ned', 'last_name': 'Stark', 'location': 'Atlanta', 'university': 'Emory'}\n",
      "Ned\n"
     ]
    }
   ],
   "source": [
    "extract_info2 = jmespath.search('[0]', json_liststudents)\n",
    "print(extract_info2)\n",
    "\n",
    "extract_info3 = jmespath.search('[0].first_name', json_liststudents)\n",
    "print(extract_info3)\n"
   ]
  },
  {
   "cell_type": "markdown",
   "metadata": {},
   "source": [
    "<font size = \"5\">\n",
    "\n",
    "Extracting elements at all sublevels"
   ]
  },
  {
   "cell_type": "code",
   "execution_count": 8,
   "metadata": {},
   "outputs": [
    {
     "name": "stdout",
     "output_type": "stream",
     "text": [
      "['Ned', 'Cersei']\n"
     ]
    }
   ],
   "source": [
    "# This commands extracts the value of \"first_name\" for all students\n",
    "# The [*] command \n",
    "\n",
    "extract_info3 = jmespath.search('[*].first_name', json_liststudents)\n",
    "print(extract_info3)\n"
   ]
  },
  {
   "cell_type": "markdown",
   "metadata": {},
   "source": [
    "# <span style=\"color:darkblue\"> II. Accessing an API </span>"
   ]
  },
  {
   "cell_type": "markdown",
   "metadata": {},
   "source": [
    "<font size = \"5\">\n",
    "\n",
    "About the example\n",
    "\n",
    "- OpenAlex is one of largest open access repositories <br>\n",
    "of bibliographic information\n",
    "- Contains millions of references and metada on <br>\n",
    "books, papers, authors, and citation networks\n",
    "\n",
    "https://docs.openalex.org"
   ]
  },
  {
   "cell_type": "markdown",
   "metadata": {},
   "source": [
    "<font size = \"5\">\n",
    "\n",
    "Define an URL to access API\n",
    "\n",
    "``` https://website.com/option=12345```\n",
    "\n",
    "- Usually it's a domain followed by a field\n",
    "- Many search engines use this type of format <br>\n",
    "for search queries"
   ]
  },
  {
   "cell_type": "code",
   "execution_count": 9,
   "metadata": {},
   "outputs": [],
   "source": [
    "# Define a new string variable called \"url_openalex_api\"\n",
    "# Notice that we used the backslash to splot the command, since\n",
    "# the URL is quite long.\n",
    "\n",
    "# In this case where are searching for all the works published \n",
    "# by an author whose ID is \"A5023888391\"\n",
    "\n",
    "url_openalex_api = \\\n",
    "      \"https://api.openalex.org/works?filter=author.id:A5023888391\"\n"
   ]
  },
  {
   "cell_type": "markdown",
   "metadata": {},
   "source": [
    "<font size = \"5\">\n",
    "\n",
    "Request data\n"
   ]
  },
  {
   "cell_type": "code",
   "execution_count": 10,
   "metadata": {},
   "outputs": [],
   "source": [
    "# Obtain the JSON data of records from the open alex API\n",
    "# Note: you can break the link using backslash\n",
    "\n",
    "search_results = requests.\\\n",
    "    get(url_openalex_api).json()\n"
   ]
  },
  {
   "cell_type": "markdown",
   "metadata": {},
   "source": [
    "<font size = \"5\">\n",
    "\n",
    "Convert to a JSON file for easier readability"
   ]
  },
  {
   "cell_type": "code",
   "execution_count": 11,
   "metadata": {},
   "outputs": [],
   "source": [
    "# This commands opens the file to write it.\n",
    "# The code in parenthesis of file.write(...) \n",
    "#     nicely formats the json file, with four character indentation.\n",
    "\n",
    "with open('json_files/convert_search_results.json', 'w') as file: \n",
    "    file.write(json.dumps(search_results, indent =4))"
   ]
  },
  {
   "cell_type": "markdown",
   "metadata": {},
   "source": [
    "<font size = \"5\">\n",
    "\n",
    "Browsing with the JSON data viewer\n",
    "\n",
    "<font size = \"3\">\n",
    "\n",
    "- Open the ```convert_search_results.json``` file from the folder in VSCode\n",
    "- Click on VS-Code's \"View\" tab at the top and click on the <br>\n",
    " option \"Command Palette\". This will open a pop-up window. <br>\n",
    "<br>\n",
    "\n",
    "<img src=\"figures/command_palette.png\" alt=\"drawing\" width=\"150\"/>\n",
    "<img src=\"figures/open_jsonviewer.png\" alt=\"drawing\" width=\"350\"/>\n",
    "\n",
    "<br>\n",
    "\n",
    "- Install JSON viewer extension for VS-Code\n",
    "- Search \"Open in JSON viewer\" and click enter. This <br>\n",
    "should open a new tab with the following layout, which has <br>\n",
    "convenient drop-down menus: <br>\n",
    "<br>\n",
    "\n",
    "<img src=\"figures/json_viewer.png\" alt=\"drawing\" width=\"400\"/>"
   ]
  },
  {
   "cell_type": "markdown",
   "metadata": {},
   "source": [
    "<font size = \"5\">\n",
    "\n",
    "Try it yourself! Experiment with the JSON data viewer. <br>\n",
    "Diagnose how the data is structured and the different levels."
   ]
  },
  {
   "cell_type": "markdown",
   "metadata": {},
   "source": [
    "# <span style=\"color:darkblue\"> III. Navigating the nested structure </span>"
   ]
  },
  {
   "cell_type": "markdown",
   "metadata": {},
   "source": [
    "<font size = \"5\">\n",
    "\n",
    "Browse keys in the \"first level\"\n"
   ]
  },
  {
   "cell_type": "code",
   "execution_count": 12,
   "metadata": {},
   "outputs": [
    {
     "name": "stdout",
     "output_type": "stream",
     "text": [
      "3\n",
      "dict_keys(['meta', 'results', 'group_by'])\n"
     ]
    }
   ],
   "source": [
    "# The \"len\" command is used to \n",
    "print(len(search_results))\n",
    "\n",
    "# The \"keys\" subfunction extract the names of the \"first-level\" objects\n",
    "print(search_results.keys())\n",
    "\n",
    "# Store keys to data fram to easy access and visualization\n",
    "search_results_keys = pd.DataFrame(search_results.keys())\n"
   ]
  },
  {
   "cell_type": "markdown",
   "metadata": {},
   "source": [
    "<font size = \"5\">\n",
    "\n",
    "Browse subdictionary within a particular key"
   ]
  },
  {
   "cell_type": "code",
   "execution_count": 13,
   "metadata": {},
   "outputs": [
    {
     "data": {
      "text/plain": [
       "{'count': 62,\n",
       " 'db_response_time_ms': 111,\n",
       " 'page': 1,\n",
       " 'per_page': 25,\n",
       " 'groups_count': None}"
      ]
     },
     "execution_count": 13,
     "metadata": {},
     "output_type": "execute_result"
    }
   ],
   "source": [
    "search_results[\"meta\"]"
   ]
  },
  {
   "cell_type": "markdown",
   "metadata": {},
   "source": [
    "<font size = \"5\">\n",
    "\n",
    "Convert dictionary to pandas"
   ]
  },
  {
   "cell_type": "code",
   "execution_count": 14,
   "metadata": {},
   "outputs": [
    {
     "data": {
      "application/vnd.microsoft.datawrangler.viewer.v0+json": {
       "columns": [
        {
         "name": "index",
         "rawType": "int64",
         "type": "integer"
        },
        {
         "name": "count",
         "rawType": "int64",
         "type": "integer"
        },
        {
         "name": "db_response_time_ms",
         "rawType": "int64",
         "type": "integer"
        },
        {
         "name": "page",
         "rawType": "int64",
         "type": "integer"
        },
        {
         "name": "per_page",
         "rawType": "int64",
         "type": "integer"
        },
        {
         "name": "groups_count",
         "rawType": "object",
         "type": "unknown"
        }
       ],
       "ref": "2d46e2cc-24ef-4519-ac75-4363ec822cda",
       "rows": [
        [
         "0",
         "62",
         "111",
         "1",
         "25",
         null
        ]
       ],
       "shape": {
        "columns": 5,
        "rows": 1
       }
      },
      "text/html": [
       "<div>\n",
       "<style scoped>\n",
       "    .dataframe tbody tr th:only-of-type {\n",
       "        vertical-align: middle;\n",
       "    }\n",
       "\n",
       "    .dataframe tbody tr th {\n",
       "        vertical-align: top;\n",
       "    }\n",
       "\n",
       "    .dataframe thead th {\n",
       "        text-align: right;\n",
       "    }\n",
       "</style>\n",
       "<table border=\"1\" class=\"dataframe\">\n",
       "  <thead>\n",
       "    <tr style=\"text-align: right;\">\n",
       "      <th></th>\n",
       "      <th>count</th>\n",
       "      <th>db_response_time_ms</th>\n",
       "      <th>page</th>\n",
       "      <th>per_page</th>\n",
       "      <th>groups_count</th>\n",
       "    </tr>\n",
       "  </thead>\n",
       "  <tbody>\n",
       "    <tr>\n",
       "      <th>0</th>\n",
       "      <td>62</td>\n",
       "      <td>111</td>\n",
       "      <td>1</td>\n",
       "      <td>25</td>\n",
       "      <td>None</td>\n",
       "    </tr>\n",
       "  </tbody>\n",
       "</table>\n",
       "</div>"
      ],
      "text/plain": [
       "   count  db_response_time_ms  page  per_page groups_count\n",
       "0     62                  111     1        25         None"
      ]
     },
     "execution_count": 14,
     "metadata": {},
     "output_type": "execute_result"
    }
   ],
   "source": [
    "# This code converts to Pandas\n",
    "\n",
    "data = pd.DataFrame(search_results[\"meta\"],index = [0])\n",
    "\n",
    "data"
   ]
  },
  {
   "cell_type": "markdown",
   "metadata": {},
   "source": [
    "<font size = \"5\">\n",
    "\n",
    "Count elements at a particular level"
   ]
  },
  {
   "cell_type": "code",
   "execution_count": 58,
   "metadata": {},
   "outputs": [
    {
     "data": {
      "text/plain": [
       "25"
      ]
     },
     "execution_count": 58,
     "metadata": {},
     "output_type": "execute_result"
    }
   ],
   "source": [
    "# Count number of elements in list\n",
    "len(search_results[\"results\"])"
   ]
  },
  {
   "cell_type": "markdown",
   "metadata": {},
   "source": [
    "<font size = \"5\">\n",
    "\n",
    "You can access different sub elements"
   ]
  },
  {
   "cell_type": "code",
   "execution_count": 59,
   "metadata": {},
   "outputs": [
    {
     "name": "stdout",
     "output_type": "stream",
     "text": [
      "{'id': 'https://openalex.org/W2741809807', 'doi': 'https://doi.org/10.7717/peerj.4375', 'title': 'The state of OA: a large-scale analysis of the prevalence and impact of Open Access articles', 'display_name': 'The state of OA: a large-scale analysis of the prevalence and impact of Open Access articles', 'publication_year': 2018, 'publication_date': '2018-02-13', 'ids': {'openalex': 'https://openalex.org/W2741809807', 'doi': 'https://doi.org/10.7717/peerj.4375', 'mag': '2741809807', 'pmid': 'https://pubmed.ncbi.nlm.nih.gov/29456894', 'pmcid': 'https://www.ncbi.nlm.nih.gov/pmc/articles/5815332'}, 'language': 'en', 'primary_location': {'is_oa': True, 'landing_page_url': 'https://doi.org/10.7717/peerj.4375', 'pdf_url': 'https://peerj.com/articles/4375.pdf', 'source': {'id': 'https://openalex.org/S1983995261', 'display_name': 'PeerJ', 'issn_l': '2167-8359', 'issn': ['2167-8359'], 'is_oa': True, 'is_in_doaj': True, 'is_core': True, 'host_organization': 'https://openalex.org/P4310320104', 'host_organization_name': 'PeerJ, Inc.', 'host_organization_lineage': ['https://openalex.org/P4310320104'], 'host_organization_lineage_names': ['PeerJ, Inc.'], 'type': 'journal'}, 'license': 'cc-by', 'license_id': 'https://openalex.org/licenses/cc-by', 'version': 'publishedVersion', 'is_accepted': True, 'is_published': True}, 'type': 'article', 'type_crossref': 'journal-article', 'indexed_in': ['crossref', 'doaj', 'pubmed'], 'open_access': {'is_oa': True, 'oa_status': 'gold', 'oa_url': 'https://peerj.com/articles/4375.pdf', 'any_repository_has_fulltext': True}, 'authorships': [{'author_position': 'first', 'author': {'id': 'https://openalex.org/A5048491430', 'display_name': 'Heather Piwowar', 'orcid': 'https://orcid.org/0000-0003-1613-5981'}, 'institutions': [{'id': 'https://openalex.org/I4210166736', 'display_name': 'Impact Technology Development (United States)', 'ror': 'https://ror.org/05ppvf150', 'country_code': 'US', 'type': 'company', 'lineage': ['https://openalex.org/I4210166736']}], 'countries': ['US'], 'is_corresponding': False, 'raw_author_name': 'Heather Piwowar', 'raw_affiliation_strings': ['Impactstory, Sanford, NC, USA'], 'affiliations': [{'raw_affiliation_string': 'Impactstory, Sanford, NC, USA', 'institution_ids': ['https://openalex.org/I4210166736']}]}, {'author_position': 'middle', 'author': {'id': 'https://openalex.org/A5023888391', 'display_name': 'Jason Priem', 'orcid': 'https://orcid.org/0000-0001-6187-6610'}, 'institutions': [{'id': 'https://openalex.org/I4210166736', 'display_name': 'Impact Technology Development (United States)', 'ror': 'https://ror.org/05ppvf150', 'country_code': 'US', 'type': 'company', 'lineage': ['https://openalex.org/I4210166736']}], 'countries': ['US'], 'is_corresponding': False, 'raw_author_name': 'Jason Priem', 'raw_affiliation_strings': ['Impactstory, Sanford, NC, USA'], 'affiliations': [{'raw_affiliation_string': 'Impactstory, Sanford, NC, USA', 'institution_ids': ['https://openalex.org/I4210166736']}]}, {'author_position': 'middle', 'author': {'id': 'https://openalex.org/A5068542997', 'display_name': 'Vincent Larivière', 'orcid': 'https://orcid.org/0000-0002-2733-0689'}, 'institutions': [{'id': 'https://openalex.org/I159129438', 'display_name': 'Université du Québec à Montréal', 'ror': 'https://ror.org/002rjbv21', 'country_code': 'CA', 'type': 'education', 'lineage': ['https://openalex.org/I159129438', 'https://openalex.org/I49663120']}, {'id': 'https://openalex.org/I70931966', 'display_name': 'Université de Montréal', 'ror': 'https://ror.org/0161xgx34', 'country_code': 'CA', 'type': 'education', 'lineage': ['https://openalex.org/I70931966']}], 'countries': ['CA'], 'is_corresponding': False, 'raw_author_name': 'Vincent Larivière', 'raw_affiliation_strings': ['Observatoire des Sciences et des Technologies (OST), Centre Interuniversitaire de Recherche sur la Science et la Technologie (CIRST), Université du Québec à Montréal, Montréal, QC, Canada', 'École de bibliothéconomie et des sciences de l’information, Université de Montréal, Montréal, QC, Canada'], 'affiliations': [{'raw_affiliation_string': 'Observatoire des Sciences et des Technologies (OST), Centre Interuniversitaire de Recherche sur la Science et la Technologie (CIRST), Université du Québec à Montréal, Montréal, QC, Canada', 'institution_ids': ['https://openalex.org/I159129438']}, {'raw_affiliation_string': 'École de bibliothéconomie et des sciences de l’information, Université de Montréal, Montréal, QC, Canada', 'institution_ids': ['https://openalex.org/I70931966']}]}, {'author_position': 'middle', 'author': {'id': 'https://openalex.org/A5085171399', 'display_name': 'Juan Pablo Alperín', 'orcid': 'https://orcid.org/0000-0002-9344-7439'}, 'institutions': [{'id': 'https://openalex.org/I18014758', 'display_name': 'Simon Fraser University', 'ror': 'https://ror.org/0213rcc28', 'country_code': 'CA', 'type': 'education', 'lineage': ['https://openalex.org/I18014758']}], 'countries': ['CA'], 'is_corresponding': False, 'raw_author_name': 'Juan Pablo Alperin', 'raw_affiliation_strings': ['Canadian Institute for Studies in Publishing, Simon Fraser University, Vancouver, BC, Canada', 'Public Knowledge Project, Canada'], 'affiliations': [{'raw_affiliation_string': 'Canadian Institute for Studies in Publishing, Simon Fraser University, Vancouver, BC, Canada', 'institution_ids': ['https://openalex.org/I18014758']}, {'raw_affiliation_string': 'Public Knowledge Project, Canada', 'institution_ids': []}]}, {'author_position': 'middle', 'author': {'id': 'https://openalex.org/A5066880338', 'display_name': 'Lisa Matthias', 'orcid': 'https://orcid.org/0000-0002-2612-2132'}, 'institutions': [{'id': 'https://openalex.org/I18014758', 'display_name': 'Simon Fraser University', 'ror': 'https://ror.org/0213rcc28', 'country_code': 'CA', 'type': 'education', 'lineage': ['https://openalex.org/I18014758']}], 'countries': ['CA'], 'is_corresponding': False, 'raw_author_name': 'Lisa Matthias', 'raw_affiliation_strings': ['Scholarly Communications Lab, Simon Fraser University, Vancouver, Canada'], 'affiliations': [{'raw_affiliation_string': 'Scholarly Communications Lab, Simon Fraser University, Vancouver, Canada', 'institution_ids': ['https://openalex.org/I18014758']}]}, {'author_position': 'middle', 'author': {'id': 'https://openalex.org/A5015414792', 'display_name': 'Bree Norlander', 'orcid': 'https://orcid.org/0000-0002-0431-4221'}, 'institutions': [{'id': 'https://openalex.org/I201448701', 'display_name': 'University of Washington', 'ror': 'https://ror.org/00cvxb145', 'country_code': 'US', 'type': 'education', 'lineage': ['https://openalex.org/I201448701']}, {'id': 'https://openalex.org/I58610484', 'display_name': 'Seattle University', 'ror': 'https://ror.org/02jqc0m91', 'country_code': 'US', 'type': 'education', 'lineage': ['https://openalex.org/I58610484']}], 'countries': ['US'], 'is_corresponding': False, 'raw_author_name': 'Bree Norlander', 'raw_affiliation_strings': ['FlourishOA, USA', 'Information School, University of Washington, Seattle, USA'], 'affiliations': [{'raw_affiliation_string': 'Information School, University of Washington, Seattle, USA', 'institution_ids': ['https://openalex.org/I201448701', 'https://openalex.org/I58610484']}, {'raw_affiliation_string': 'FlourishOA, USA', 'institution_ids': []}]}, {'author_position': 'middle', 'author': {'id': 'https://openalex.org/A5062989025', 'display_name': 'Ashley Farley', 'orcid': 'https://orcid.org/0000-0001-9310-6944'}, 'institutions': [{'id': 'https://openalex.org/I58610484', 'display_name': 'Seattle University', 'ror': 'https://ror.org/02jqc0m91', 'country_code': 'US', 'type': 'education', 'lineage': ['https://openalex.org/I58610484']}, {'id': 'https://openalex.org/I201448701', 'display_name': 'University of Washington', 'ror': 'https://ror.org/00cvxb145', 'country_code': 'US', 'type': 'education', 'lineage': ['https://openalex.org/I201448701']}], 'countries': ['US'], 'is_corresponding': False, 'raw_author_name': 'Ashley Farley', 'raw_affiliation_strings': ['FlourishOA, USA', 'Information School, University of Washington, Seattle, USA'], 'affiliations': [{'raw_affiliation_string': 'Information School, University of Washington, Seattle, USA', 'institution_ids': ['https://openalex.org/I58610484', 'https://openalex.org/I201448701']}, {'raw_affiliation_string': 'FlourishOA, USA', 'institution_ids': []}]}, {'author_position': 'middle', 'author': {'id': 'https://openalex.org/A5046879461', 'display_name': 'Jevin D. West', 'orcid': 'https://orcid.org/0000-0002-4118-0322'}, 'institutions': [{'id': 'https://openalex.org/I201448701', 'display_name': 'University of Washington', 'ror': 'https://ror.org/00cvxb145', 'country_code': 'US', 'type': 'education', 'lineage': ['https://openalex.org/I201448701']}, {'id': 'https://openalex.org/I58610484', 'display_name': 'Seattle University', 'ror': 'https://ror.org/02jqc0m91', 'country_code': 'US', 'type': 'education', 'lineage': ['https://openalex.org/I58610484']}], 'countries': ['US'], 'is_corresponding': False, 'raw_author_name': 'Jevin West', 'raw_affiliation_strings': ['Information School, University of Washington, Seattle, USA'], 'affiliations': [{'raw_affiliation_string': 'Information School, University of Washington, Seattle, USA', 'institution_ids': ['https://openalex.org/I201448701', 'https://openalex.org/I58610484']}]}, {'author_position': 'last', 'author': {'id': 'https://openalex.org/A5014077037', 'display_name': 'Stefanie Haustein', 'orcid': 'https://orcid.org/0000-0003-0157-1430'}, 'institutions': [{'id': 'https://openalex.org/I159129438', 'display_name': 'Université du Québec à Montréal', 'ror': 'https://ror.org/002rjbv21', 'country_code': 'CA', 'type': 'education', 'lineage': ['https://openalex.org/I159129438', 'https://openalex.org/I49663120']}, {'id': 'https://openalex.org/I153718931', 'display_name': 'University of Ottawa', 'ror': 'https://ror.org/03c4mmv16', 'country_code': 'CA', 'type': 'education', 'lineage': ['https://openalex.org/I153718931']}], 'countries': ['CA'], 'is_corresponding': False, 'raw_author_name': 'Stefanie Haustein', 'raw_affiliation_strings': ['Observatoire des Sciences et des Technologies (OST), Centre Interuniversitaire de Recherche sur la Science et la Technologie (CIRST), Université du Québec à Montréal, Montréal, QC, Canada', 'School of Information Studies, University of Ottawa, Ottawa, ON, Canada'], 'affiliations': [{'raw_affiliation_string': 'Observatoire des Sciences et des Technologies (OST), Centre Interuniversitaire de Recherche sur la Science et la Technologie (CIRST), Université du Québec à Montréal, Montréal, QC, Canada', 'institution_ids': ['https://openalex.org/I159129438']}, {'raw_affiliation_string': 'School of Information Studies, University of Ottawa, Ottawa, ON, Canada', 'institution_ids': ['https://openalex.org/I153718931']}]}], 'countries_distinct_count': 2, 'institutions_distinct_count': 7, 'corresponding_author_ids': [], 'corresponding_institution_ids': [], 'apc_list': {'value': 1395, 'currency': 'USD', 'value_usd': 1395, 'provenance': 'doaj'}, 'apc_paid': {'value': 1395, 'currency': 'USD', 'value_usd': 1395, 'provenance': 'doaj'}, 'fwci': 76.992, 'has_fulltext': True, 'fulltext_origin': 'pdf', 'cited_by_count': 848, 'citation_normalized_percentile': {'value': 0.999768, 'is_in_top_1_percent': True, 'is_in_top_10_percent': True}, 'cited_by_percentile_year': {'min': 99, 'max': 100}, 'biblio': {'volume': '6', 'issue': None, 'first_page': 'e4375', 'last_page': 'e4375'}, 'is_retracted': False, 'is_paratext': False, 'primary_topic': {'id': 'https://openalex.org/T10102', 'display_name': 'Bibliometric Analysis and Research Evaluation', 'score': 0.9969, 'subfield': {'id': 'https://openalex.org/subfields/1804', 'display_name': 'Statistics, Probability and Uncertainty'}, 'field': {'id': 'https://openalex.org/fields/18', 'display_name': 'Decision Sciences'}, 'domain': {'id': 'https://openalex.org/domains/2', 'display_name': 'Social Sciences'}}, 'topics': [{'id': 'https://openalex.org/T10102', 'display_name': 'Bibliometric Analysis and Research Evaluation', 'score': 0.9969, 'subfield': {'id': 'https://openalex.org/subfields/1804', 'display_name': 'Statistics, Probability and Uncertainty'}, 'field': {'id': 'https://openalex.org/fields/18', 'display_name': 'Decision Sciences'}, 'domain': {'id': 'https://openalex.org/domains/2', 'display_name': 'Social Sciences'}}, {'id': 'https://openalex.org/T13607', 'display_name': 'Preprints in Scientific Communication', 'score': 0.9807, 'subfield': {'id': 'https://openalex.org/subfields/1802', 'display_name': 'Information Systems and Management'}, 'field': {'id': 'https://openalex.org/fields/18', 'display_name': 'Decision Sciences'}, 'domain': {'id': 'https://openalex.org/domains/2', 'display_name': 'Social Sciences'}}, {'id': 'https://openalex.org/T11937', 'display_name': 'Data Sharing and Stewardship in Science', 'score': 0.9185, 'subfield': {'id': 'https://openalex.org/subfields/1710', 'display_name': 'Information Systems'}, 'field': {'id': 'https://openalex.org/fields/17', 'display_name': 'Computer Science'}, 'domain': {'id': 'https://openalex.org/domains/3', 'display_name': 'Physical Sciences'}}], 'keywords': [{'id': 'https://openalex.org/keywords/scholarly-communication', 'display_name': 'Scholarly communication', 'score': 0.5683152}, {'id': 'https://openalex.org/keywords/open-access-publishing', 'display_name': 'Open Access Publishing', 'score': 0.539724}, {'id': 'https://openalex.org/keywords/web-of-science', 'display_name': 'Web of science', 'score': 0.5055373}, {'id': 'https://openalex.org/keywords/open-science', 'display_name': 'Open science', 'score': 0.48734793}, {'id': 'https://openalex.org/keywords/citation-analysis', 'display_name': 'Citation analysis', 'score': 0.43920913}], 'concepts': [{'id': 'https://openalex.org/C2778805511', 'wikidata': 'https://www.wikidata.org/wiki/Q1713', 'display_name': 'Citation', 'level': 2, 'score': 0.68818974}, {'id': 'https://openalex.org/C2780560020', 'wikidata': 'https://www.wikidata.org/wiki/Q79719', 'display_name': 'License', 'level': 2, 'score': 0.5919564}, {'id': 'https://openalex.org/C2777462167', 'wikidata': 'https://www.wikidata.org/wiki/Q7432048', 'display_name': 'Scholarly communication', 'level': 3, 'score': 0.5683152}, {'id': 'https://openalex.org/C3020774429', 'wikidata': 'https://www.wikidata.org/wiki/Q1201886', 'display_name': 'Web of science', 'level': 3, 'score': 0.5055373}, {'id': 'https://openalex.org/C178315738', 'wikidata': 'https://www.wikidata.org/wiki/Q603441', 'display_name': 'Bibliometrics', 'level': 2, 'score': 0.4962271}, {'id': 'https://openalex.org/C2778149293', 'wikidata': 'https://www.wikidata.org/wiki/Q309823', 'display_name': 'Open science', 'level': 2, 'score': 0.48734793}, {'id': 'https://openalex.org/C41008148', 'wikidata': 'https://www.wikidata.org/wiki/Q21198', 'display_name': 'Computer science', 'level': 0, 'score': 0.45299834}, {'id': 'https://openalex.org/C136764020', 'wikidata': 'https://www.wikidata.org/wiki/Q466', 'display_name': 'World Wide Web', 'level': 1, 'score': 0.45292723}, {'id': 'https://openalex.org/C105345328', 'wikidata': 'https://www.wikidata.org/wiki/Q206276', 'display_name': 'Citation analysis', 'level': 3, 'score': 0.43920913}, {'id': 'https://openalex.org/C71924100', 'wikidata': 'https://www.wikidata.org/wiki/Q11190', 'display_name': 'Medicine', 'level': 0, 'score': 0.38992488}, {'id': 'https://openalex.org/C161191863', 'wikidata': 'https://www.wikidata.org/wiki/Q199655', 'display_name': 'Library science', 'level': 1, 'score': 0.37244928}, {'id': 'https://openalex.org/C17744445', 'wikidata': 'https://www.wikidata.org/wiki/Q36442', 'display_name': 'Political science', 'level': 0, 'score': 0.24154112}, {'id': 'https://openalex.org/C95190672', 'wikidata': 'https://www.wikidata.org/wiki/Q815382', 'display_name': 'Meta-analysis', 'level': 2, 'score': 0.15993848}, {'id': 'https://openalex.org/C126322002', 'wikidata': 'https://www.wikidata.org/wiki/Q11180', 'display_name': 'Internal medicine', 'level': 1, 'score': 0.1485905}, {'id': 'https://openalex.org/C105795698', 'wikidata': 'https://www.wikidata.org/wiki/Q12483', 'display_name': 'Statistics', 'level': 1, 'score': 0.13449502}, {'id': 'https://openalex.org/C33923547', 'wikidata': 'https://www.wikidata.org/wiki/Q395', 'display_name': 'Mathematics', 'level': 0, 'score': 0.11654329}, {'id': 'https://openalex.org/C151719136', 'wikidata': 'https://www.wikidata.org/wiki/Q3972943', 'display_name': 'Publishing', 'level': 2, 'score': 0.0}, {'id': 'https://openalex.org/C199539241', 'wikidata': 'https://www.wikidata.org/wiki/Q7748', 'display_name': 'Law', 'level': 1, 'score': 0.0}, {'id': 'https://openalex.org/C111919701', 'wikidata': 'https://www.wikidata.org/wiki/Q9135', 'display_name': 'Operating system', 'level': 1, 'score': 0.0}], 'mesh': [], 'locations_count': 7, 'locations': [{'is_oa': True, 'landing_page_url': 'https://doi.org/10.7717/peerj.4375', 'pdf_url': 'https://peerj.com/articles/4375.pdf', 'source': {'id': 'https://openalex.org/S1983995261', 'display_name': 'PeerJ', 'issn_l': '2167-8359', 'issn': ['2167-8359'], 'is_oa': True, 'is_in_doaj': True, 'is_core': True, 'host_organization': 'https://openalex.org/P4310320104', 'host_organization_name': 'PeerJ, Inc.', 'host_organization_lineage': ['https://openalex.org/P4310320104'], 'host_organization_lineage_names': ['PeerJ, Inc.'], 'type': 'journal'}, 'license': 'cc-by', 'license_id': 'https://openalex.org/licenses/cc-by', 'version': 'publishedVersion', 'is_accepted': True, 'is_published': True}, {'is_oa': False, 'landing_page_url': 'https://doaj.org/article/13b0006802e745a6973c19b2ecb9b97a', 'pdf_url': None, 'source': {'id': 'https://openalex.org/S4306401280', 'display_name': 'DOAJ (DOAJ: Directory of Open Access Journals)', 'issn_l': None, 'issn': None, 'is_oa': True, 'is_in_doaj': False, 'is_core': False, 'host_organization': None, 'host_organization_name': None, 'host_organization_lineage': [], 'host_organization_lineage_names': [], 'type': 'repository'}, 'license': None, 'license_id': None, 'version': None, 'is_accepted': False, 'is_published': False}, {'is_oa': True, 'landing_page_url': 'https://europepmc.org/articles/pmc5815332', 'pdf_url': 'https://europepmc.org/articles/pmc5815332?pdf=render', 'source': {'id': 'https://openalex.org/S4306400806', 'display_name': 'Europe PMC (PubMed Central)', 'issn_l': None, 'issn': None, 'is_oa': True, 'is_in_doaj': False, 'is_core': False, 'host_organization': 'https://openalex.org/I1303153112', 'host_organization_name': 'European Bioinformatics Institute', 'host_organization_lineage': ['https://openalex.org/I1303153112'], 'host_organization_lineage_names': ['European Bioinformatics Institute'], 'type': 'repository'}, 'license': 'cc-by', 'license_id': 'https://openalex.org/licenses/cc-by', 'version': 'publishedVersion', 'is_accepted': True, 'is_published': True}, {'is_oa': True, 'landing_page_url': 'https://www.ncbi.nlm.nih.gov/pmc/articles/PMC5815332', 'pdf_url': None, 'source': {'id': 'https://openalex.org/S2764455111', 'display_name': 'PubMed Central', 'issn_l': None, 'issn': None, 'is_oa': True, 'is_in_doaj': False, 'is_core': False, 'host_organization': 'https://openalex.org/I1299303238', 'host_organization_name': 'National Institutes of Health', 'host_organization_lineage': ['https://openalex.org/I1299303238'], 'host_organization_lineage_names': ['National Institutes of Health'], 'type': 'repository'}, 'license': None, 'license_id': None, 'version': 'publishedVersion', 'is_accepted': True, 'is_published': True}, {'is_oa': True, 'landing_page_url': 'http://hdl.handle.net/1866/23242', 'pdf_url': 'https://papyrus.bib.umontreal.ca/xmlui/bitstream/1866/23242/1/peerj-06-4375.pdf', 'source': {'id': 'https://openalex.org/S4306402422', 'display_name': 'Papyrus : Institutional Repository (Université de Montréal)', 'issn_l': None, 'issn': None, 'is_oa': True, 'is_in_doaj': False, 'is_core': False, 'host_organization': 'https://openalex.org/I70931966', 'host_organization_name': 'Université de Montréal', 'host_organization_lineage': ['https://openalex.org/I70931966'], 'host_organization_lineage_names': ['Université de Montréal'], 'type': 'repository'}, 'license': 'cc-by', 'license_id': 'https://openalex.org/licenses/cc-by', 'version': 'submittedVersion', 'is_accepted': False, 'is_published': False}, {'is_oa': True, 'landing_page_url': 'https://digitalcommons.unl.edu/cgi/viewcontent.cgi?article=1143&context=scholcom', 'pdf_url': 'https://digitalcommons.unl.edu/cgi/viewcontent.cgi?article=1143&context=scholcom', 'source': {'id': 'https://openalex.org/S4377196105', 'display_name': 'Digital Commons - University of Nebraska Lincoln (University of Nebraska–Lincoln)', 'issn_l': None, 'issn': None, 'is_oa': False, 'is_in_doaj': False, 'is_core': False, 'host_organization': 'https://openalex.org/I114395901', 'host_organization_name': 'University of Nebraska–Lincoln', 'host_organization_lineage': ['https://openalex.org/I114395901'], 'host_organization_lineage_names': ['University of Nebraska–Lincoln'], 'type': 'repository'}, 'license': 'cc-by', 'license_id': 'https://openalex.org/licenses/cc-by', 'version': 'submittedVersion', 'is_accepted': False, 'is_published': False}, {'is_oa': False, 'landing_page_url': 'https://pubmed.ncbi.nlm.nih.gov/29456894', 'pdf_url': None, 'source': {'id': 'https://openalex.org/S4306525036', 'display_name': 'PubMed', 'issn_l': None, 'issn': None, 'is_oa': False, 'is_in_doaj': False, 'is_core': False, 'host_organization': 'https://openalex.org/I1299303238', 'host_organization_name': 'National Institutes of Health', 'host_organization_lineage': ['https://openalex.org/I1299303238'], 'host_organization_lineage_names': ['National Institutes of Health'], 'type': 'repository'}, 'license': None, 'license_id': None, 'version': None, 'is_accepted': False, 'is_published': False}], 'best_oa_location': {'is_oa': True, 'landing_page_url': 'https://doi.org/10.7717/peerj.4375', 'pdf_url': 'https://peerj.com/articles/4375.pdf', 'source': {'id': 'https://openalex.org/S1983995261', 'display_name': 'PeerJ', 'issn_l': '2167-8359', 'issn': ['2167-8359'], 'is_oa': True, 'is_in_doaj': True, 'is_core': True, 'host_organization': 'https://openalex.org/P4310320104', 'host_organization_name': 'PeerJ, Inc.', 'host_organization_lineage': ['https://openalex.org/P4310320104'], 'host_organization_lineage_names': ['PeerJ, Inc.'], 'type': 'journal'}, 'license': 'cc-by', 'license_id': 'https://openalex.org/licenses/cc-by', 'version': 'publishedVersion', 'is_accepted': True, 'is_published': True}, 'sustainable_development_goals': [], 'grants': [], 'datasets': [], 'versions': [], 'referenced_works_count': 45, 'referenced_works': ['https://openalex.org/W1560783210', 'https://openalex.org/W1724212071', 'https://openalex.org/W1767272795', 'https://openalex.org/W1917633107', 'https://openalex.org/W1931854307', 'https://openalex.org/W1944943415', 'https://openalex.org/W1957687230', 'https://openalex.org/W1989318653', 'https://openalex.org/W1994426000', 'https://openalex.org/W2003844967', 'https://openalex.org/W2016860460', 'https://openalex.org/W2020807482', 'https://openalex.org/W2029057325', 'https://openalex.org/W2031754690', 'https://openalex.org/W2048185449', 'https://openalex.org/W2078310052', 'https://openalex.org/W2089123513', 'https://openalex.org/W2115339903', 'https://openalex.org/W2140880926', 'https://openalex.org/W2160597895', 'https://openalex.org/W2231201268', 'https://openalex.org/W2299516731', 'https://openalex.org/W2306268324', 'https://openalex.org/W2322381034', 'https://openalex.org/W2343014812', 'https://openalex.org/W2345375849', 'https://openalex.org/W2463568293', 'https://openalex.org/W2511661767', 'https://openalex.org/W2511663072', 'https://openalex.org/W2520991028', 'https://openalex.org/W2563251083', 'https://openalex.org/W2566143661', 'https://openalex.org/W2587705861', 'https://openalex.org/W2588027260', 'https://openalex.org/W2611818942', 'https://openalex.org/W2737712680', 'https://openalex.org/W2753353163', 'https://openalex.org/W2762597540', 'https://openalex.org/W2785823074', 'https://openalex.org/W2953072907', 'https://openalex.org/W2997143876', 'https://openalex.org/W3012252063', 'https://openalex.org/W3121567788', 'https://openalex.org/W4254015553', 'https://openalex.org/W4298108315'], 'related_works': ['https://openalex.org/W3203790917', 'https://openalex.org/W3201736257', 'https://openalex.org/W2904800587', 'https://openalex.org/W2608652318', 'https://openalex.org/W2294604317', 'https://openalex.org/W2285613965', 'https://openalex.org/W2162430746', 'https://openalex.org/W2086473138', 'https://openalex.org/W2060904856', 'https://openalex.org/W203102807'], 'abstract_inverted_index': {'Despite': [0], 'growing': [1], 'interest': [2], 'in': [3, 57, 73, 110, 122], 'Open': [4, 201], 'Access': [5], '(OA)': [6], 'to': [7, 54, 252], 'scholarly': [8, 105], 'literature,': [9], 'there': [10], 'is': [11, 107, 116, 176], 'an': [12, 34, 85, 185, 199, 231], 'unmet': [13], 'need': [14, 31], 'for': [15, 42, 174, 219], 'large-scale,': [16], 'up-to-date,': [17], 'and': [18, 24, 77, 112, 124, 144, 221, 237, 256], 'reproducible': [19], 'studies': [20], 'assessing': [21], 'the': [22, 104, 134, 145, 170, 195, 206, 213, 245], 'prevalence': [23], 'characteristics': [25], 'of': [26, 51, 75, 83, 103, 137, 141, 163, 209], 'OA.': [27, 168, 239], 'We': [28, 46, 97, 203, 240], 'address': [29], 'this': [30, 114, 142], 'using': [32, 95, 244], 'oaDOI,': [33], 'open': [35], 'online': [36], 'service': [37], 'that': [38, 89, 99, 113, 147, 155], 'determines': [39], 'OA': [40, 56, 93, 108, 138, 159, 175, 210, 223, 254], 'status': [41], '67': [43], 'million': [44], 'articles.': [45], 'use': [47], 'three': [48, 58], 'samples,': [49], 'each': [50], '100,000': [52], 'articles,': [53, 152, 211], 'investigate': [55], 'populations:': [59], '(1)': [60], 'all': [61], 'journal': [62, 70], 'articles': [63, 71, 79, 94, 164, 191, 224], 'assigned': [64], 'a': [65, 250], 'Crossref': [66], 'DOI,': [67], '(2)': [68], 'recent': [69, 128], 'indexed': [72], 'Web': [74], 'Science,': [76], '(3)': [78], 'viewed': [80], 'by': [81, 120, 235], 'users': [82, 91, 157], 'Unpaywall,': [84], 'open-source': [86], 'browser': [87], 'extension': [88], 'lets': [90], 'find': [92, 154], 'oaDOI.': [96], 'estimate': [98], 'at': [100], 'least': [101], '28%': [102], 'literature': [106], '(19M': [109], 'total)': [111], 'proportion': [115], 'growing,': [117], 'driven': [118, 233], 'particularly': [119], 'growth': [121], 'Gold': [123], 'Hybrid.': [125], 'The': [126], 'most': [127, 171], 'year': [129], 'analyzed': [130], '(2015)': [131], 'also': [132, 204], 'has': [133], 'highest': [135], 'percentage': [136], '(45%).': [139], 'Because': [140], 'growth,': [143], 'fact': [146], 'readers': [148], 'disproportionately': [149], 'access': [150], 'newer': [151], 'we': [153, 188], 'Unpaywall': [156], 'encounter': [158], 'quite': [160], 'frequently:': [161], '47%': [162], 'they': [165], 'view': [166], 'are': [167], 'Notably,': [169], 'common': [172], 'mechanism': [173], 'not': [177], 'Gold,': [178], 'Green,': [179], 'or': [180], 'Hybrid': [181, 238], 'OA,': [182], 'but': [183], 'rather': [184], 'under-discussed': [186], 'category': [187], 'dub': [189], 'Bronze:': [190], 'made': [192], 'free-to-read': [193], 'on': [194], 'publisher': [196], 'website,': [197], 'without': [198], 'explicit': [200], 'license.': [202], 'examine': [205], 'citation': [207, 216], 'impact': [208], 'corroborating': [212], 'so-called': [214], 'open-access': [215], 'advantage:': [217], 'accounting': [218], 'age': [220], 'discipline,': [222], 'receive': [225], '18%': [226], 'more': [227], 'citations': [228], 'than': [229], 'average,': [230], 'effect': [232], 'primarily': [234], 'Green': [236], 'encourage': [241], 'further': [242], 'research': [243], 'free': [246], 'oaDOI': [247], 'service,': [248], 'as': [249], 'way': [251], 'inform': [253], 'policy': [255], 'practice.': [257]}, 'cited_by_api_url': 'https://api.openalex.org/works?filter=cites:W2741809807', 'counts_by_year': [{'year': 2024, 'cited_by_count': 83}, {'year': 2023, 'cited_by_count': 133}, {'year': 2022, 'cited_by_count': 141}, {'year': 2021, 'cited_by_count': 133}, {'year': 2020, 'cited_by_count': 174}, {'year': 2019, 'cited_by_count': 112}, {'year': 2018, 'cited_by_count': 57}, {'year': 2017, 'cited_by_count': 9}], 'updated_date': '2024-09-02T16:46:12.829368', 'created_date': '2017-08-08'}\n",
      "{'id': 'https://openalex.org/W2122130843', 'doi': 'https://doi.org/10.5210/fm.v15i7.2874', 'title': 'Scientometrics 2.0: New metrics of scholarly impact on the social Web', 'display_name': 'Scientometrics 2.0: New metrics of scholarly impact on the social Web', 'publication_year': 2010, 'publication_date': '2010-07-02', 'ids': {'openalex': 'https://openalex.org/W2122130843', 'doi': 'https://doi.org/10.5210/fm.v15i7.2874', 'mag': '2122130843'}, 'language': 'en', 'primary_location': {'is_oa': False, 'landing_page_url': 'https://doi.org/10.5210/fm.v15i7.2874', 'pdf_url': None, 'source': {'id': 'https://openalex.org/S102129144', 'display_name': 'First Monday', 'issn_l': '1396-0458', 'issn': ['1396-0458', '1396-0466'], 'is_oa': False, 'is_in_doaj': False, 'is_core': True, 'host_organization': 'https://openalex.org/P4310316040', 'host_organization_name': 'University of Illinois at Chicago', 'host_organization_lineage': ['https://openalex.org/P4310316040'], 'host_organization_lineage_names': ['University of Illinois at Chicago'], 'type': 'journal'}, 'license': None, 'license_id': None, 'version': None, 'is_accepted': False, 'is_published': False}, 'type': 'article', 'type_crossref': 'journal-article', 'indexed_in': ['crossref'], 'open_access': {'is_oa': False, 'oa_status': 'closed', 'oa_url': None, 'any_repository_has_fulltext': False}, 'authorships': [{'author_position': 'first', 'author': {'id': 'https://openalex.org/A5023888391', 'display_name': 'Jason Priem', 'orcid': 'https://orcid.org/0000-0001-6187-6610'}, 'institutions': [{'id': 'https://openalex.org/I114027177', 'display_name': 'University of North Carolina at Chapel Hill', 'ror': 'https://ror.org/0130frc33', 'country_code': 'US', 'type': 'education', 'lineage': ['https://openalex.org/I114027177']}], 'countries': ['US'], 'is_corresponding': False, 'raw_author_name': 'Jason Priem', 'raw_affiliation_strings': ['School of Information and Library Science, University of North Carolina at Chapel Hill'], 'affiliations': [{'raw_affiliation_string': 'School of Information and Library Science, University of North Carolina at Chapel Hill', 'institution_ids': ['https://openalex.org/I114027177']}]}, {'author_position': 'last', 'author': {'id': 'https://openalex.org/A5001395463', 'display_name': 'Bradely H. Hemminger', 'orcid': None}, 'institutions': [{'id': 'https://openalex.org/I114027177', 'display_name': 'University of North Carolina at Chapel Hill', 'ror': 'https://ror.org/0130frc33', 'country_code': 'US', 'type': 'education', 'lineage': ['https://openalex.org/I114027177']}], 'countries': ['US'], 'is_corresponding': False, 'raw_author_name': 'Bradely H. Hemminger', 'raw_affiliation_strings': ['School of Information and Library Science, University of North Carolina at Chapel Hill'], 'affiliations': [{'raw_affiliation_string': 'School of Information and Library Science, University of North Carolina at Chapel Hill', 'institution_ids': ['https://openalex.org/I114027177']}]}], 'countries_distinct_count': 1, 'institutions_distinct_count': 1, 'corresponding_author_ids': [], 'corresponding_institution_ids': [], 'apc_list': None, 'apc_paid': None, 'fwci': 10.048, 'has_fulltext': False, 'cited_by_count': 371, 'citation_normalized_percentile': {'value': 0.999842, 'is_in_top_1_percent': True, 'is_in_top_10_percent': True}, 'cited_by_percentile_year': {'min': 99, 'max': 100}, 'biblio': {'volume': None, 'issue': None, 'first_page': None, 'last_page': None}, 'is_retracted': False, 'is_paratext': False, 'primary_topic': {'id': 'https://openalex.org/T10064', 'display_name': 'Statistical Mechanics of Complex Networks', 'score': 0.945, 'subfield': {'id': 'https://openalex.org/subfields/3109', 'display_name': 'Statistical and Nonlinear Physics'}, 'field': {'id': 'https://openalex.org/fields/31', 'display_name': 'Physics and Astronomy'}, 'domain': {'id': 'https://openalex.org/domains/3', 'display_name': 'Physical Sciences'}}, 'topics': [{'id': 'https://openalex.org/T10064', 'display_name': 'Statistical Mechanics of Complex Networks', 'score': 0.945, 'subfield': {'id': 'https://openalex.org/subfields/3109', 'display_name': 'Statistical and Nonlinear Physics'}, 'field': {'id': 'https://openalex.org/fields/31', 'display_name': 'Physics and Astronomy'}, 'domain': {'id': 'https://openalex.org/domains/3', 'display_name': 'Physical Sciences'}}, {'id': 'https://openalex.org/T10102', 'display_name': 'Bibliometric Analysis and Research Evaluation', 'score': 0.9425, 'subfield': {'id': 'https://openalex.org/subfields/1804', 'display_name': 'Statistics, Probability and Uncertainty'}, 'field': {'id': 'https://openalex.org/fields/18', 'display_name': 'Decision Sciences'}, 'domain': {'id': 'https://openalex.org/domains/2', 'display_name': 'Social Sciences'}}, {'id': 'https://openalex.org/T13976', 'display_name': 'Webometrics Analysis in Academic Research', 'score': 0.9262, 'subfield': {'id': 'https://openalex.org/subfields/1710', 'display_name': 'Information Systems'}, 'field': {'id': 'https://openalex.org/fields/17', 'display_name': 'Computer Science'}, 'domain': {'id': 'https://openalex.org/domains/3', 'display_name': 'Physical Sciences'}}], 'keywords': [{'id': 'https://openalex.org/keywords/bookmarking', 'display_name': 'Bookmarking', 'score': 0.9785063}, {'id': 'https://openalex.org/keywords/microblogging', 'display_name': 'Microblogging', 'score': 0.7313243}, {'id': 'https://openalex.org/keywords/altmetrics', 'display_name': 'Altmetrics', 'score': 0.69323653}, {'id': 'https://openalex.org/keywords/academic-web-impact', 'display_name': 'Academic Web Impact', 'score': 0.561384}, {'id': 'https://openalex.org/keywords/bibliometric-analysis', 'display_name': 'Bibliometric Analysis', 'score': 0.525217}, {'id': 'https://openalex.org/keywords/webometrics', 'display_name': 'Webometrics', 'score': 0.520306}, {'id': 'https://openalex.org/keywords/internet-research', 'display_name': 'Internet Research', 'score': 0.513266}, {'id': 'https://openalex.org/keywords/social-network-analysis', 'display_name': 'Social Network Analysis', 'score': 0.509555}, {'id': 'https://openalex.org/keywords/value', 'display_name': 'Value (mathematics)', 'score': 0.4389456}], 'concepts': [{'id': 'https://openalex.org/C176504155', 'wikidata': 'https://www.wikidata.org/wiki/Q4943254', 'display_name': 'Bookmarking', 'level': 2, 'score': 0.9785063}, {'id': 'https://openalex.org/C143275388', 'wikidata': 'https://www.wikidata.org/wiki/Q92438', 'display_name': 'Microblogging', 'level': 3, 'score': 0.7313243}, {'id': 'https://openalex.org/C2778407487', 'wikidata': 'https://www.wikidata.org/wiki/Q14565201', 'display_name': 'Altmetrics', 'level': 2, 'score': 0.69323653}, {'id': 'https://openalex.org/C518677369', 'wikidata': 'https://www.wikidata.org/wiki/Q202833', 'display_name': 'Social media', 'level': 2, 'score': 0.6859108}, {'id': 'https://openalex.org/C136764020', 'wikidata': 'https://www.wikidata.org/wiki/Q466', 'display_name': 'World Wide Web', 'level': 1, 'score': 0.63723254}, {'id': 'https://openalex.org/C41008148', 'wikidata': 'https://www.wikidata.org/wiki/Q21198', 'display_name': 'Computer science', 'level': 0, 'score': 0.6299458}, {'id': 'https://openalex.org/C2778805511', 'wikidata': 'https://www.wikidata.org/wiki/Q1713', 'display_name': 'Citation', 'level': 2, 'score': 0.6135862}, {'id': 'https://openalex.org/C136699151', 'wikidata': 'https://www.wikidata.org/wiki/Q131164', 'display_name': 'Web 2.0', 'level': 3, 'score': 0.56478894}, {'id': 'https://openalex.org/C2522767166', 'wikidata': 'https://www.wikidata.org/wiki/Q2374463', 'display_name': 'Data science', 'level': 1, 'score': 0.5443489}, {'id': 'https://openalex.org/C525823164', 'wikidata': 'https://www.wikidata.org/wiki/Q472342', 'display_name': 'Scientometrics', 'level': 2, 'score': 0.51665455}, {'id': 'https://openalex.org/C178315738', 'wikidata': 'https://www.wikidata.org/wiki/Q603441', 'display_name': 'Bibliometrics', 'level': 2, 'score': 0.44123963}, {'id': 'https://openalex.org/C2776291640', 'wikidata': 'https://www.wikidata.org/wiki/Q2912517', 'display_name': 'Value (mathematics)', 'level': 2, 'score': 0.4389456}, {'id': 'https://openalex.org/C35578498', 'wikidata': 'https://www.wikidata.org/wiki/Q193424', 'display_name': 'Web service', 'level': 2, 'score': 0.36668122}, {'id': 'https://openalex.org/C119857082', 'wikidata': 'https://www.wikidata.org/wiki/Q2539', 'display_name': 'Machine learning', 'level': 1, 'score': 0.0}], 'mesh': [], 'locations_count': 1, 'locations': [{'is_oa': False, 'landing_page_url': 'https://doi.org/10.5210/fm.v15i7.2874', 'pdf_url': None, 'source': {'id': 'https://openalex.org/S102129144', 'display_name': 'First Monday', 'issn_l': '1396-0458', 'issn': ['1396-0458', '1396-0466'], 'is_oa': False, 'is_in_doaj': False, 'is_core': True, 'host_organization': 'https://openalex.org/P4310316040', 'host_organization_name': 'University of Illinois at Chicago', 'host_organization_lineage': ['https://openalex.org/P4310316040'], 'host_organization_lineage_names': ['University of Illinois at Chicago'], 'type': 'journal'}, 'license': None, 'license_id': None, 'version': None, 'is_accepted': False, 'is_published': False}], 'best_oa_location': None, 'sustainable_development_goals': [{'id': 'https://metadata.un.org/sdg/4', 'score': 0.46, 'display_name': 'Quality education'}], 'grants': [], 'datasets': [], 'versions': [], 'referenced_works_count': 0, 'referenced_works': [], 'related_works': ['https://openalex.org/W4385506752', 'https://openalex.org/W4210725730', 'https://openalex.org/W3145450668', 'https://openalex.org/W3115068246', 'https://openalex.org/W2803459330', 'https://openalex.org/W2578464', 'https://openalex.org/W2523185919', 'https://openalex.org/W2137224556', 'https://openalex.org/W2098903378', 'https://openalex.org/W2034807921'], 'abstract_inverted_index': {'The': [0], 'growing': [1], 'flood': [2], 'of': [3, 10, 14, 31, 61, 71, 82], 'scholarly': [4], 'literature': [5], 'is': [6, 24], 'exposing': [7], 'the': [8, 27, 67, 77, 89, 99], 'weaknesses': [9], 'current,': [11], 'citation-based': [12], 'methods': [13], 'evaluating': [15], 'and': [16, 21, 29, 43, 57, 80, 94], 'filtering': [17], 'articles.': [18], 'A': [19], 'novel': [20], 'promising': [22], 'approach': [23], 'to': [25, 74], 'examine': [26], 'use': [28], 'citation': [30], 'articles': [32], 'in': [33], 'a': [34, 52], 'new': [35], 'forum:': [36], 'Web': [37], '2.0': [38], 'services': [39, 73], 'like': [40], 'social': [41, 100], 'bookmarking': [42], 'microblogging.': [44], 'Metrics': [45], 'based': [46], 'on': [47], 'this': [48], 'data': [49, 83], 'could': [50], 'build': [51], '“Scientometics': [53], '2.0,”': [54], 'supporting': [55], 'richer': [56], 'more': [58], 'timely': [59], 'pictures': [60], \"articles'\": [62], 'impact.': [63], 'This': [64], 'paper': [65], 'develops': [66], 'most': [68], 'comprehensive': [69], 'list': [70], 'these': [72], 'date,': [75], 'assessing': [76], 'potential': [78], 'value': [79], 'availability': [81], 'from': [84, 98], 'each.': [85], 'We': [86], 'also': [87], 'suggest': [88], 'next': [90], 'steps': [91], 'toward': [92], 'building': [93], 'validating': [95], 'metrics': [96], 'drawn': [97], 'Web.': [101]}, 'cited_by_api_url': 'https://api.openalex.org/works?filter=cites:W2122130843', 'counts_by_year': [{'year': 2024, 'cited_by_count': 8}, {'year': 2023, 'cited_by_count': 18}, {'year': 2022, 'cited_by_count': 28}, {'year': 2021, 'cited_by_count': 13}, {'year': 2020, 'cited_by_count': 29}, {'year': 2019, 'cited_by_count': 27}, {'year': 2018, 'cited_by_count': 28}, {'year': 2017, 'cited_by_count': 39}, {'year': 2016, 'cited_by_count': 31}, {'year': 2015, 'cited_by_count': 32}, {'year': 2014, 'cited_by_count': 43}, {'year': 2013, 'cited_by_count': 33}, {'year': 2012, 'cited_by_count': 22}], 'updated_date': '2024-09-10T02:03:17.211885', 'created_date': '2016-06-24'}\n"
     ]
    },
    {
     "data": {
      "text/plain": [
       "dict_keys(['id', 'doi', 'title', 'display_name', 'publication_year', 'publication_date', 'ids', 'language', 'primary_location', 'type', 'type_crossref', 'indexed_in', 'open_access', 'authorships', 'countries_distinct_count', 'institutions_distinct_count', 'corresponding_author_ids', 'corresponding_institution_ids', 'apc_list', 'apc_paid', 'fwci', 'has_fulltext', 'fulltext_origin', 'cited_by_count', 'citation_normalized_percentile', 'cited_by_percentile_year', 'biblio', 'is_retracted', 'is_paratext', 'primary_topic', 'topics', 'keywords', 'concepts', 'mesh', 'locations_count', 'locations', 'best_oa_location', 'sustainable_development_goals', 'grants', 'datasets', 'versions', 'referenced_works_count', 'referenced_works', 'related_works', 'abstract_inverted_index', 'cited_by_api_url', 'counts_by_year', 'updated_date', 'created_date'])"
      ]
     },
     "execution_count": 59,
     "metadata": {},
     "output_type": "execute_result"
    }
   ],
   "source": [
    "print(search_results[\"results\"][0])\n",
    "print(search_results[\"results\"][1])\n",
    "\n",
    "search_results[\"results\"][0].keys()"
   ]
  },
  {
   "cell_type": "markdown",
   "metadata": {},
   "source": [
    "<font size =\"5\">\n",
    "\n",
    "Gradually work through the nested structure!"
   ]
  },
  {
   "cell_type": "markdown",
   "metadata": {},
   "source": [
    "<font size = \"5\">\n",
    "\n",
    "Try it yourself!\n",
    "\n",
    "<font size = \"3\">\n",
    "\n",
    "- Navigate the \"results\" file using the JSON Data Viewer\n",
    "- Use the \"jmes.search()\" to extract the \"title\" of all the <br>\n",
    "search results.\n"
   ]
  },
  {
   "cell_type": "code",
   "execution_count": 15,
   "metadata": {},
   "outputs": [
    {
     "name": "stdout",
     "output_type": "stream",
     "text": [
      "['The state of OA: a large-scale analysis of the prevalence and impact of Open Access articles', 'Scientometrics 2.0: New metrics of scholarly impact on the social Web', 'Altmetrics in the wild: Using social media to explore scholarly impact', 'altmetrics: a manifesto', 'The Altmetrics Collection', 'How and why scholars cite on Twitter', 'Coverage and adoption of altmetrics sources in the bibliometric community', 'OpenAlex: A fully-open index of scholarly works, authors, venues, institutions, and concepts', 'Beyond the paper', \"Beyond citations: Scholars' visibility on the social Web\", 'The State of OA: A large-scale analysis of the prevalence and impact of Open Access articles', 'The Future of OA: A large-scale analysis projecting Open Access publication and readership', 'Data for free: Using LMS activity logs to measure community in online courses', 'The power of altmetrics on a CV', 'Decoupling the scholarly journal', 'Riding the crest of the altmetrics wave: How librarians can help prepare faculty for the next generation of research impact metrics', 'The State of OA: A large-scale analysis of the prevalence and impact of Open Access articles', 'Introducing the Leiden Ranking Open Edition', 'Altmetrics (Chapter from Beyond Bibliometrics: Harnessing Multidimensional Indicators of Scholarly Impact)', 'Prevalence and use of Twitter among scholars', 'CiteAs: Better Software through Sociotechnical Change for Better Software Citation', 'As scholars undertake a great migration to online publishing, altmetrics stands to provide an academic measurement of twitter and other online activity', 'The Imperative for Open Altmetrics', 'Coverage and adoption of altmetrics sources in the bibliometric community', 'Riding the crest of the altmetrics wave: How librarians can help prepare faculty for the next generation of research impact metrics']\n"
     ]
    }
   ],
   "source": [
    "# Write your own code\n",
    "titles = jmespath.search('results[*].title', search_results)\n",
    "print(titles)\n",
    "\n"
   ]
  },
  {
   "cell_type": "markdown",
   "metadata": {},
   "source": [
    "<font size = \"5\">\n",
    "\n",
    "Try it yourself!\n",
    "\n",
    "<font size = \"3\">\n",
    "\n",
    "- Convert ```search_results[\"results\"]``` to a Pandas dataframe\n",
    "- Are there any columns with conversion issues?\n",
    "\n",
    "Note: Pandas conversion can into issues for variables, with <br>\n",
    "several levels of nesting and more data cleaning may be required <br>\n",
    "to properly code these cases."
   ]
  },
  {
   "cell_type": "code",
   "execution_count": 16,
   "metadata": {},
   "outputs": [
    {
     "name": "stdout",
     "output_type": "stream",
     "text": [
      "<class 'pandas.core.frame.DataFrame'>\n",
      "RangeIndex: 25 entries, 0 to 24\n",
      "Data columns (total 51 columns):\n",
      " #   Column                          Non-Null Count  Dtype  \n",
      "---  ------                          --------------  -----  \n",
      " 0   id                              25 non-null     object \n",
      " 1   doi                             21 non-null     object \n",
      " 2   title                           25 non-null     object \n",
      " 3   display_name                    25 non-null     object \n",
      " 4   publication_year                25 non-null     int64  \n",
      " 5   publication_date                25 non-null     object \n",
      " 6   ids                             25 non-null     object \n",
      " 7   language                        25 non-null     object \n",
      " 8   primary_location                24 non-null     object \n",
      " 9   type                            25 non-null     object \n",
      " 10  type_crossref                   25 non-null     object \n",
      " 11  indexed_in                      25 non-null     object \n",
      " 12  open_access                     25 non-null     object \n",
      " 13  authorships                     25 non-null     object \n",
      " 14  institution_assertions          25 non-null     object \n",
      " 15  countries_distinct_count        25 non-null     int64  \n",
      " 16  institutions_distinct_count     25 non-null     int64  \n",
      " 17  corresponding_author_ids        25 non-null     object \n",
      " 18  corresponding_institution_ids   25 non-null     object \n",
      " 19  apc_list                        7 non-null      object \n",
      " 20  apc_paid                        3 non-null      object \n",
      " 21  fwci                            15 non-null     float64\n",
      " 22  has_fulltext                    25 non-null     bool   \n",
      " 23  fulltext_origin                 10 non-null     object \n",
      " 24  cited_by_count                  25 non-null     int64  \n",
      " 25  citation_normalized_percentile  24 non-null     object \n",
      " 26  cited_by_percentile_year        25 non-null     object \n",
      " 27  biblio                          25 non-null     object \n",
      " 28  is_retracted                    25 non-null     bool   \n",
      " 29  is_paratext                     25 non-null     bool   \n",
      " 30  primary_topic                   24 non-null     object \n",
      " 31  topics                          25 non-null     object \n",
      " 32  keywords                        25 non-null     object \n",
      " 33  concepts                        25 non-null     object \n",
      " 34  mesh                            25 non-null     object \n",
      " 35  locations_count                 25 non-null     int64  \n",
      " 36  locations                       25 non-null     object \n",
      " 37  best_oa_location                17 non-null     object \n",
      " 38  sustainable_development_goals   25 non-null     object \n",
      " 39  grants                          25 non-null     object \n",
      " 40  datasets                        25 non-null     object \n",
      " 41  versions                        25 non-null     object \n",
      " 42  referenced_works_count          25 non-null     int64  \n",
      " 43  referenced_works                25 non-null     object \n",
      " 44  related_works                   25 non-null     object \n",
      " 45  abstract_inverted_index         20 non-null     object \n",
      " 46  abstract_inverted_index_v3      0 non-null      object \n",
      " 47  cited_by_api_url                25 non-null     object \n",
      " 48  counts_by_year                  25 non-null     object \n",
      " 49  updated_date                    25 non-null     object \n",
      " 50  created_date                    25 non-null     object \n",
      "dtypes: bool(3), float64(1), int64(6), object(41)\n",
      "memory usage: 9.6+ KB\n"
     ]
    },
    {
     "data": {
      "application/vnd.microsoft.datawrangler.viewer.v0+json": {
       "columns": [
        {
         "name": "index",
         "rawType": "int64",
         "type": "integer"
        },
        {
         "name": "id",
         "rawType": "object",
         "type": "string"
        },
        {
         "name": "doi",
         "rawType": "object",
         "type": "unknown"
        },
        {
         "name": "title",
         "rawType": "object",
         "type": "string"
        },
        {
         "name": "display_name",
         "rawType": "object",
         "type": "string"
        },
        {
         "name": "publication_year",
         "rawType": "int64",
         "type": "integer"
        },
        {
         "name": "publication_date",
         "rawType": "object",
         "type": "string"
        },
        {
         "name": "ids",
         "rawType": "object",
         "type": "unknown"
        },
        {
         "name": "language",
         "rawType": "object",
         "type": "string"
        },
        {
         "name": "primary_location",
         "rawType": "object",
         "type": "unknown"
        },
        {
         "name": "type",
         "rawType": "object",
         "type": "string"
        },
        {
         "name": "type_crossref",
         "rawType": "object",
         "type": "string"
        },
        {
         "name": "indexed_in",
         "rawType": "object",
         "type": "unknown"
        },
        {
         "name": "open_access",
         "rawType": "object",
         "type": "unknown"
        },
        {
         "name": "authorships",
         "rawType": "object",
         "type": "unknown"
        },
        {
         "name": "institution_assertions",
         "rawType": "object",
         "type": "unknown"
        },
        {
         "name": "countries_distinct_count",
         "rawType": "int64",
         "type": "integer"
        },
        {
         "name": "institutions_distinct_count",
         "rawType": "int64",
         "type": "integer"
        },
        {
         "name": "corresponding_author_ids",
         "rawType": "object",
         "type": "unknown"
        },
        {
         "name": "corresponding_institution_ids",
         "rawType": "object",
         "type": "unknown"
        },
        {
         "name": "apc_list",
         "rawType": "object",
         "type": "unknown"
        },
        {
         "name": "apc_paid",
         "rawType": "object",
         "type": "unknown"
        },
        {
         "name": "fwci",
         "rawType": "float64",
         "type": "float"
        },
        {
         "name": "has_fulltext",
         "rawType": "bool",
         "type": "boolean"
        },
        {
         "name": "fulltext_origin",
         "rawType": "object",
         "type": "unknown"
        },
        {
         "name": "cited_by_count",
         "rawType": "int64",
         "type": "integer"
        },
        {
         "name": "citation_normalized_percentile",
         "rawType": "object",
         "type": "unknown"
        },
        {
         "name": "cited_by_percentile_year",
         "rawType": "object",
         "type": "unknown"
        },
        {
         "name": "biblio",
         "rawType": "object",
         "type": "unknown"
        },
        {
         "name": "is_retracted",
         "rawType": "bool",
         "type": "boolean"
        },
        {
         "name": "is_paratext",
         "rawType": "bool",
         "type": "boolean"
        },
        {
         "name": "primary_topic",
         "rawType": "object",
         "type": "unknown"
        },
        {
         "name": "topics",
         "rawType": "object",
         "type": "unknown"
        },
        {
         "name": "keywords",
         "rawType": "object",
         "type": "unknown"
        },
        {
         "name": "concepts",
         "rawType": "object",
         "type": "unknown"
        },
        {
         "name": "mesh",
         "rawType": "object",
         "type": "unknown"
        },
        {
         "name": "locations_count",
         "rawType": "int64",
         "type": "integer"
        },
        {
         "name": "locations",
         "rawType": "object",
         "type": "unknown"
        },
        {
         "name": "best_oa_location",
         "rawType": "object",
         "type": "unknown"
        },
        {
         "name": "sustainable_development_goals",
         "rawType": "object",
         "type": "unknown"
        },
        {
         "name": "grants",
         "rawType": "object",
         "type": "unknown"
        },
        {
         "name": "datasets",
         "rawType": "object",
         "type": "unknown"
        },
        {
         "name": "versions",
         "rawType": "object",
         "type": "unknown"
        },
        {
         "name": "referenced_works_count",
         "rawType": "int64",
         "type": "integer"
        },
        {
         "name": "referenced_works",
         "rawType": "object",
         "type": "unknown"
        },
        {
         "name": "related_works",
         "rawType": "object",
         "type": "unknown"
        },
        {
         "name": "abstract_inverted_index",
         "rawType": "object",
         "type": "unknown"
        },
        {
         "name": "abstract_inverted_index_v3",
         "rawType": "object",
         "type": "unknown"
        },
        {
         "name": "cited_by_api_url",
         "rawType": "object",
         "type": "string"
        },
        {
         "name": "counts_by_year",
         "rawType": "object",
         "type": "unknown"
        },
        {
         "name": "updated_date",
         "rawType": "object",
         "type": "string"
        },
        {
         "name": "created_date",
         "rawType": "object",
         "type": "string"
        }
       ],
       "ref": "62a12ad9-ee1e-4b8e-b667-083a9650d231",
       "rows": [
        [
         "0",
         "https://openalex.org/W2741809807",
         "https://doi.org/10.7717/peerj.4375",
         "The state of OA: a large-scale analysis of the prevalence and impact of Open Access articles",
         "The state of OA: a large-scale analysis of the prevalence and impact of Open Access articles",
         "2018",
         "2018-02-13",
         "{'openalex': 'https://openalex.org/W2741809807', 'doi': 'https://doi.org/10.7717/peerj.4375', 'mag': '2741809807', 'pmid': 'https://pubmed.ncbi.nlm.nih.gov/29456894', 'pmcid': 'https://www.ncbi.nlm.nih.gov/pmc/articles/5815332'}",
         "en",
         "{'is_oa': True, 'landing_page_url': 'https://doi.org/10.7717/peerj.4375', 'pdf_url': 'https://peerj.com/articles/4375.pdf', 'source': {'id': 'https://openalex.org/S1983995261', 'display_name': 'PeerJ', 'issn_l': '2167-8359', 'issn': ['2167-8359'], 'is_oa': True, 'is_in_doaj': True, 'is_indexed_in_scopus': True, 'is_core': True, 'host_organization': 'https://openalex.org/P4310320104', 'host_organization_name': 'PeerJ, Inc.', 'host_organization_lineage': ['https://openalex.org/P4310320104'], 'host_organization_lineage_names': ['PeerJ, Inc.'], 'type': 'journal'}, 'license': 'cc-by', 'license_id': 'https://openalex.org/licenses/cc-by', 'version': 'publishedVersion', 'is_accepted': True, 'is_published': True}",
         "article",
         "journal-article",
         "['crossref', 'doaj', 'pubmed']",
         "{'is_oa': True, 'oa_status': 'gold', 'oa_url': 'https://peerj.com/articles/4375.pdf', 'any_repository_has_fulltext': True}",
         "[{'author_position': 'first', 'author': {'id': 'https://openalex.org/A5048491430', 'display_name': 'Heather Piwowar', 'orcid': 'https://orcid.org/0000-0003-1613-5981'}, 'institutions': [{'id': 'https://openalex.org/I4210166736', 'display_name': 'Impact Technology Development (United States)', 'ror': 'https://ror.org/05ppvf150', 'country_code': 'US', 'type': 'company', 'lineage': ['https://openalex.org/I4210166736']}], 'countries': ['US'], 'is_corresponding': False, 'raw_author_name': 'Heather Piwowar', 'raw_affiliation_strings': ['Impactstory, Sanford, NC, USA'], 'affiliations': [{'raw_affiliation_string': 'Impactstory, Sanford, NC, USA', 'institution_ids': ['https://openalex.org/I4210166736']}]}, {'author_position': 'middle', 'author': {'id': 'https://openalex.org/A5023888391', 'display_name': 'Jason Priem', 'orcid': 'https://orcid.org/0000-0001-6187-6610'}, 'institutions': [{'id': 'https://openalex.org/I4210166736', 'display_name': 'Impact Technology Development (United States)', 'ror': 'https://ror.org/05ppvf150', 'country_code': 'US', 'type': 'company', 'lineage': ['https://openalex.org/I4210166736']}], 'countries': ['US'], 'is_corresponding': False, 'raw_author_name': 'Jason Priem', 'raw_affiliation_strings': ['Impactstory, Sanford, NC, USA'], 'affiliations': [{'raw_affiliation_string': 'Impactstory, Sanford, NC, USA', 'institution_ids': ['https://openalex.org/I4210166736']}]}, {'author_position': 'middle', 'author': {'id': 'https://openalex.org/A5068542997', 'display_name': 'Vincent Larivière', 'orcid': 'https://orcid.org/0000-0002-2733-0689'}, 'institutions': [{'id': 'https://openalex.org/I70931966', 'display_name': 'Université de Montréal', 'ror': 'https://ror.org/0161xgx34', 'country_code': 'CA', 'type': 'funder', 'lineage': ['https://openalex.org/I70931966']}, {'id': 'https://openalex.org/I159129438', 'display_name': 'Université du Québec à Montréal', 'ror': 'https://ror.org/002rjbv21', 'country_code': 'CA', 'type': 'funder', 'lineage': ['https://openalex.org/I159129438', 'https://openalex.org/I49663120']}], 'countries': ['CA'], 'is_corresponding': False, 'raw_author_name': 'Vincent Larivière', 'raw_affiliation_strings': ['Observatoire des Sciences et des Technologies (OST), Centre Interuniversitaire de Recherche sur la Science et la Technologie (CIRST), Université du Québec à Montréal, Montréal, QC, Canada', 'École de bibliothéconomie et des sciences de l’information, Université de Montréal, Montréal, QC, Canada'], 'affiliations': [{'raw_affiliation_string': 'École de bibliothéconomie et des sciences de l’information, Université de Montréal, Montréal, QC, Canada', 'institution_ids': ['https://openalex.org/I70931966']}, {'raw_affiliation_string': 'Observatoire des Sciences et des Technologies (OST), Centre Interuniversitaire de Recherche sur la Science et la Technologie (CIRST), Université du Québec à Montréal, Montréal, QC, Canada', 'institution_ids': ['https://openalex.org/I159129438']}]}, {'author_position': 'middle', 'author': {'id': 'https://openalex.org/A5085171399', 'display_name': 'Juan Pablo Alperín', 'orcid': 'https://orcid.org/0000-0002-9344-7439'}, 'institutions': [{'id': 'https://openalex.org/I18014758', 'display_name': 'Simon Fraser University', 'ror': 'https://ror.org/0213rcc28', 'country_code': 'CA', 'type': 'funder', 'lineage': ['https://openalex.org/I18014758']}, {'id': 'https://openalex.org/I4387153203', 'display_name': 'Public Knowledge Project', 'ror': 'https://ror.org/05ek4tb53', 'country_code': None, 'type': 'other', 'lineage': ['https://openalex.org/I18014758', 'https://openalex.org/I4387153203']}], 'countries': ['CA'], 'is_corresponding': False, 'raw_author_name': 'Juan Pablo Alperin', 'raw_affiliation_strings': ['Canadian Institute for Studies in Publishing, Simon Fraser University, Vancouver, BC, Canada', 'Public Knowledge Project, Canada'], 'affiliations': [{'raw_affiliation_string': 'Canadian Institute for Studies in Publishing, Simon Fraser University, Vancouver, BC, Canada', 'institution_ids': ['https://openalex.org/I18014758']}, {'raw_affiliation_string': 'Public Knowledge Project, Canada', 'institution_ids': ['https://openalex.org/I4387153203']}]}, {'author_position': 'middle', 'author': {'id': 'https://openalex.org/A5066880338', 'display_name': 'Lisa Matthias', 'orcid': 'https://orcid.org/0000-0002-2612-2132'}, 'institutions': [{'id': 'https://openalex.org/I18014758', 'display_name': 'Simon Fraser University', 'ror': 'https://ror.org/0213rcc28', 'country_code': 'CA', 'type': 'funder', 'lineage': ['https://openalex.org/I18014758']}], 'countries': ['CA'], 'is_corresponding': False, 'raw_author_name': 'Lisa Matthias', 'raw_affiliation_strings': ['Scholarly Communications Lab, Simon Fraser University, Vancouver, Canada'], 'affiliations': [{'raw_affiliation_string': 'Scholarly Communications Lab, Simon Fraser University, Vancouver, Canada', 'institution_ids': ['https://openalex.org/I18014758']}]}, {'author_position': 'middle', 'author': {'id': 'https://openalex.org/A5015414792', 'display_name': 'Bree Norlander', 'orcid': 'https://orcid.org/0000-0002-0431-4221'}, 'institutions': [{'id': 'https://openalex.org/I201448701', 'display_name': 'University of Washington', 'ror': 'https://ror.org/00cvxb145', 'country_code': 'US', 'type': 'funder', 'lineage': ['https://openalex.org/I201448701']}, {'id': 'https://openalex.org/I58610484', 'display_name': 'Seattle University', 'ror': 'https://ror.org/02jqc0m91', 'country_code': 'US', 'type': 'education', 'lineage': ['https://openalex.org/I58610484']}], 'countries': ['US'], 'is_corresponding': False, 'raw_author_name': 'Bree Norlander', 'raw_affiliation_strings': ['FlourishOA, USA', 'Information School, University of Washington, Seattle, USA'], 'affiliations': [{'raw_affiliation_string': 'Information School, University of Washington, Seattle, USA', 'institution_ids': ['https://openalex.org/I201448701', 'https://openalex.org/I58610484']}, {'raw_affiliation_string': 'FlourishOA, USA', 'institution_ids': []}]}, {'author_position': 'middle', 'author': {'id': 'https://openalex.org/A5062989025', 'display_name': 'Ashley Farley', 'orcid': 'https://orcid.org/0000-0001-9310-6944'}, 'institutions': [{'id': 'https://openalex.org/I201448701', 'display_name': 'University of Washington', 'ror': 'https://ror.org/00cvxb145', 'country_code': 'US', 'type': 'funder', 'lineage': ['https://openalex.org/I201448701']}, {'id': 'https://openalex.org/I58610484', 'display_name': 'Seattle University', 'ror': 'https://ror.org/02jqc0m91', 'country_code': 'US', 'type': 'education', 'lineage': ['https://openalex.org/I58610484']}], 'countries': ['US'], 'is_corresponding': False, 'raw_author_name': 'Ashley Farley', 'raw_affiliation_strings': ['FlourishOA, USA', 'Information School, University of Washington, Seattle, USA'], 'affiliations': [{'raw_affiliation_string': 'Information School, University of Washington, Seattle, USA', 'institution_ids': ['https://openalex.org/I201448701', 'https://openalex.org/I58610484']}, {'raw_affiliation_string': 'FlourishOA, USA', 'institution_ids': []}]}, {'author_position': 'middle', 'author': {'id': 'https://openalex.org/A5046879461', 'display_name': 'Jevin D. West', 'orcid': 'https://orcid.org/0000-0002-4118-0322'}, 'institutions': [{'id': 'https://openalex.org/I201448701', 'display_name': 'University of Washington', 'ror': 'https://ror.org/00cvxb145', 'country_code': 'US', 'type': 'funder', 'lineage': ['https://openalex.org/I201448701']}, {'id': 'https://openalex.org/I58610484', 'display_name': 'Seattle University', 'ror': 'https://ror.org/02jqc0m91', 'country_code': 'US', 'type': 'education', 'lineage': ['https://openalex.org/I58610484']}], 'countries': ['US'], 'is_corresponding': False, 'raw_author_name': 'Jevin West', 'raw_affiliation_strings': ['Information School, University of Washington, Seattle, USA'], 'affiliations': [{'raw_affiliation_string': 'Information School, University of Washington, Seattle, USA', 'institution_ids': ['https://openalex.org/I201448701', 'https://openalex.org/I58610484']}]}, {'author_position': 'last', 'author': {'id': 'https://openalex.org/A5014077037', 'display_name': 'Stefanie Haustein', 'orcid': 'https://orcid.org/0000-0003-0157-1430'}, 'institutions': [{'id': 'https://openalex.org/I159129438', 'display_name': 'Université du Québec à Montréal', 'ror': 'https://ror.org/002rjbv21', 'country_code': 'CA', 'type': 'funder', 'lineage': ['https://openalex.org/I159129438', 'https://openalex.org/I49663120']}, {'id': 'https://openalex.org/I153718931', 'display_name': 'University of Ottawa', 'ror': 'https://ror.org/03c4mmv16', 'country_code': 'CA', 'type': 'funder', 'lineage': ['https://openalex.org/I153718931']}], 'countries': ['CA'], 'is_corresponding': False, 'raw_author_name': 'Stefanie Haustein', 'raw_affiliation_strings': ['Observatoire des Sciences et des Technologies (OST), Centre Interuniversitaire de Recherche sur la Science et la Technologie (CIRST), Université du Québec à Montréal, Montréal, QC, Canada', 'School of Information Studies, University of Ottawa, Ottawa, ON, Canada'], 'affiliations': [{'raw_affiliation_string': 'Observatoire des Sciences et des Technologies (OST), Centre Interuniversitaire de Recherche sur la Science et la Technologie (CIRST), Université du Québec à Montréal, Montréal, QC, Canada', 'institution_ids': ['https://openalex.org/I159129438']}, {'raw_affiliation_string': 'School of Information Studies, University of Ottawa, Ottawa, ON, Canada', 'institution_ids': ['https://openalex.org/I153718931']}]}]",
         "[]",
         "2",
         "8",
         "[]",
         "[]",
         "{'value': 1395, 'currency': 'USD', 'value_usd': 1395}",
         "{'value': 1395, 'currency': 'USD', 'value_usd': 1395}",
         "76.282",
         "True",
         "pdf",
         "962",
         "{'value': 0.999768, 'is_in_top_1_percent': True, 'is_in_top_10_percent': True}",
         "{'min': 99, 'max': 100}",
         "{'volume': '6', 'issue': None, 'first_page': 'e4375', 'last_page': 'e4375'}",
         "False",
         "False",
         "{'id': 'https://openalex.org/T10102', 'display_name': 'scientometrics and bibliometrics research', 'score': 0.9969, 'subfield': {'id': 'https://openalex.org/subfields/1804', 'display_name': 'Statistics, Probability and Uncertainty'}, 'field': {'id': 'https://openalex.org/fields/18', 'display_name': 'Decision Sciences'}, 'domain': {'id': 'https://openalex.org/domains/2', 'display_name': 'Social Sciences'}}",
         "[{'id': 'https://openalex.org/T10102', 'display_name': 'scientometrics and bibliometrics research', 'score': 0.9969, 'subfield': {'id': 'https://openalex.org/subfields/1804', 'display_name': 'Statistics, Probability and Uncertainty'}, 'field': {'id': 'https://openalex.org/fields/18', 'display_name': 'Decision Sciences'}, 'domain': {'id': 'https://openalex.org/domains/2', 'display_name': 'Social Sciences'}}, {'id': 'https://openalex.org/T13607', 'display_name': 'Academic Publishing and Open Access', 'score': 0.9807, 'subfield': {'id': 'https://openalex.org/subfields/1802', 'display_name': 'Information Systems and Management'}, 'field': {'id': 'https://openalex.org/fields/18', 'display_name': 'Decision Sciences'}, 'domain': {'id': 'https://openalex.org/domains/2', 'display_name': 'Social Sciences'}}, {'id': 'https://openalex.org/T11937', 'display_name': 'Research Data Management Practices', 'score': 0.9185, 'subfield': {'id': 'https://openalex.org/subfields/1710', 'display_name': 'Information Systems'}, 'field': {'id': 'https://openalex.org/fields/17', 'display_name': 'Computer Science'}, 'domain': {'id': 'https://openalex.org/domains/3', 'display_name': 'Physical Sciences'}}]",
         "[{'id': 'https://openalex.org/keywords/scholarly-communication', 'display_name': 'Scholarly Communication', 'score': 0.5683152}, {'id': 'https://openalex.org/keywords/web-of-science', 'display_name': 'Web of science', 'score': 0.5055373}, {'id': 'https://openalex.org/keywords/open-science', 'display_name': 'Open Science', 'score': 0.48734793}, {'id': 'https://openalex.org/keywords/citation-analysis', 'display_name': 'Citation analysis', 'score': 0.43920913}]",
         "[{'id': 'https://openalex.org/C2778805511', 'wikidata': 'https://www.wikidata.org/wiki/Q1713', 'display_name': 'Citation', 'level': 2, 'score': 0.68818974}, {'id': 'https://openalex.org/C2780560020', 'wikidata': 'https://www.wikidata.org/wiki/Q79719', 'display_name': 'License', 'level': 2, 'score': 0.5919564}, {'id': 'https://openalex.org/C2777462167', 'wikidata': 'https://www.wikidata.org/wiki/Q7432048', 'display_name': 'Scholarly communication', 'level': 3, 'score': 0.5683152}, {'id': 'https://openalex.org/C3020774429', 'wikidata': 'https://www.wikidata.org/wiki/Q1201886', 'display_name': 'Web of science', 'level': 3, 'score': 0.5055373}, {'id': 'https://openalex.org/C178315738', 'wikidata': 'https://www.wikidata.org/wiki/Q603441', 'display_name': 'Bibliometrics', 'level': 2, 'score': 0.4962271}, {'id': 'https://openalex.org/C2778149293', 'wikidata': 'https://www.wikidata.org/wiki/Q309823', 'display_name': 'Open science', 'level': 2, 'score': 0.48734793}, {'id': 'https://openalex.org/C41008148', 'wikidata': 'https://www.wikidata.org/wiki/Q21198', 'display_name': 'Computer science', 'level': 0, 'score': 0.45299834}, {'id': 'https://openalex.org/C136764020', 'wikidata': 'https://www.wikidata.org/wiki/Q466', 'display_name': 'World Wide Web', 'level': 1, 'score': 0.45292723}, {'id': 'https://openalex.org/C105345328', 'wikidata': 'https://www.wikidata.org/wiki/Q206276', 'display_name': 'Citation analysis', 'level': 3, 'score': 0.43920913}, {'id': 'https://openalex.org/C71924100', 'wikidata': 'https://www.wikidata.org/wiki/Q11190', 'display_name': 'Medicine', 'level': 0, 'score': 0.38992488}, {'id': 'https://openalex.org/C161191863', 'wikidata': 'https://www.wikidata.org/wiki/Q199655', 'display_name': 'Library science', 'level': 1, 'score': 0.37244928}, {'id': 'https://openalex.org/C17744445', 'wikidata': 'https://www.wikidata.org/wiki/Q36442', 'display_name': 'Political science', 'level': 0, 'score': 0.24154112}, {'id': 'https://openalex.org/C95190672', 'wikidata': 'https://www.wikidata.org/wiki/Q815382', 'display_name': 'Meta-analysis', 'level': 2, 'score': 0.15993848}, {'id': 'https://openalex.org/C126322002', 'wikidata': 'https://www.wikidata.org/wiki/Q11180', 'display_name': 'Internal medicine', 'level': 1, 'score': 0.1485905}, {'id': 'https://openalex.org/C105795698', 'wikidata': 'https://www.wikidata.org/wiki/Q12483', 'display_name': 'Statistics', 'level': 1, 'score': 0.13449502}, {'id': 'https://openalex.org/C33923547', 'wikidata': 'https://www.wikidata.org/wiki/Q395', 'display_name': 'Mathematics', 'level': 0, 'score': 0.11654329}, {'id': 'https://openalex.org/C151719136', 'wikidata': 'https://www.wikidata.org/wiki/Q3972943', 'display_name': 'Publishing', 'level': 2, 'score': 0.0}, {'id': 'https://openalex.org/C199539241', 'wikidata': 'https://www.wikidata.org/wiki/Q7748', 'display_name': 'Law', 'level': 1, 'score': 0.0}, {'id': 'https://openalex.org/C111919701', 'wikidata': 'https://www.wikidata.org/wiki/Q9135', 'display_name': 'Operating system', 'level': 1, 'score': 0.0}]",
         "[]",
         "7",
         "[{'is_oa': True, 'landing_page_url': 'https://doi.org/10.7717/peerj.4375', 'pdf_url': 'https://peerj.com/articles/4375.pdf', 'source': {'id': 'https://openalex.org/S1983995261', 'display_name': 'PeerJ', 'issn_l': '2167-8359', 'issn': ['2167-8359'], 'is_oa': True, 'is_in_doaj': True, 'is_indexed_in_scopus': True, 'is_core': True, 'host_organization': 'https://openalex.org/P4310320104', 'host_organization_name': 'PeerJ, Inc.', 'host_organization_lineage': ['https://openalex.org/P4310320104'], 'host_organization_lineage_names': ['PeerJ, Inc.'], 'type': 'journal'}, 'license': 'cc-by', 'license_id': 'https://openalex.org/licenses/cc-by', 'version': 'publishedVersion', 'is_accepted': True, 'is_published': True}, {'is_oa': False, 'landing_page_url': 'https://doaj.org/article/13b0006802e745a6973c19b2ecb9b97a', 'pdf_url': None, 'source': {'id': 'https://openalex.org/S4306401280', 'display_name': 'DOAJ (DOAJ: Directory of Open Access Journals)', 'issn_l': None, 'issn': None, 'is_oa': True, 'is_in_doaj': False, 'is_indexed_in_scopus': False, 'is_core': False, 'host_organization': None, 'host_organization_name': None, 'host_organization_lineage': [], 'host_organization_lineage_names': [], 'type': 'repository'}, 'license': None, 'license_id': None, 'version': None, 'is_accepted': False, 'is_published': False}, {'is_oa': True, 'landing_page_url': 'https://europepmc.org/articles/pmc5815332', 'pdf_url': 'https://europepmc.org/articles/pmc5815332?pdf=render', 'source': {'id': 'https://openalex.org/S4306400806', 'display_name': 'Europe PMC (PubMed Central)', 'issn_l': None, 'issn': None, 'is_oa': True, 'is_in_doaj': False, 'is_indexed_in_scopus': False, 'is_core': False, 'host_organization': 'https://openalex.org/I1303153112', 'host_organization_name': 'European Bioinformatics Institute', 'host_organization_lineage': ['https://openalex.org/I1303153112'], 'host_organization_lineage_names': ['European Bioinformatics Institute'], 'type': 'repository'}, 'license': 'cc-by', 'license_id': 'https://openalex.org/licenses/cc-by', 'version': 'publishedVersion', 'is_accepted': True, 'is_published': True}, {'is_oa': True, 'landing_page_url': 'https://www.ncbi.nlm.nih.gov/pmc/articles/PMC5815332', 'pdf_url': None, 'source': {'id': 'https://openalex.org/S2764455111', 'display_name': 'PubMed Central', 'issn_l': None, 'issn': None, 'is_oa': True, 'is_in_doaj': False, 'is_indexed_in_scopus': False, 'is_core': False, 'host_organization': 'https://openalex.org/I1299303238', 'host_organization_name': 'National Institutes of Health', 'host_organization_lineage': ['https://openalex.org/I1299303238'], 'host_organization_lineage_names': ['National Institutes of Health'], 'type': 'repository'}, 'license': None, 'license_id': None, 'version': 'publishedVersion', 'is_accepted': True, 'is_published': True}, {'is_oa': True, 'landing_page_url': 'https://digitalcommons.unl.edu/cgi/viewcontent.cgi?article=1143&context=scholcom', 'pdf_url': 'https://digitalcommons.unl.edu/cgi/viewcontent.cgi?article=1143&context=scholcom', 'source': {'id': 'https://openalex.org/S4377196105', 'display_name': 'Digital Commons - University of Nebraska Lincoln (University of Nebraska–Lincoln)', 'issn_l': None, 'issn': None, 'is_oa': False, 'is_in_doaj': False, 'is_indexed_in_scopus': False, 'is_core': False, 'host_organization': 'https://openalex.org/I114395901', 'host_organization_name': 'University of Nebraska–Lincoln', 'host_organization_lineage': ['https://openalex.org/I114395901'], 'host_organization_lineage_names': ['University of Nebraska–Lincoln'], 'type': 'repository'}, 'license': 'cc-by', 'license_id': 'https://openalex.org/licenses/cc-by', 'version': 'submittedVersion', 'is_accepted': False, 'is_published': False}, {'is_oa': True, 'landing_page_url': 'http://hdl.handle.net/1866/23242', 'pdf_url': 'https://papyrus.bib.umontreal.ca/xmlui/bitstream/1866/23242/1/peerj-06-4375.pdf', 'source': {'id': 'https://openalex.org/S4306402422', 'display_name': 'Papyrus : Institutional Repository (Université de Montréal)', 'issn_l': None, 'issn': None, 'is_oa': True, 'is_in_doaj': False, 'is_indexed_in_scopus': False, 'is_core': False, 'host_organization': 'https://openalex.org/I70931966', 'host_organization_name': 'Université de Montréal', 'host_organization_lineage': ['https://openalex.org/I70931966'], 'host_organization_lineage_names': ['Université de Montréal'], 'type': 'repository'}, 'license': 'cc-by', 'license_id': 'https://openalex.org/licenses/cc-by', 'version': 'submittedVersion', 'is_accepted': False, 'is_published': False}, {'is_oa': False, 'landing_page_url': 'https://pubmed.ncbi.nlm.nih.gov/29456894', 'pdf_url': None, 'source': {'id': 'https://openalex.org/S4306525036', 'display_name': 'PubMed', 'issn_l': None, 'issn': None, 'is_oa': False, 'is_in_doaj': False, 'is_indexed_in_scopus': False, 'is_core': False, 'host_organization': 'https://openalex.org/I1299303238', 'host_organization_name': 'National Institutes of Health', 'host_organization_lineage': ['https://openalex.org/I1299303238'], 'host_organization_lineage_names': ['National Institutes of Health'], 'type': 'repository'}, 'license': None, 'license_id': None, 'version': None, 'is_accepted': False, 'is_published': False}]",
         "{'is_oa': True, 'landing_page_url': 'https://doi.org/10.7717/peerj.4375', 'pdf_url': 'https://peerj.com/articles/4375.pdf', 'source': {'id': 'https://openalex.org/S1983995261', 'display_name': 'PeerJ', 'issn_l': '2167-8359', 'issn': ['2167-8359'], 'is_oa': True, 'is_in_doaj': True, 'is_indexed_in_scopus': True, 'is_core': True, 'host_organization': 'https://openalex.org/P4310320104', 'host_organization_name': 'PeerJ, Inc.', 'host_organization_lineage': ['https://openalex.org/P4310320104'], 'host_organization_lineage_names': ['PeerJ, Inc.'], 'type': 'journal'}, 'license': 'cc-by', 'license_id': 'https://openalex.org/licenses/cc-by', 'version': 'publishedVersion', 'is_accepted': True, 'is_published': True}",
         "[]",
         "[]",
         "[]",
         "[]",
         "45",
         "['https://openalex.org/W1560783210', 'https://openalex.org/W1724212071', 'https://openalex.org/W1767272795', 'https://openalex.org/W1917633107', 'https://openalex.org/W1931854307', 'https://openalex.org/W1944943415', 'https://openalex.org/W1957687230', 'https://openalex.org/W1989318653', 'https://openalex.org/W2003844967', 'https://openalex.org/W2016860460', 'https://openalex.org/W2020807482', 'https://openalex.org/W2029057325', 'https://openalex.org/W2031754690', 'https://openalex.org/W2048185449', 'https://openalex.org/W2078310052', 'https://openalex.org/W2089123513', 'https://openalex.org/W2115339903', 'https://openalex.org/W2140880926', 'https://openalex.org/W2160597895', 'https://openalex.org/W2231201268', 'https://openalex.org/W2299516731', 'https://openalex.org/W2306268324', 'https://openalex.org/W2322381034', 'https://openalex.org/W2343014812', 'https://openalex.org/W2345375849', 'https://openalex.org/W2463568293', 'https://openalex.org/W2511661767', 'https://openalex.org/W2511663072', 'https://openalex.org/W2520991028', 'https://openalex.org/W2563251083', 'https://openalex.org/W2566143661', 'https://openalex.org/W2587705861', 'https://openalex.org/W2588027260', 'https://openalex.org/W2611818942', 'https://openalex.org/W2737712680', 'https://openalex.org/W2753353163', 'https://openalex.org/W2762597540', 'https://openalex.org/W2785823074', 'https://openalex.org/W2953072907', 'https://openalex.org/W2997143876', 'https://openalex.org/W3012252063', 'https://openalex.org/W3121567788', 'https://openalex.org/W4254015553', 'https://openalex.org/W4298108315', 'https://openalex.org/W4301734034']",
         "['https://openalex.org/W3203790917', 'https://openalex.org/W3201736257', 'https://openalex.org/W2904800587', 'https://openalex.org/W2608652318', 'https://openalex.org/W2294604317', 'https://openalex.org/W2285613965', 'https://openalex.org/W2162430746', 'https://openalex.org/W2086473138', 'https://openalex.org/W2060904856', 'https://openalex.org/W203102807']",
         "{'Despite': [0], 'growing': [1], 'interest': [2], 'in': [3, 57, 73, 110, 122], 'Open': [4, 201], 'Access': [5], '(OA)': [6], 'to': [7, 54, 252], 'scholarly': [8, 105], 'literature,': [9], 'there': [10], 'is': [11, 107, 116, 176], 'an': [12, 34, 85, 185, 199, 231], 'unmet': [13], 'need': [14, 31], 'for': [15, 42, 174, 219], 'large-scale,': [16], 'up-to-date,': [17], 'and': [18, 24, 77, 112, 124, 144, 221, 237, 256], 'reproducible': [19], 'studies': [20], 'assessing': [21], 'the': [22, 104, 134, 145, 170, 195, 206, 213, 245], 'prevalence': [23], 'characteristics': [25], 'of': [26, 51, 75, 83, 103, 137, 141, 163, 209], 'OA.': [27, 168, 239], 'We': [28, 46, 97, 203, 240], 'address': [29], 'this': [30, 114, 142], 'using': [32, 95, 244], 'oaDOI,': [33], 'open': [35], 'online': [36], 'service': [37], 'that': [38, 89, 99, 113, 147, 155], 'determines': [39], 'OA': [40, 56, 93, 108, 138, 159, 175, 210, 223, 254], 'status': [41], '67': [43], 'million': [44], 'articles.': [45], 'use': [47], 'three': [48, 58], 'samples,': [49], 'each': [50], '100,000': [52], 'articles,': [53, 152, 211], 'investigate': [55], 'populations:': [59], '(1)': [60], 'all': [61], 'journal': [62, 70], 'articles': [63, 71, 79, 94, 164, 191, 224], 'assigned': [64], 'a': [65, 250], 'Crossref': [66], 'DOI,': [67], '(2)': [68], 'recent': [69, 128], 'indexed': [72], 'Web': [74], 'Science,': [76], '(3)': [78], 'viewed': [80], 'by': [81, 120, 235], 'users': [82, 91, 157], 'Unpaywall,': [84], 'open-source': [86], 'browser': [87], 'extension': [88], 'lets': [90], 'find': [92, 154], 'oaDOI.': [96], 'estimate': [98], 'at': [100], 'least': [101], '28%': [102], 'literature': [106], '(19M': [109], 'total)': [111], 'proportion': [115], 'growing,': [117], 'driven': [118, 233], 'particularly': [119], 'growth': [121], 'Gold': [123], 'Hybrid.': [125], 'The': [126], 'most': [127, 171], 'year': [129], 'analyzed': [130], '(2015)': [131], 'also': [132, 204], 'has': [133], 'highest': [135], 'percentage': [136], '(45%).': [139], 'Because': [140], 'growth,': [143], 'fact': [146], 'readers': [148], 'disproportionately': [149], 'access': [150], 'newer': [151], 'we': [153, 188], 'Unpaywall': [156], 'encounter': [158], 'quite': [160], 'frequently:': [161], '47%': [162], 'they': [165], 'view': [166], 'are': [167], 'Notably,': [169], 'common': [172], 'mechanism': [173], 'not': [177], 'Gold,': [178], 'Green,': [179], 'or': [180], 'Hybrid': [181, 238], 'OA,': [182], 'but': [183], 'rather': [184], 'under-discussed': [186], 'category': [187], 'dub': [189], 'Bronze:': [190], 'made': [192], 'free-to-read': [193], 'on': [194], 'publisher': [196], 'website,': [197], 'without': [198], 'explicit': [200], 'license.': [202], 'examine': [205], 'citation': [207, 216], 'impact': [208], 'corroborating': [212], 'so-called': [214], 'open-access': [215], 'advantage:': [217], 'accounting': [218], 'age': [220], 'discipline,': [222], 'receive': [225], '18%': [226], 'more': [227], 'citations': [228], 'than': [229], 'average,': [230], 'effect': [232], 'primarily': [234], 'Green': [236], 'encourage': [241], 'further': [242], 'research': [243], 'free': [246], 'oaDOI': [247], 'service,': [248], 'as': [249], 'way': [251], 'inform': [253], 'policy': [255], 'practice.': [257]}",
         null,
         "https://api.openalex.org/works?filter=cites:W2741809807",
         "[{'year': 2025, 'cited_by_count': 30}, {'year': 2024, 'cited_by_count': 118}, {'year': 2023, 'cited_by_count': 142}, {'year': 2022, 'cited_by_count': 147}, {'year': 2021, 'cited_by_count': 146}, {'year': 2020, 'cited_by_count': 179}, {'year': 2019, 'cited_by_count': 130}, {'year': 2018, 'cited_by_count': 59}, {'year': 2017, 'cited_by_count': 9}]",
         "2025-06-11T00:03:37.532706",
         "2017-08-08"
        ],
        [
         "1",
         "https://openalex.org/W2122130843",
         "https://doi.org/10.5210/fm.v15i7.2874",
         "Scientometrics 2.0: New metrics of scholarly impact on the social Web",
         "Scientometrics 2.0: New metrics of scholarly impact on the social Web",
         "2010",
         "2010-07-02",
         "{'openalex': 'https://openalex.org/W2122130843', 'doi': 'https://doi.org/10.5210/fm.v15i7.2874', 'mag': '2122130843'}",
         "en",
         "{'is_oa': False, 'landing_page_url': 'https://doi.org/10.5210/fm.v15i7.2874', 'pdf_url': None, 'source': {'id': 'https://openalex.org/S102129144', 'display_name': 'First Monday', 'issn_l': '1396-0458', 'issn': ['1396-0458', '1396-0466'], 'is_oa': False, 'is_in_doaj': False, 'is_indexed_in_scopus': True, 'is_core': True, 'host_organization': 'https://openalex.org/P4310316040', 'host_organization_name': 'University of Illinois at Chicago', 'host_organization_lineage': ['https://openalex.org/P4310316040'], 'host_organization_lineage_names': ['University of Illinois at Chicago'], 'type': 'journal'}, 'license': None, 'license_id': None, 'version': None, 'is_accepted': False, 'is_published': False}",
         "article",
         "journal-article",
         "['crossref']",
         "{'is_oa': False, 'oa_status': 'closed', 'oa_url': None, 'any_repository_has_fulltext': False}",
         "[{'author_position': 'first', 'author': {'id': 'https://openalex.org/A5023888391', 'display_name': 'Jason Priem', 'orcid': 'https://orcid.org/0000-0001-6187-6610'}, 'institutions': [{'id': 'https://openalex.org/I114027177', 'display_name': 'University of North Carolina at Chapel Hill', 'ror': 'https://ror.org/0130frc33', 'country_code': 'US', 'type': 'funder', 'lineage': ['https://openalex.org/I114027177']}], 'countries': ['US'], 'is_corresponding': False, 'raw_author_name': 'Jason Priem', 'raw_affiliation_strings': ['School of Information and Library Science, University of North Carolina at Chapel Hill'], 'affiliations': [{'raw_affiliation_string': 'School of Information and Library Science, University of North Carolina at Chapel Hill', 'institution_ids': ['https://openalex.org/I114027177']}]}, {'author_position': 'last', 'author': {'id': 'https://openalex.org/A5001395463', 'display_name': 'Bradely H. Hemminger', 'orcid': None}, 'institutions': [{'id': 'https://openalex.org/I114027177', 'display_name': 'University of North Carolina at Chapel Hill', 'ror': 'https://ror.org/0130frc33', 'country_code': 'US', 'type': 'funder', 'lineage': ['https://openalex.org/I114027177']}], 'countries': ['US'], 'is_corresponding': False, 'raw_author_name': 'Bradely H. Hemminger', 'raw_affiliation_strings': ['School of Information and Library Science, University of North Carolina at Chapel Hill'], 'affiliations': [{'raw_affiliation_string': 'School of Information and Library Science, University of North Carolina at Chapel Hill', 'institution_ids': ['https://openalex.org/I114027177']}]}]",
         "[]",
         "1",
         "1",
         "[]",
         "[]",
         null,
         null,
         "14.528",
         "False",
         null,
         "386",
         "{'value': 0.999843, 'is_in_top_1_percent': True, 'is_in_top_10_percent': True}",
         "{'min': 99, 'max': 100}",
         "{'volume': None, 'issue': None, 'first_page': None, 'last_page': None}",
         "False",
         "False",
         "{'id': 'https://openalex.org/T10064', 'display_name': 'Complex Network Analysis Techniques', 'score': 0.945, 'subfield': {'id': 'https://openalex.org/subfields/3109', 'display_name': 'Statistical and Nonlinear Physics'}, 'field': {'id': 'https://openalex.org/fields/31', 'display_name': 'Physics and Astronomy'}, 'domain': {'id': 'https://openalex.org/domains/3', 'display_name': 'Physical Sciences'}}",
         "[{'id': 'https://openalex.org/T10064', 'display_name': 'Complex Network Analysis Techniques', 'score': 0.945, 'subfield': {'id': 'https://openalex.org/subfields/3109', 'display_name': 'Statistical and Nonlinear Physics'}, 'field': {'id': 'https://openalex.org/fields/31', 'display_name': 'Physics and Astronomy'}, 'domain': {'id': 'https://openalex.org/domains/3', 'display_name': 'Physical Sciences'}}, {'id': 'https://openalex.org/T10102', 'display_name': 'scientometrics and bibliometrics research', 'score': 0.9425, 'subfield': {'id': 'https://openalex.org/subfields/1804', 'display_name': 'Statistics, Probability and Uncertainty'}, 'field': {'id': 'https://openalex.org/fields/18', 'display_name': 'Decision Sciences'}, 'domain': {'id': 'https://openalex.org/domains/2', 'display_name': 'Social Sciences'}}, {'id': 'https://openalex.org/T13976', 'display_name': 'Web visibility and informetrics', 'score': 0.9262, 'subfield': {'id': 'https://openalex.org/subfields/1710', 'display_name': 'Information Systems'}, 'field': {'id': 'https://openalex.org/fields/17', 'display_name': 'Computer Science'}, 'domain': {'id': 'https://openalex.org/domains/3', 'display_name': 'Physical Sciences'}}]",
         "[{'id': 'https://openalex.org/keywords/bookmarking', 'display_name': 'Bookmarking', 'score': 0.9785063}, {'id': 'https://openalex.org/keywords/microblogging', 'display_name': 'Microblogging', 'score': 0.7313243}, {'id': 'https://openalex.org/keywords/altmetrics', 'display_name': 'Altmetrics', 'score': 0.69323653}, {'id': 'https://openalex.org/keywords/value', 'display_name': 'Value (mathematics)', 'score': 0.4389456}]",
         "[{'id': 'https://openalex.org/C176504155', 'wikidata': 'https://www.wikidata.org/wiki/Q4943254', 'display_name': 'Bookmarking', 'level': 2, 'score': 0.9785063}, {'id': 'https://openalex.org/C143275388', 'wikidata': 'https://www.wikidata.org/wiki/Q92438', 'display_name': 'Microblogging', 'level': 3, 'score': 0.7313243}, {'id': 'https://openalex.org/C2778407487', 'wikidata': 'https://www.wikidata.org/wiki/Q14565201', 'display_name': 'Altmetrics', 'level': 2, 'score': 0.69323653}, {'id': 'https://openalex.org/C518677369', 'wikidata': 'https://www.wikidata.org/wiki/Q202833', 'display_name': 'Social media', 'level': 2, 'score': 0.6859108}, {'id': 'https://openalex.org/C136764020', 'wikidata': 'https://www.wikidata.org/wiki/Q466', 'display_name': 'World Wide Web', 'level': 1, 'score': 0.63723254}, {'id': 'https://openalex.org/C41008148', 'wikidata': 'https://www.wikidata.org/wiki/Q21198', 'display_name': 'Computer science', 'level': 0, 'score': 0.6299458}, {'id': 'https://openalex.org/C2778805511', 'wikidata': 'https://www.wikidata.org/wiki/Q1713', 'display_name': 'Citation', 'level': 2, 'score': 0.6135862}, {'id': 'https://openalex.org/C136699151', 'wikidata': 'https://www.wikidata.org/wiki/Q131164', 'display_name': 'Web 2.0', 'level': 3, 'score': 0.56478894}, {'id': 'https://openalex.org/C2522767166', 'wikidata': 'https://www.wikidata.org/wiki/Q2374463', 'display_name': 'Data science', 'level': 1, 'score': 0.5443489}, {'id': 'https://openalex.org/C525823164', 'wikidata': 'https://www.wikidata.org/wiki/Q472342', 'display_name': 'Scientometrics', 'level': 2, 'score': 0.51665455}, {'id': 'https://openalex.org/C178315738', 'wikidata': 'https://www.wikidata.org/wiki/Q603441', 'display_name': 'Bibliometrics', 'level': 2, 'score': 0.44123963}, {'id': 'https://openalex.org/C2776291640', 'wikidata': 'https://www.wikidata.org/wiki/Q2912517', 'display_name': 'Value (mathematics)', 'level': 2, 'score': 0.4389456}, {'id': 'https://openalex.org/C35578498', 'wikidata': 'https://www.wikidata.org/wiki/Q193424', 'display_name': 'Web service', 'level': 2, 'score': 0.36668122}, {'id': 'https://openalex.org/C119857082', 'wikidata': 'https://www.wikidata.org/wiki/Q2539', 'display_name': 'Machine learning', 'level': 1, 'score': 0.0}]",
         "[]",
         "1",
         "[{'is_oa': False, 'landing_page_url': 'https://doi.org/10.5210/fm.v15i7.2874', 'pdf_url': None, 'source': {'id': 'https://openalex.org/S102129144', 'display_name': 'First Monday', 'issn_l': '1396-0458', 'issn': ['1396-0458', '1396-0466'], 'is_oa': False, 'is_in_doaj': False, 'is_indexed_in_scopus': True, 'is_core': True, 'host_organization': 'https://openalex.org/P4310316040', 'host_organization_name': 'University of Illinois at Chicago', 'host_organization_lineage': ['https://openalex.org/P4310316040'], 'host_organization_lineage_names': ['University of Illinois at Chicago'], 'type': 'journal'}, 'license': None, 'license_id': None, 'version': None, 'is_accepted': False, 'is_published': False}]",
         null,
         "[{'display_name': 'Quality education', 'score': 0.46, 'id': 'https://metadata.un.org/sdg/4'}]",
         "[]",
         "[]",
         "[]",
         "0",
         "[]",
         "['https://openalex.org/W4385506752', 'https://openalex.org/W4210725730', 'https://openalex.org/W3145450668', 'https://openalex.org/W3115068246', 'https://openalex.org/W2803459330', 'https://openalex.org/W2578464', 'https://openalex.org/W2523185919', 'https://openalex.org/W2137224556', 'https://openalex.org/W2098903378', 'https://openalex.org/W2034807921']",
         "{'The': [0], 'growing': [1], 'flood': [2], 'of': [3, 10, 14, 31, 61, 71, 82], 'scholarly': [4], 'literature': [5], 'is': [6, 24], 'exposing': [7], 'the': [8, 27, 67, 77, 89, 99], 'weaknesses': [9], 'current,': [11], 'citation-based': [12], 'methods': [13], 'evaluating': [15], 'and': [16, 21, 29, 43, 57, 80, 94], 'filtering': [17], 'articles.': [18], 'A': [19], 'novel': [20], 'promising': [22], 'approach': [23], 'to': [25, 74], 'examine': [26], 'use': [28], 'citation': [30], 'articles': [32], 'in': [33], 'a': [34, 52], 'new': [35], 'forum:': [36], 'Web': [37], '2.0': [38], 'services': [39, 73], 'like': [40], 'social': [41, 100], 'bookmarking': [42], 'microblogging.': [44], 'Metrics': [45], 'based': [46], 'on': [47], 'this': [48], 'data': [49, 83], 'could': [50], 'build': [51], '“Scientometics': [53], '2.0,”': [54], 'supporting': [55], 'richer': [56], 'more': [58], 'timely': [59], 'pictures': [60], \"articles'\": [62], 'impact.': [63], 'This': [64], 'paper': [65], 'develops': [66], 'most': [68], 'comprehensive': [69], 'list': [70], 'these': [72], 'date,': [75], 'assessing': [76], 'potential': [78], 'value': [79], 'availability': [81], 'from': [84, 98], 'each.': [85], 'We': [86], 'also': [87], 'suggest': [88], 'next': [90], 'steps': [91], 'toward': [92], 'building': [93], 'validating': [95], 'metrics': [96], 'drawn': [97], 'Web.': [101]}",
         null,
         "https://api.openalex.org/works?filter=cites:W2122130843",
         "[{'year': 2025, 'cited_by_count': 4}, {'year': 2024, 'cited_by_count': 11}, {'year': 2023, 'cited_by_count': 19}, {'year': 2022, 'cited_by_count': 25}, {'year': 2021, 'cited_by_count': 14}, {'year': 2020, 'cited_by_count': 30}, {'year': 2019, 'cited_by_count': 29}, {'year': 2018, 'cited_by_count': 34}, {'year': 2017, 'cited_by_count': 38}, {'year': 2016, 'cited_by_count': 27}, {'year': 2015, 'cited_by_count': 36}, {'year': 2014, 'cited_by_count': 45}, {'year': 2013, 'cited_by_count': 33}, {'year': 2012, 'cited_by_count': 22}]",
         "2025-05-29T05:33:52.392876",
         "2016-06-24"
        ],
        [
         "2",
         "https://openalex.org/W1553564559",
         "https://doi.org/10.48550/arxiv.1203.4745",
         "Altmetrics in the wild: Using social media to explore scholarly impact",
         "Altmetrics in the wild: Using social media to explore scholarly impact",
         "2012",
         "2012-01-01",
         "{'openalex': 'https://openalex.org/W1553564559', 'doi': 'https://doi.org/10.48550/arxiv.1203.4745', 'mag': '1553564559'}",
         "en",
         "{'is_oa': True, 'landing_page_url': 'https://arxiv.org/abs/1203.4745', 'pdf_url': None, 'source': {'id': 'https://openalex.org/S4306400194', 'display_name': 'arXiv (Cornell University)', 'issn_l': None, 'issn': None, 'is_oa': True, 'is_in_doaj': False, 'is_indexed_in_scopus': False, 'is_core': False, 'host_organization': 'https://openalex.org/I205783295', 'host_organization_name': 'Cornell University', 'host_organization_lineage': ['https://openalex.org/I205783295'], 'host_organization_lineage_names': ['Cornell University'], 'type': 'repository'}, 'license': 'cc-by', 'license_id': 'https://openalex.org/licenses/cc-by', 'version': 'submittedVersion', 'is_accepted': False, 'is_published': False}",
         "preprint",
         "posted-content",
         "['datacite']",
         "{'is_oa': True, 'oa_status': 'green', 'oa_url': 'https://arxiv.org/abs/1203.4745', 'any_repository_has_fulltext': True}",
         "[{'author_position': 'first', 'author': {'id': 'https://openalex.org/A5023888391', 'display_name': 'Jason Priem', 'orcid': 'https://orcid.org/0000-0001-6187-6610'}, 'institutions': [], 'countries': [], 'is_corresponding': False, 'raw_author_name': 'Jason Priem', 'raw_affiliation_strings': [], 'affiliations': []}, {'author_position': 'middle', 'author': {'id': 'https://openalex.org/A5048491430', 'display_name': 'Heather Piwowar', 'orcid': 'https://orcid.org/0000-0003-1613-5981'}, 'institutions': [], 'countries': [], 'is_corresponding': False, 'raw_author_name': 'Heather A. Piwowar', 'raw_affiliation_strings': [], 'affiliations': []}, {'author_position': 'last', 'author': {'id': 'https://openalex.org/A5074459108', 'display_name': 'Bradley M. Hemminger', 'orcid': 'https://orcid.org/0000-0003-0558-8862'}, 'institutions': [], 'countries': [], 'is_corresponding': False, 'raw_author_name': 'Bradley M. Hemminger', 'raw_affiliation_strings': [], 'affiliations': []}]",
         "[]",
         "0",
         "0",
         "[]",
         "[]",
         null,
         null,
         null,
         "False",
         null,
         "345",
         "{'value': 0.988345, 'is_in_top_1_percent': False, 'is_in_top_10_percent': True}",
         "{'min': 99, 'max': 100}",
         "{'volume': None, 'issue': None, 'first_page': None, 'last_page': None}",
         "False",
         "False",
         "{'id': 'https://openalex.org/T10102', 'display_name': 'scientometrics and bibliometrics research', 'score': 0.9974, 'subfield': {'id': 'https://openalex.org/subfields/1804', 'display_name': 'Statistics, Probability and Uncertainty'}, 'field': {'id': 'https://openalex.org/fields/18', 'display_name': 'Decision Sciences'}, 'domain': {'id': 'https://openalex.org/domains/2', 'display_name': 'Social Sciences'}}",
         "[{'id': 'https://openalex.org/T10102', 'display_name': 'scientometrics and bibliometrics research', 'score': 0.9974, 'subfield': {'id': 'https://openalex.org/subfields/1804', 'display_name': 'Statistics, Probability and Uncertainty'}, 'field': {'id': 'https://openalex.org/fields/18', 'display_name': 'Decision Sciences'}, 'domain': {'id': 'https://openalex.org/domains/2', 'display_name': 'Social Sciences'}}, {'id': 'https://openalex.org/T12478', 'display_name': 'Wikis in Education and Collaboration', 'score': 0.9714, 'subfield': {'id': 'https://openalex.org/subfields/3315', 'display_name': 'Communication'}, 'field': {'id': 'https://openalex.org/fields/33', 'display_name': 'Social Sciences'}, 'domain': {'id': 'https://openalex.org/domains/2', 'display_name': 'Social Sciences'}}, {'id': 'https://openalex.org/T10895', 'display_name': 'Species Distribution and Climate Change', 'score': 0.9584, 'subfield': {'id': 'https://openalex.org/subfields/2302', 'display_name': 'Ecological Modeling'}, 'field': {'id': 'https://openalex.org/fields/23', 'display_name': 'Environmental Science'}, 'domain': {'id': 'https://openalex.org/domains/3', 'display_name': 'Physical Sciences'}}]",
         "[{'id': 'https://openalex.org/keywords/altmetrics', 'display_name': 'Altmetrics', 'score': 0.98622394}, {'id': 'https://openalex.org/keywords/impact-factor', 'display_name': 'Impact factor', 'score': 0.46131727}, {'id': 'https://openalex.org/keywords/computational-sociology', 'display_name': 'Computational sociology', 'score': 0.4483213}, {'id': 'https://openalex.org/keywords/citizen-science', 'display_name': 'Citizen Science', 'score': 0.44072172}]",
         "[{'id': 'https://openalex.org/C2778407487', 'wikidata': 'https://www.wikidata.org/wiki/Q14565201', 'display_name': 'Altmetrics', 'level': 2, 'score': 0.98622394}, {'id': 'https://openalex.org/C518677369', 'wikidata': 'https://www.wikidata.org/wiki/Q202833', 'display_name': 'Social media', 'level': 2, 'score': 0.7538434}, {'id': 'https://openalex.org/C2778805511', 'wikidata': 'https://www.wikidata.org/wiki/Q1713', 'display_name': 'Citation', 'level': 2, 'score': 0.6991894}, {'id': 'https://openalex.org/C41008148', 'wikidata': 'https://www.wikidata.org/wiki/Q21198', 'display_name': 'Computer science', 'level': 0, 'score': 0.53011656}, {'id': 'https://openalex.org/C2522767166', 'wikidata': 'https://www.wikidata.org/wiki/Q2374463', 'display_name': 'Data science', 'level': 1, 'score': 0.46880275}, {'id': 'https://openalex.org/C2779455604', 'wikidata': 'https://www.wikidata.org/wiki/Q5330', 'display_name': 'Impact factor', 'level': 2, 'score': 0.46131727}, {'id': 'https://openalex.org/C126349790', 'wikidata': 'https://www.wikidata.org/wiki/Q905036', 'display_name': 'Computational sociology', 'level': 2, 'score': 0.4483213}, {'id': 'https://openalex.org/C197352329', 'wikidata': 'https://www.wikidata.org/wiki/Q1093434', 'display_name': 'Citizen science', 'level': 2, 'score': 0.44072172}, {'id': 'https://openalex.org/C2781316041', 'wikidata': 'https://www.wikidata.org/wiki/Q1230584', 'display_name': 'Diversity (politics)', 'level': 2, 'score': 0.43716377}, {'id': 'https://openalex.org/C136764020', 'wikidata': 'https://www.wikidata.org/wiki/Q466', 'display_name': 'World Wide Web', 'level': 1, 'score': 0.43419114}, {'id': 'https://openalex.org/C144024400', 'wikidata': 'https://www.wikidata.org/wiki/Q21201', 'display_name': 'Sociology', 'level': 0, 'score': 0.24750468}, {'id': 'https://openalex.org/C17744445', 'wikidata': 'https://www.wikidata.org/wiki/Q36442', 'display_name': 'Political science', 'level': 0, 'score': 0.21047235}, {'id': 'https://openalex.org/C59822182', 'wikidata': 'https://www.wikidata.org/wiki/Q441', 'display_name': 'Botany', 'level': 1, 'score': 0.0}, {'id': 'https://openalex.org/C19165224', 'wikidata': 'https://www.wikidata.org/wiki/Q23404', 'display_name': 'Anthropology', 'level': 1, 'score': 0.0}, {'id': 'https://openalex.org/C199539241', 'wikidata': 'https://www.wikidata.org/wiki/Q7748', 'display_name': 'Law', 'level': 1, 'score': 0.0}, {'id': 'https://openalex.org/C86803240', 'wikidata': 'https://www.wikidata.org/wiki/Q420', 'display_name': 'Biology', 'level': 0, 'score': 0.0}]",
         "[]",
         "2",
         "[{'is_oa': True, 'landing_page_url': 'https://arxiv.org/abs/1203.4745', 'pdf_url': None, 'source': {'id': 'https://openalex.org/S4306400194', 'display_name': 'arXiv (Cornell University)', 'issn_l': None, 'issn': None, 'is_oa': True, 'is_in_doaj': False, 'is_indexed_in_scopus': False, 'is_core': False, 'host_organization': 'https://openalex.org/I205783295', 'host_organization_name': 'Cornell University', 'host_organization_lineage': ['https://openalex.org/I205783295'], 'host_organization_lineage_names': ['Cornell University'], 'type': 'repository'}, 'license': 'cc-by', 'license_id': 'https://openalex.org/licenses/cc-by', 'version': 'submittedVersion', 'is_accepted': False, 'is_published': False}, {'is_oa': False, 'landing_page_url': 'https://api.datacite.org/dois/10.48550/arxiv.1203.4745', 'pdf_url': None, 'source': {'id': 'https://openalex.org/S4393179698', 'display_name': 'DataCite API', 'issn_l': None, 'issn': None, 'is_oa': True, 'is_in_doaj': False, 'is_indexed_in_scopus': False, 'is_core': False, 'host_organization': 'https://openalex.org/I4210145204', 'host_organization_name': 'DataCite', 'host_organization_lineage': ['https://openalex.org/I4210145204'], 'host_organization_lineage_names': ['DataCite'], 'type': 'metadata'}, 'license': None, 'license_id': None, 'version': None}]",
         "{'is_oa': True, 'landing_page_url': 'https://arxiv.org/abs/1203.4745', 'pdf_url': None, 'source': {'id': 'https://openalex.org/S4306400194', 'display_name': 'arXiv (Cornell University)', 'issn_l': None, 'issn': None, 'is_oa': True, 'is_in_doaj': False, 'is_indexed_in_scopus': False, 'is_core': False, 'host_organization': 'https://openalex.org/I205783295', 'host_organization_name': 'Cornell University', 'host_organization_lineage': ['https://openalex.org/I205783295'], 'host_organization_lineage_names': ['Cornell University'], 'type': 'repository'}, 'license': 'cc-by', 'license_id': 'https://openalex.org/licenses/cc-by', 'version': 'submittedVersion', 'is_accepted': False, 'is_published': False}",
         "[{'display_name': 'Quality education', 'score': 0.81, 'id': 'https://metadata.un.org/sdg/4'}]",
         "[]",
         "[]",
         "[]",
         "0",
         "[]",
         "['https://openalex.org/W3211611723', 'https://openalex.org/W3150373829', 'https://openalex.org/W2808646405', 'https://openalex.org/W2618017038', 'https://openalex.org/W2548165352', 'https://openalex.org/W2417733645', 'https://openalex.org/W2166317738', 'https://openalex.org/W2073023209', 'https://openalex.org/W1990918794', 'https://openalex.org/W1553564559']",
         "{'In': [0], 'growing': [1], 'numbers,': [2], 'scholars': [3, 201], 'are': [4, 87, 150], 'integrating': [5], 'social': [6, 57], 'media': [7], 'tools': [8, 24], 'like': [9], 'blogs,': [10], 'Twitter,': [11], 'and': [12, 26, 32, 124, 129, 155, 198], 'Mendeley': [13, 102, 154], 'into': [14, 211], 'their': [15], 'professional': [16], 'communications.': [17], 'The': [18], 'online,': [19], 'public': [20], 'nature': [21], 'of': [22, 44, 55, 70, 84, 112, 145, 157, 184], 'these': [23, 56, 206], 'exposes': [25], 'reifies': [27], 'scholarly': [28, 146], 'processes': [29], 'once': [30], 'hidden': [31], 'ephemeral.': [33], 'Metrics': [34], 'based': [35], 'on': [36, 187], 'this': [37], 'activities': [38], 'could': [39], 'inform': [40], 'broader,': [41], 'faster': [42], 'measures': [43], 'impact,': [45], 'complementing': [46], 'traditional': [47, 216], 'citation': [48, 128, 217], 'metrics.': [49], 'This': [50], 'study': [51], 'explores': [52], 'the': [53, 67, 142], 'properties': [54], 'media-based': [58], 'metrics': [59], 'or': [60, 119], '\"altmetrics\",': [61], 'sampling': [62], '24,331': [63], 'articles': [64, 86, 113, 193], 'published': [65], 'by': [66, 200], 'Public': [68], 'Library': [69], 'Science.': [71], 'We': [72], 'find': [73], 'that': [74, 75, 176], 'different': [76, 121, 179, 185, 188], 'indicators': [77, 131, 163], 'vary': [78], 'greatly': [79], 'in': [80, 89, 98, 174], 'activity.': [81], 'Around': [82], '5%': [83], 'sampled': [85], 'cited': [88], 'Wikipedia,': [90], 'while': [91], 'close': [92], 'to': [93, 140, 165, 170, 215], '80%': [94], 'have': [95, 114], 'been': [96], 'included': [97], 'at': [99], 'least': [100], 'one': [101], 'library.': [103], 'There': [104, 149], 'is,': [105], 'however,': [106], 'an': [107], 'encouraging': [108], 'diversity;': [109], 'a': [110], 'quarter': [111], 'nonzero': [115], 'data': [116], 'from': [117], 'five': [118, 178], 'more': [120, 209], 'sources.': [122], 'Correlation': [123], 'factor': [125], 'analysis': [126], 'suggest': [127, 177], 'altmetrics': [130, 212], 'track': [132], 'related': [133], 'but': [134, 160, 202], 'distinct': [135], 'impacts,': [136], 'with': [137], 'neither': [138], 'able': [139], 'describe': [141], 'complete': [143], 'picture': [144], 'use': [147], 'alone.': [148], 'moderate': [151], 'correlations': [152], 'between': [153], 'Web': [156], 'Science': [158], 'citation,': [159], 'many': [161], 'altmetric': [162], 'seem': [164], 'measure': [166], 'impact': [167, 180], 'mostly': [168], 'orthogonal': [169], 'citation.': [171], 'Articles': [172], 'cluster': [173], 'ways': [175], '\"flavors\",': [181], 'capturing': [182], 'impacts': [183], 'types': [186], 'audiences;': [189], 'for': [190], 'instance,': [191], 'some': [192], 'may': [194], 'be': [195], 'heavily': [196], 'read': [197], 'saved': [199], 'seldom': [203], 'cited.': [204], 'Together,': [205], 'findings': [207], 'encourage': [208], 'research': [210], 'as': [213], 'complements': [214], 'measures.': [218]}",
         null,
         "https://api.openalex.org/works?filter=cites:W1553564559",
         "[{'year': 2025, 'cited_by_count': 2}, {'year': 2023, 'cited_by_count': 6}, {'year': 2022, 'cited_by_count': 4}, {'year': 2021, 'cited_by_count': 21}, {'year': 2020, 'cited_by_count': 20}, {'year': 2019, 'cited_by_count': 26}, {'year': 2018, 'cited_by_count': 36}, {'year': 2017, 'cited_by_count': 38}, {'year': 2016, 'cited_by_count': 37}, {'year': 2015, 'cited_by_count': 53}, {'year': 2014, 'cited_by_count': 43}, {'year': 2013, 'cited_by_count': 51}, {'year': 2012, 'cited_by_count': 8}]",
         "2025-05-16T23:01:40.514294",
         "2016-06-24"
        ],
        [
         "3",
         "https://openalex.org/W3130540911",
         null,
         "altmetrics: a manifesto",
         "altmetrics: a manifesto",
         "2011",
         "2011-01-01",
         "{'openalex': 'https://openalex.org/W3130540911', 'mag': '3130540911'}",
         "ca",
         "{'is_oa': False, 'landing_page_url': 'https://digitalcommons.unl.edu/cgi/viewcontent.cgi?article=1187&context=scholcom', 'pdf_url': None, 'source': None, 'license': None, 'license_id': None, 'version': None, 'is_accepted': False, 'is_published': False}",
         "article",
         "journal-article",
         "[]",
         "{'is_oa': False, 'oa_status': 'closed', 'oa_url': None, 'any_repository_has_fulltext': False}",
         "[{'author_position': 'first', 'author': {'id': 'https://openalex.org/A5023888391', 'display_name': 'Jason Priem', 'orcid': 'https://orcid.org/0000-0001-6187-6610'}, 'institutions': [], 'countries': [], 'is_corresponding': False, 'raw_author_name': 'Jason Priem', 'raw_affiliation_strings': [], 'affiliations': []}, {'author_position': 'middle', 'author': {'id': 'https://openalex.org/A5042757004', 'display_name': 'Dario Taraborelli', 'orcid': 'https://orcid.org/0000-0002-0082-8508'}, 'institutions': [], 'countries': [], 'is_corresponding': False, 'raw_author_name': 'Dario Taraborelli', 'raw_affiliation_strings': [], 'affiliations': []}, {'author_position': 'middle', 'author': {'id': 'https://openalex.org/A5034924491', 'display_name': 'Paul Groth', 'orcid': 'https://orcid.org/0000-0003-0183-6910'}, 'institutions': [], 'countries': [], 'is_corresponding': False, 'raw_author_name': 'Paul Groth', 'raw_affiliation_strings': [], 'affiliations': []}, {'author_position': 'last', 'author': {'id': 'https://openalex.org/A5048552040', 'display_name': 'Cameron Neylon', 'orcid': 'https://orcid.org/0000-0002-0068-716X'}, 'institutions': [], 'countries': [], 'is_corresponding': False, 'raw_author_name': 'Cameron Neylon', 'raw_affiliation_strings': [], 'affiliations': []}]",
         "[]",
         "0",
         "0",
         "[]",
         "[]",
         null,
         null,
         "30.35",
         "False",
         null,
         "274",
         "{'value': 0.915939, 'is_in_top_1_percent': False, 'is_in_top_10_percent': True}",
         "{'min': 99, 'max': 100}",
         "{'volume': None, 'issue': None, 'first_page': None, 'last_page': None}",
         "False",
         "False",
         "{'id': 'https://openalex.org/T13398', 'display_name': 'Data Analysis with R', 'score': 0.0796, 'subfield': {'id': 'https://openalex.org/subfields/1702', 'display_name': 'Artificial Intelligence'}, 'field': {'id': 'https://openalex.org/fields/17', 'display_name': 'Computer Science'}, 'domain': {'id': 'https://openalex.org/domains/3', 'display_name': 'Physical Sciences'}}",
         "[{'id': 'https://openalex.org/T13398', 'display_name': 'Data Analysis with R', 'score': 0.0796, 'subfield': {'id': 'https://openalex.org/subfields/1702', 'display_name': 'Artificial Intelligence'}, 'field': {'id': 'https://openalex.org/fields/17', 'display_name': 'Computer Science'}, 'domain': {'id': 'https://openalex.org/domains/3', 'display_name': 'Physical Sciences'}}]",
         "[{'id': 'https://openalex.org/keywords/altmetrics', 'display_name': 'Altmetrics', 'score': 0.87747437}, {'id': 'https://openalex.org/keywords/manifesto', 'display_name': 'Manifesto', 'score': 0.7097621}]",
         "[{'id': 'https://openalex.org/C2778407487', 'wikidata': 'https://www.wikidata.org/wiki/Q14565201', 'display_name': 'Altmetrics', 'level': 2, 'score': 0.87747437}, {'id': 'https://openalex.org/C2778896172', 'wikidata': 'https://www.wikidata.org/wiki/Q46337', 'display_name': 'Manifesto', 'level': 2, 'score': 0.7097621}, {'id': 'https://openalex.org/C17744445', 'wikidata': 'https://www.wikidata.org/wiki/Q36442', 'display_name': 'Political science', 'level': 0, 'score': 0.32078287}, {'id': 'https://openalex.org/C41008148', 'wikidata': 'https://www.wikidata.org/wiki/Q21198', 'display_name': 'Computer science', 'level': 0, 'score': 0.2755885}, {'id': 'https://openalex.org/C2522767166', 'wikidata': 'https://www.wikidata.org/wiki/Q2374463', 'display_name': 'Data science', 'level': 1, 'score': 0.16183686}, {'id': 'https://openalex.org/C199539241', 'wikidata': 'https://www.wikidata.org/wiki/Q7748', 'display_name': 'Law', 'level': 1, 'score': 0.0}]",
         "[]",
         "1",
         "[{'is_oa': False, 'landing_page_url': 'https://digitalcommons.unl.edu/cgi/viewcontent.cgi?article=1187&context=scholcom', 'pdf_url': None, 'source': None, 'license': None, 'license_id': None, 'version': None, 'is_accepted': False, 'is_published': False}]",
         null,
         "[]",
         "[]",
         "[]",
         "[]",
         "0",
         "[]",
         "['https://openalex.org/W2963475133', 'https://openalex.org/W2912512198', 'https://openalex.org/W2518646621', 'https://openalex.org/W2169420254', 'https://openalex.org/W2164277894', 'https://openalex.org/W2150455238', 'https://openalex.org/W2143612877', 'https://openalex.org/W2128438887', 'https://openalex.org/W2122130843', 'https://openalex.org/W2088858100', 'https://openalex.org/W2073023209', 'https://openalex.org/W2064816492', 'https://openalex.org/W2038196424', 'https://openalex.org/W1971087125', 'https://openalex.org/W1965964177', 'https://openalex.org/W1731700882', 'https://openalex.org/W1572136682', 'https://openalex.org/W1553564559', 'https://openalex.org/W1531607676', 'https://openalex.org/W1491754772']",
         null,
         null,
         "https://api.openalex.org/works?filter=cites:W3130540911",
         "[{'year': 2021, 'cited_by_count': 14}, {'year': 2020, 'cited_by_count': 31}, {'year': 2019, 'cited_by_count': 32}, {'year': 2018, 'cited_by_count': 28}, {'year': 2017, 'cited_by_count': 23}, {'year': 2016, 'cited_by_count': 22}, {'year': 2015, 'cited_by_count': 40}, {'year': 2014, 'cited_by_count': 47}, {'year': 2013, 'cited_by_count': 26}, {'year': 2012, 'cited_by_count': 11}]",
         "2025-05-24T20:43:35.778470",
         "2021-03-01"
        ],
        [
         "4",
         "https://openalex.org/W2396414759",
         "https://doi.org/10.1371/journal.pone.0048753",
         "The Altmetrics Collection",
         "The Altmetrics Collection",
         "2012",
         "2012-11-01",
         "{'openalex': 'https://openalex.org/W2396414759', 'doi': 'https://doi.org/10.1371/journal.pone.0048753', 'mag': '2396414759', 'pmid': 'https://pubmed.ncbi.nlm.nih.gov/23133655', 'pmcid': 'https://www.ncbi.nlm.nih.gov/pmc/articles/3486795'}",
         "en",
         "{'is_oa': True, 'landing_page_url': 'https://doi.org/10.1371/journal.pone.0048753', 'pdf_url': 'https://journals.plos.org/plosone/article/file?id=10.1371/journal.pone.0048753&type=printable', 'source': {'id': 'https://openalex.org/S202381698', 'display_name': 'PLoS ONE', 'issn_l': '1932-6203', 'issn': ['1932-6203'], 'is_oa': True, 'is_in_doaj': True, 'is_indexed_in_scopus': True, 'is_core': True, 'host_organization': 'https://openalex.org/P4310315706', 'host_organization_name': 'Public Library of Science', 'host_organization_lineage': ['https://openalex.org/P4310315706'], 'host_organization_lineage_names': ['Public Library of Science'], 'type': 'journal'}, 'license': 'cc-by', 'license_id': 'https://openalex.org/licenses/cc-by', 'version': 'publishedVersion', 'is_accepted': True, 'is_published': True}",
         "article",
         "journal-article",
         "['crossref', 'doaj', 'pubmed']",
         "{'is_oa': True, 'oa_status': 'gold', 'oa_url': 'https://journals.plos.org/plosone/article/file?id=10.1371/journal.pone.0048753&type=printable', 'any_repository_has_fulltext': True}",
         "[{'author_position': 'first', 'author': {'id': 'https://openalex.org/A5023888391', 'display_name': 'Jason Priem', 'orcid': 'https://orcid.org/0000-0001-6187-6610'}, 'institutions': [{'id': 'https://openalex.org/I114027177', 'display_name': 'University of North Carolina at Chapel Hill', 'ror': 'https://ror.org/0130frc33', 'country_code': 'US', 'type': 'funder', 'lineage': ['https://openalex.org/I114027177']}], 'countries': ['US'], 'is_corresponding': True, 'raw_author_name': 'Jason Priem', 'raw_affiliation_strings': ['School of Information & Library Science, University of North Carolina at Chapel Hill, Chapel Hill, North Carolina, United States of America'], 'affiliations': [{'raw_affiliation_string': 'School of Information & Library Science, University of North Carolina at Chapel Hill, Chapel Hill, North Carolina, United States of America', 'institution_ids': ['https://openalex.org/I114027177']}]}, {'author_position': 'middle', 'author': {'id': 'https://openalex.org/A5034924491', 'display_name': 'Paul Groth', 'orcid': 'https://orcid.org/0000-0003-0183-6910'}, 'institutions': [{'id': 'https://openalex.org/I911458345', 'display_name': 'Amsterdam UMC Location Vrije Universiteit Amsterdam', 'ror': 'https://ror.org/00q6h8f30', 'country_code': 'NL', 'type': 'healthcare', 'lineage': ['https://openalex.org/I4210151833', 'https://openalex.org/I911458345']}], 'countries': ['NL'], 'is_corresponding': True, 'raw_author_name': 'Paul Groth', 'raw_affiliation_strings': ['Department of Computer Science and The Network Institute, VU University Amsterdam, Amsterdam, The Netherlands'], 'affiliations': [{'raw_affiliation_string': 'Department of Computer Science and The Network Institute, VU University Amsterdam, Amsterdam, The Netherlands', 'institution_ids': ['https://openalex.org/I911458345']}]}, {'author_position': 'last', 'author': {'id': 'https://openalex.org/A5042757004', 'display_name': 'Dario Taraborelli', 'orcid': 'https://orcid.org/0000-0002-0082-8508'}, 'institutions': [{'id': 'https://openalex.org/I4210126245', 'display_name': 'Wikimedia Foundation', 'ror': 'https://ror.org/032q98j12', 'country_code': 'US', 'type': 'nonprofit', 'lineage': ['https://openalex.org/I4210126245']}], 'countries': ['US'], 'is_corresponding': True, 'raw_author_name': 'Dario Taraborelli', 'raw_affiliation_strings': ['The Wikimedia Foundation, San Francisco, California, United States of America'], 'affiliations': [{'raw_affiliation_string': 'The Wikimedia Foundation, San Francisco, California, United States of America', 'institution_ids': ['https://openalex.org/I4210126245']}]}]",
         "[]",
         "2",
         "3",
         "['https://openalex.org/A5023888391', 'https://openalex.org/A5034924491', 'https://openalex.org/A5042757004']",
         "['https://openalex.org/I114027177', 'https://openalex.org/I911458345', 'https://openalex.org/I4210126245']",
         "{'value': 1805, 'currency': 'USD', 'value_usd': 1805}",
         "{'value': 1805, 'currency': 'USD', 'value_usd': 1805}",
         "18.504",
         "True",
         "pdf",
         "267",
         "{'value': 0.9251, 'is_in_top_1_percent': False, 'is_in_top_10_percent': True}",
         "{'min': 99, 'max': 100}",
         "{'volume': '7', 'issue': '11', 'first_page': 'e48753', 'last_page': 'e48753'}",
         "False",
         "False",
         "{'id': 'https://openalex.org/T10102', 'display_name': 'scientometrics and bibliometrics research', 'score': 0.9985, 'subfield': {'id': 'https://openalex.org/subfields/1804', 'display_name': 'Statistics, Probability and Uncertainty'}, 'field': {'id': 'https://openalex.org/fields/18', 'display_name': 'Decision Sciences'}, 'domain': {'id': 'https://openalex.org/domains/2', 'display_name': 'Social Sciences'}}",
         "[{'id': 'https://openalex.org/T10102', 'display_name': 'scientometrics and bibliometrics research', 'score': 0.9985, 'subfield': {'id': 'https://openalex.org/subfields/1804', 'display_name': 'Statistics, Probability and Uncertainty'}, 'field': {'id': 'https://openalex.org/fields/18', 'display_name': 'Decision Sciences'}, 'domain': {'id': 'https://openalex.org/domains/2', 'display_name': 'Social Sciences'}}, {'id': 'https://openalex.org/T13976', 'display_name': 'Web visibility and informetrics', 'score': 0.9983, 'subfield': {'id': 'https://openalex.org/subfields/1710', 'display_name': 'Information Systems'}, 'field': {'id': 'https://openalex.org/fields/17', 'display_name': 'Computer Science'}, 'domain': {'id': 'https://openalex.org/domains/3', 'display_name': 'Physical Sciences'}}, {'id': 'https://openalex.org/T12016', 'display_name': 'Web Data Mining and Analysis', 'score': 0.9458, 'subfield': {'id': 'https://openalex.org/subfields/1710', 'display_name': 'Information Systems'}, 'field': {'id': 'https://openalex.org/fields/17', 'display_name': 'Computer Science'}, 'domain': {'id': 'https://openalex.org/domains/3', 'display_name': 'Physical Sciences'}}]",
         "[{'id': 'https://openalex.org/keywords/scholarly-communication', 'display_name': 'Scholarly Communication', 'score': 0.5665516}, {'id': 'https://openalex.org/keywords/altmetrics', 'display_name': 'Altmetrics', 'score': 0.5505059}, {'id': 'https://openalex.org/keywords/microblogging', 'display_name': 'Microblogging', 'score': 0.46080518}, {'id': 'https://openalex.org/keywords/scope', 'display_name': 'Scope (computer science)', 'score': 0.4198224}]",
         "[{'id': 'https://openalex.org/C518677369', 'wikidata': 'https://www.wikidata.org/wiki/Q202833', 'display_name': 'Social media', 'level': 2, 'score': 0.5911185}, {'id': 'https://openalex.org/C2778805511', 'wikidata': 'https://www.wikidata.org/wiki/Q1713', 'display_name': 'Citation', 'level': 2, 'score': 0.5887383}, {'id': 'https://openalex.org/C2777462167', 'wikidata': 'https://www.wikidata.org/wiki/Q7432048', 'display_name': 'Scholarly communication', 'level': 3, 'score': 0.5665516}, {'id': 'https://openalex.org/C2778407487', 'wikidata': 'https://www.wikidata.org/wiki/Q14565201', 'display_name': 'Altmetrics', 'level': 2, 'score': 0.5505059}, {'id': 'https://openalex.org/C41008148', 'wikidata': 'https://www.wikidata.org/wiki/Q21198', 'display_name': 'Computer science', 'level': 0, 'score': 0.46555096}, {'id': 'https://openalex.org/C143275388', 'wikidata': 'https://www.wikidata.org/wiki/Q92438', 'display_name': 'Microblogging', 'level': 3, 'score': 0.46080518}, {'id': 'https://openalex.org/C2522767166', 'wikidata': 'https://www.wikidata.org/wiki/Q2374463', 'display_name': 'Data science', 'level': 1, 'score': 0.45429012}, {'id': 'https://openalex.org/C2781316041', 'wikidata': 'https://www.wikidata.org/wiki/Q1230584', 'display_name': 'Diversity (politics)', 'level': 2, 'score': 0.4440364}, {'id': 'https://openalex.org/C106131492', 'wikidata': 'https://www.wikidata.org/wiki/Q3072260', 'display_name': 'Filter (signal processing)', 'level': 2, 'score': 0.4300501}, {'id': 'https://openalex.org/C2778012447', 'wikidata': 'https://www.wikidata.org/wiki/Q1034415', 'display_name': 'Scope (computer science)', 'level': 2, 'score': 0.4198224}, {'id': 'https://openalex.org/C136764020', 'wikidata': 'https://www.wikidata.org/wiki/Q466', 'display_name': 'World Wide Web', 'level': 1, 'score': 0.3399158}, {'id': 'https://openalex.org/C161191863', 'wikidata': 'https://www.wikidata.org/wiki/Q199655', 'display_name': 'Library science', 'level': 1, 'score': 0.32541776}, {'id': 'https://openalex.org/C17744445', 'wikidata': 'https://www.wikidata.org/wiki/Q36442', 'display_name': 'Political science', 'level': 0, 'score': 0.264414}, {'id': 'https://openalex.org/C151719136', 'wikidata': 'https://www.wikidata.org/wiki/Q3972943', 'display_name': 'Publishing', 'level': 2, 'score': 0.16908833}, {'id': 'https://openalex.org/C199539241', 'wikidata': 'https://www.wikidata.org/wiki/Q7748', 'display_name': 'Law', 'level': 1, 'score': 0.15058786}, {'id': 'https://openalex.org/C31972630', 'wikidata': 'https://www.wikidata.org/wiki/Q844240', 'display_name': 'Computer vision', 'level': 1, 'score': 0.0}, {'id': 'https://openalex.org/C199360897', 'wikidata': 'https://www.wikidata.org/wiki/Q9143', 'display_name': 'Programming language', 'level': 1, 'score': 0.0}]",
         "[{'descriptor_ui': 'D035843', 'descriptor_name': 'Biomedical Research', 'qualifier_ui': 'Q000639', 'qualifier_name': 'trends', 'is_major_topic': True}, {'descriptor_ui': 'D011642', 'descriptor_name': 'Publications', 'qualifier_ui': '', 'qualifier_name': None, 'is_major_topic': True}, {'descriptor_ui': 'D035843', 'descriptor_name': 'Biomedical Research', 'qualifier_ui': '', 'qualifier_name': None, 'is_major_topic': False}, {'descriptor_ui': 'D006801', 'descriptor_name': 'Humans', 'qualifier_ui': '', 'qualifier_name': None, 'is_major_topic': False}, {'descriptor_ui': 'D020407', 'descriptor_name': 'Internet', 'qualifier_ui': '', 'qualifier_name': None, 'is_major_topic': False}, {'descriptor_ui': 'D061108', 'descriptor_name': 'Social Media', 'qualifier_ui': '', 'qualifier_name': None, 'is_major_topic': False}, {'descriptor_ui': 'D013223', 'descriptor_name': 'Statistics as Topic', 'qualifier_ui': '', 'qualifier_name': None, 'is_major_topic': False}]",
         "7",
         "[{'is_oa': True, 'landing_page_url': 'https://doi.org/10.1371/journal.pone.0048753', 'pdf_url': 'https://journals.plos.org/plosone/article/file?id=10.1371/journal.pone.0048753&type=printable', 'source': {'id': 'https://openalex.org/S202381698', 'display_name': 'PLoS ONE', 'issn_l': '1932-6203', 'issn': ['1932-6203'], 'is_oa': True, 'is_in_doaj': True, 'is_indexed_in_scopus': True, 'is_core': True, 'host_organization': 'https://openalex.org/P4310315706', 'host_organization_name': 'Public Library of Science', 'host_organization_lineage': ['https://openalex.org/P4310315706'], 'host_organization_lineage_names': ['Public Library of Science'], 'type': 'journal'}, 'license': 'cc-by', 'license_id': 'https://openalex.org/licenses/cc-by', 'version': 'publishedVersion', 'is_accepted': True, 'is_published': True}, {'is_oa': False, 'landing_page_url': 'https://doaj.org/article/06290a692bf44b788cfeeed02eea55fc', 'pdf_url': None, 'source': {'id': 'https://openalex.org/S4306401280', 'display_name': 'DOAJ (DOAJ: Directory of Open Access Journals)', 'issn_l': None, 'issn': None, 'is_oa': True, 'is_in_doaj': False, 'is_indexed_in_scopus': False, 'is_core': False, 'host_organization': None, 'host_organization_name': None, 'host_organization_lineage': [], 'host_organization_lineage_names': [], 'type': 'repository'}, 'license': None, 'license_id': None, 'version': None, 'is_accepted': False, 'is_published': False}, {'is_oa': True, 'landing_page_url': 'https://europepmc.org/articles/pmc3486795', 'pdf_url': 'https://europepmc.org/articles/pmc3486795?pdf=render', 'source': {'id': 'https://openalex.org/S4306400806', 'display_name': 'Europe PMC (PubMed Central)', 'issn_l': None, 'issn': None, 'is_oa': True, 'is_in_doaj': False, 'is_indexed_in_scopus': False, 'is_core': False, 'host_organization': 'https://openalex.org/I1303153112', 'host_organization_name': 'European Bioinformatics Institute', 'host_organization_lineage': ['https://openalex.org/I1303153112'], 'host_organization_lineage_names': ['European Bioinformatics Institute'], 'type': 'repository'}, 'license': 'cc-by', 'license_id': 'https://openalex.org/licenses/cc-by', 'version': 'publishedVersion', 'is_accepted': True, 'is_published': True}, {'is_oa': True, 'landing_page_url': 'https://research.vu.nl/en/publications/c155d882-6880-4291-abe6-b2702e6d5e54', 'pdf_url': 'https://research.vu.nl/files/619727/296608.pdf', 'source': None, 'license': 'other-oa', 'license_id': 'https://openalex.org/licenses/other-oa', 'version': 'publishedVersion', 'is_accepted': True, 'is_published': True}, {'is_oa': True, 'landing_page_url': 'https://research.vu.nl/ws/files/619727/296608.pdf', 'pdf_url': 'https://research.vu.nl/ws/files/619727/296608.pdf', 'source': None, 'license': 'other-oa', 'license_id': 'https://openalex.org/licenses/other-oa', 'version': 'publishedVersion', 'is_accepted': True, 'is_published': True}, {'is_oa': True, 'landing_page_url': 'https://www.ncbi.nlm.nih.gov/pmc/articles/PMC3486795', 'pdf_url': None, 'source': {'id': 'https://openalex.org/S2764455111', 'display_name': 'PubMed Central', 'issn_l': None, 'issn': None, 'is_oa': True, 'is_in_doaj': False, 'is_indexed_in_scopus': False, 'is_core': False, 'host_organization': 'https://openalex.org/I1299303238', 'host_organization_name': 'National Institutes of Health', 'host_organization_lineage': ['https://openalex.org/I1299303238'], 'host_organization_lineage_names': ['National Institutes of Health'], 'type': 'repository'}, 'license': None, 'license_id': None, 'version': 'publishedVersion', 'is_accepted': True, 'is_published': True}, {'is_oa': False, 'landing_page_url': 'https://pubmed.ncbi.nlm.nih.gov/23133655', 'pdf_url': None, 'source': {'id': 'https://openalex.org/S4306525036', 'display_name': 'PubMed', 'issn_l': None, 'issn': None, 'is_oa': False, 'is_in_doaj': False, 'is_indexed_in_scopus': False, 'is_core': False, 'host_organization': 'https://openalex.org/I1299303238', 'host_organization_name': 'National Institutes of Health', 'host_organization_lineage': ['https://openalex.org/I1299303238'], 'host_organization_lineage_names': ['National Institutes of Health'], 'type': 'repository'}, 'license': None, 'license_id': None, 'version': None, 'is_accepted': False, 'is_published': False}]",
         "{'is_oa': True, 'landing_page_url': 'https://doi.org/10.1371/journal.pone.0048753', 'pdf_url': 'https://journals.plos.org/plosone/article/file?id=10.1371/journal.pone.0048753&type=printable', 'source': {'id': 'https://openalex.org/S202381698', 'display_name': 'PLoS ONE', 'issn_l': '1932-6203', 'issn': ['1932-6203'], 'is_oa': True, 'is_in_doaj': True, 'is_indexed_in_scopus': True, 'is_core': True, 'host_organization': 'https://openalex.org/P4310315706', 'host_organization_name': 'Public Library of Science', 'host_organization_lineage': ['https://openalex.org/P4310315706'], 'host_organization_lineage_names': ['Public Library of Science'], 'type': 'journal'}, 'license': 'cc-by', 'license_id': 'https://openalex.org/licenses/cc-by', 'version': 'publishedVersion', 'is_accepted': True, 'is_published': True}",
         "[]",
         "[]",
         "[]",
         "[]",
         "28",
         "['https://openalex.org/W1559646899', 'https://openalex.org/W1648137327', 'https://openalex.org/W1980824281', 'https://openalex.org/W1986322041', 'https://openalex.org/W1998040366', 'https://openalex.org/W2000866189', 'https://openalex.org/W2002034968', 'https://openalex.org/W2009405785', 'https://openalex.org/W2017124168', 'https://openalex.org/W2019020697', 'https://openalex.org/W2023754051', 'https://openalex.org/W2041710630', 'https://openalex.org/W2048780939', 'https://openalex.org/W2067333003', 'https://openalex.org/W2069656088', 'https://openalex.org/W2076872364', 'https://openalex.org/W2089302091', 'https://openalex.org/W2096081073', 'https://openalex.org/W2122117208', 'https://openalex.org/W2122130843', 'https://openalex.org/W2168201538', 'https://openalex.org/W2805551600', 'https://openalex.org/W3106316009', 'https://openalex.org/W3202747946', 'https://openalex.org/W3216501131', 'https://openalex.org/W4210997956', 'https://openalex.org/W4232412557', 'https://openalex.org/W4233311391']",
         "['https://openalex.org/W3150373829', 'https://openalex.org/W3091433250', 'https://openalex.org/W2808646405', 'https://openalex.org/W2795304587', 'https://openalex.org/W2751365766', 'https://openalex.org/W2618017038', 'https://openalex.org/W2291003715', 'https://openalex.org/W2166317738', 'https://openalex.org/W2073023209', 'https://openalex.org/W1990918794']",
         "{'What': [0], 'paper': [1], 'should': [2, 7, 17, 632], 'I': [3, 8], 'read': [4], 'next?': [5], 'Who': [6], 'talk': [9], 'to': [10, 31, 60, 73, 110, 173, 193, 274, 294, 305, 412, 473, 492, 548, 617, 646], 'at': [11, 643], 'a': [12, 125, 240, 258, 276, 347, 408, 557, 567, 576], 'conference?': [13], 'Which': [14], 'research': [15, 157, 216, 226, 520], 'group': [16], 'get': [18], 'this': [19], 'grant?': [20], 'Researchers': [21], 'and': [22, 37, 94, 122, 150, 182, 189, 196, 201, 215, 235, 256, 300, 311, 333, 337, 360, 378, 426, 430, 438, 445, 452, 470, 501, 517, 528, 540, 572, 595, 611, 615, 628, 667, 682], 'funders': [23], 'alike': [24], 'must': [25, 649], 'make': [26], 'daily': [27], 'judgments': [28], 'on': [29, 106, 362, 380, 535, 587, 599, 701], 'how': [30, 156], 'best': [32], 'spend': [33], 'their': [34, 475], 'limited': [35], 'time': [36], 'money–judgments': [38], 'that': [39, 129, 218, 582, 694], 'are': [40, 185, 190, 467, 484], 'becoming': [41], 'increasingly': [42, 198], 'difficult': [43], 'as': [44, 137, 590], 'the': [45, 54, 97, 101, 113, 153, 177, 222, 244, 266, 281, 295, 316, 345, 381, 393, 478, 526, 550, 579, 600, 618, 623, 626, 662, 675], 'volume': [46], 'of': [47, 56, 68, 96, 115, 139, 155, 221, 224, 243, 280, 297, 308, 344, 370, 376, 388, 395, 465, 496, 504, 514, 530, 559, 569, 578, 608, 630, 664, 674], 'scholarly': [48, 57, 210, 363, 421, 451, 531, 588], 'communication': [49, 69], 'increases.': [50], 'Not': [51], 'only': [52, 231, 239], 'does': [53], 'number': [55], 'papers': [58], 'continue': [59], 'grow,': [61], 'it': [62, 262, 574, 583], 'is': [63, 159, 525, 563, 575], 'joined': [64], 'by': [65, 100, 373], 'new': [66, 209, 259, 272, 358, 410, 560], 'forms': [67, 211], 'from': [70], 'data': [71, 398], 'publications': [72], 'microblog': [74], 'posts.\\r\\n\\r\\nTo': [75], 'deal': [76, 650], 'with': [77, 176, 477, 490, 498, 635, 651], 'incoming': [78], 'information,': [79], 'scholars': [80, 466], 'have': [81, 145, 151, 367, 406], 'always': [82], 'relied': [83], 'upon': [84], 'filters.': [85], 'At': [86], 'first': [87], 'these': [88, 469, 505], 'filters': [89, 104, 128, 144, 359], 'were': [90], 'manually': [91], 'compiled': [92], 'compendia': [93], 'corpora': [95], 'literature.': [98, 479], 'But': [99], 'mid-20th': [102], 'century,': [103], 'built': [105], 'manual': [107, 163], 'indexing': [108, 164], 'began': [109], 'break': [111], 'under': [112], 'weight': [114], 'booming': [116], 'postwar': [117], 'science': [118, 245, 282, 317, 676], 'production.': [119], 'Garfield': [120], '[1]': [121], 'others': [123], 'pioneered': [124], 'solution:': [126], 'automated': [127, 512], 'leveraged': [130], 'scientists': [131], 'own': [132], 'impact': [133, 158, 372, 415, 532, 661], 'judgments,': [134], 'aggregating': [135], 'citations': [136, 230], '“pellets': [138], 'peer': [140], 'recognition.”': [141], '[2].\\r\\n\\r\\nThese': [142], 'citation-based': [143], 'dramatically': [146], 'grown': [147], 'in': [148, 265, 330, 338, 423, 537, 555, 564, 581, 592, 652], 'importance': [149], 'become': [152, 698], 'tenet': [154], 'measured.': [160], 'But,': [161], 'like': [162, 212, 436, 442, 448, 456, 462], '60': [165], 'years': [166], 'ago,': [167], 'they': [168, 207, 237, 483], 'may': [169, 249, 604, 640, 670, 687], 'today': [170], 'be': [171, 633], 'failing': [172], 'keep': [174], 'up': [175], 'literature’s': [178], 'growing': [179], 'volume,': [180], 'velocity,': [181], 'diversity': [183], '[3].\\r\\n\\r\\nCitations': [184], 'heavily': [186], 'gamed': [187], '[4]–[6]': [188], 'painfully': [191], 'slow': [192], 'accumulate': [194], '[7],': [195, 399], 'overlook': [197, 208], 'important': [199, 386], 'societal': [200], 'clinical': [202], 'impacts': [203, 310], '[8].': [204], 'Most': [205], 'importantly,': [206], 'datasets,': [213], 'software,': [214], 'blogs': [217], 'fall': [219], 'outside': [220], 'scope': [223], 'citable': [225], 'objects.': [227], 'In': [228, 480], 'sum,': [229], 'reflect': [232], 'formal': [233, 267], 'acknowledgment': [234], 'thus': [236], 'provide': [238, 312], 'partial': [241], 'picture': [242, 279, 673], 'system': [246, 620, 677, 691], '[9].': [247], 'Scholars': [248], 'discuss,': [250], 'annotate,': [251], 'recommend,': [252], 'refute,': [253], 'comment,': [254], 'read,': [255], 'teach': [257], 'finding': [260], 'before': [261], 'ever': [263], 'appears': [264], 'citation': [268, 298], 'registry.': [269], 'We': [270], 'need': [271], 'mechanisms': [273], 'create': [275], 'subtler,': [277], 'higher-resolution': [278], 'system.\\r\\n\\r\\nThe': [283], 'Quest': [284], 'for': [285, 350, 357, 692], 'Better': [286], 'Filters\\r\\nThe': [287], 'scientometrics': [288, 571], 'community': [289], 'has': [290, 301, 353, 390, 544, 697], 'not': [291, 679], 'been': [292, 546], 'blind': [293], 'limitations': [296], 'measures,': [299], 'collectively': [302], 'proposed': [303], 'methods': [304], 'gather': [306], 'evidence': [307, 369], 'broader': [309, 382, 610], 'more': [313, 585, 602, 612], 'detail': [314], 'about': [315], 'system:': [318], 'tracking': [319, 417], 'acknowledgements': [320], '[10],': [321], 'patents': [322], '[11],': [323], 'mentorships': [324], '[12],': [325], 'news': [326], 'articles': [327], '[8],': [328], 'usage': [329], 'syllabuses': [331], '[13],': [332], 'many': [334, 695], 'others,': [335], 'separately': [336], 'various': [339], 'combinations': [340], '[14].': [341], 'The': [342, 542], 'emergence': [343], 'Web,': [346], '“nutrient-rich': [348], 'space': [349], 'scholars”': [351], '[15],': [352], 'held': [354], 'particular': [355], 'promise': [356], 'lenses': [361], 'output.': [364], 'Webometrics': [365], 'researchers': [366], 'uncovered': [368], 'informal': [371, 494], 'examining': [374], 'networks': [375], 'hyperlinks': [377], 'mentions': [379], 'Web': [383, 601], '[16]–[18].': [384], 'An': [385], 'strand': [387], 'webometrics': [389], 'also': [391, 545], 'examined': [392], 'properties': [394], 'article': [396], 'download': [397], '[19],': [400], '[20].\\r\\n\\r\\nThe': [401], 'last': [402], 'several': [403], 'years,': [404], 'however,': [405], 'presented': [407], 'promising': [409], 'approach': [411], 'gathering': [413], 'fine-grained': [414], 'data:': [416], 'large-scale': [418], 'activity': [419, 536], 'around': [420, 519], 'products': [422], 'online': [424, 515, 538, 593], 'tools': [425, 429, 472, 506, 539, 594], 'environments.': [427, 541], 'These': [428], 'environments': [431], 'include,': [432], 'among': [433], 'others:\\r\\n\\r\\n\\r\\nsocial': [434], 'media': [435], 'Twitter': [437], 'Facebook\\r\\n\\r\\n\\r\\nonline': [439], 'reference': [440], 'managers': [441], 'CiteULike,': [443], 'Zotero,': [444], 'Mendeley\\r\\n\\r\\n\\r\\ncollaborative': [446], 'encyclopedias': [447], 'Wikipedia\\r\\n\\r\\n\\r\\nblogs,': [449], 'both': [450, 570], 'general-audience\\r\\n\\r\\n\\r\\nscholarly': [453], 'social': [454], 'networks,': [455], 'ResearchGate': [457], 'or': [458], 'Academia.edu\\r\\n\\r\\n\\r\\nconference': [459], 'organization': [460], 'sites': [461], 'Lanyrd.com\\r\\n\\r\\n\\r\\n\\r\\nGrowing': [463], 'numbers': [464], 'using': [468], 'similar': [471, 645], 'mediate': [474], 'interaction': [476], 'doing': [481], 'so,': [482], 'leaving': [485], 'valuable': [486], 'tracks': [487], 'behind': [488], 'them–tracks': [489], 'potential': [491], 'show': [493], 'paths': [495], 'influence': [497, 589], 'unprecedented': [499], 'speed': [500], 'resolution.': [502], 'Many': [503], 'offer': [507], 'open': [508], 'APIs,': [509], 'supporting': [510], 'large-scale,': [511], 'mining': [513], 'activities': [516], 'conversations': [518], 'objects': [521], '[21].\\r\\n\\r\\nAltmetrics': [522], '[22],': [523], '[23]': [524], 'study': [527], 'use': [529, 627], 'measures': [533, 669], 'based': [534], 'term': [543], 'used': [547], 'describe': [549], 'metrics': [551], 'themselves–one': [552], 'could': [553], 'propose': [554], 'plural': [556], '“set': [558], 'altmetrics.”': [561], 'Altmetrics': [562, 639], 'most': [565], 'cases': [566], 'subset': [568, 577], 'webometrics;': [573], 'latter': [580], 'focuses': [584], 'narrowly': [586], 'measured': [591], 'environments,': [596], 'rather': [597], 'than': [598], 'generally.\\r\\n\\r\\nAltmetrics': [603], 'support': [605], 'finer-grained': [606], 'maps': [607], 'science,': [609], 'equitable': [613], 'evaluations,': [614], 'improvements': [616], 'peer-review': [619], '[24].': [621], 'On': [622], 'other': [624], 'hand,': [625], 'development': [629], 'altmetrics': [631, 686], 'pursued': [634], 'appropriate': [636], 'scientific': [637], 'caution.': [638], 'face': [641], 'attempts': [642], 'manipulation': [644, 658], 'what': [647], 'Google': [648], 'web': [653], 'search': [654], 'ranking.': [655], 'Addressing': [656], 'such': [657], 'may,': [659], 'in-turn,': [660], 'transparency': [663], 'altmetrics.': [665], 'New': [666], 'complex': [668], 'distort': [671], 'our': [672], 'if': [678], 'rigorously': [680], 'assessed': [681], 'correctly': [683], 'understood.': [684], 'Finally,': [685], 'promote': [688], 'an': [689], 'evaluation': [690], 'scholarship': [693], 'argue': [696], 'overly': [699], 'focused': [700], 'metrics.': [702]}",
         null,
         "https://api.openalex.org/works?filter=cites:W2396414759",
         "[{'year': 2024, 'cited_by_count': 14}, {'year': 2023, 'cited_by_count': 13}, {'year': 2022, 'cited_by_count': 30}, {'year': 2021, 'cited_by_count': 23}, {'year': 2020, 'cited_by_count': 28}, {'year': 2019, 'cited_by_count': 28}, {'year': 2018, 'cited_by_count': 24}, {'year': 2017, 'cited_by_count': 21}, {'year': 2016, 'cited_by_count': 14}, {'year': 2015, 'cited_by_count': 30}, {'year': 2014, 'cited_by_count': 17}, {'year': 2013, 'cited_by_count': 25}]",
         "2025-05-21T08:44:21.949114",
         "2016-06-24"
        ]
       ],
       "shape": {
        "columns": 51,
        "rows": 5
       }
      },
      "text/html": [
       "<div>\n",
       "<style scoped>\n",
       "    .dataframe tbody tr th:only-of-type {\n",
       "        vertical-align: middle;\n",
       "    }\n",
       "\n",
       "    .dataframe tbody tr th {\n",
       "        vertical-align: top;\n",
       "    }\n",
       "\n",
       "    .dataframe thead th {\n",
       "        text-align: right;\n",
       "    }\n",
       "</style>\n",
       "<table border=\"1\" class=\"dataframe\">\n",
       "  <thead>\n",
       "    <tr style=\"text-align: right;\">\n",
       "      <th></th>\n",
       "      <th>id</th>\n",
       "      <th>doi</th>\n",
       "      <th>title</th>\n",
       "      <th>display_name</th>\n",
       "      <th>publication_year</th>\n",
       "      <th>publication_date</th>\n",
       "      <th>ids</th>\n",
       "      <th>language</th>\n",
       "      <th>primary_location</th>\n",
       "      <th>type</th>\n",
       "      <th>...</th>\n",
       "      <th>versions</th>\n",
       "      <th>referenced_works_count</th>\n",
       "      <th>referenced_works</th>\n",
       "      <th>related_works</th>\n",
       "      <th>abstract_inverted_index</th>\n",
       "      <th>abstract_inverted_index_v3</th>\n",
       "      <th>cited_by_api_url</th>\n",
       "      <th>counts_by_year</th>\n",
       "      <th>updated_date</th>\n",
       "      <th>created_date</th>\n",
       "    </tr>\n",
       "  </thead>\n",
       "  <tbody>\n",
       "    <tr>\n",
       "      <th>0</th>\n",
       "      <td>https://openalex.org/W2741809807</td>\n",
       "      <td>https://doi.org/10.7717/peerj.4375</td>\n",
       "      <td>The state of OA: a large-scale analysis of the...</td>\n",
       "      <td>The state of OA: a large-scale analysis of the...</td>\n",
       "      <td>2018</td>\n",
       "      <td>2018-02-13</td>\n",
       "      <td>{'openalex': 'https://openalex.org/W2741809807...</td>\n",
       "      <td>en</td>\n",
       "      <td>{'is_oa': True, 'landing_page_url': 'https://d...</td>\n",
       "      <td>article</td>\n",
       "      <td>...</td>\n",
       "      <td>[]</td>\n",
       "      <td>45</td>\n",
       "      <td>[https://openalex.org/W1560783210, https://ope...</td>\n",
       "      <td>[https://openalex.org/W3203790917, https://ope...</td>\n",
       "      <td>{'Despite': [0], 'growing': [1], 'interest': [...</td>\n",
       "      <td>None</td>\n",
       "      <td>https://api.openalex.org/works?filter=cites:W2...</td>\n",
       "      <td>[{'year': 2025, 'cited_by_count': 30}, {'year'...</td>\n",
       "      <td>2025-06-11T00:03:37.532706</td>\n",
       "      <td>2017-08-08</td>\n",
       "    </tr>\n",
       "    <tr>\n",
       "      <th>1</th>\n",
       "      <td>https://openalex.org/W2122130843</td>\n",
       "      <td>https://doi.org/10.5210/fm.v15i7.2874</td>\n",
       "      <td>Scientometrics 2.0: New metrics of scholarly i...</td>\n",
       "      <td>Scientometrics 2.0: New metrics of scholarly i...</td>\n",
       "      <td>2010</td>\n",
       "      <td>2010-07-02</td>\n",
       "      <td>{'openalex': 'https://openalex.org/W2122130843...</td>\n",
       "      <td>en</td>\n",
       "      <td>{'is_oa': False, 'landing_page_url': 'https://...</td>\n",
       "      <td>article</td>\n",
       "      <td>...</td>\n",
       "      <td>[]</td>\n",
       "      <td>0</td>\n",
       "      <td>[]</td>\n",
       "      <td>[https://openalex.org/W4385506752, https://ope...</td>\n",
       "      <td>{'The': [0], 'growing': [1], 'flood': [2], 'of...</td>\n",
       "      <td>None</td>\n",
       "      <td>https://api.openalex.org/works?filter=cites:W2...</td>\n",
       "      <td>[{'year': 2025, 'cited_by_count': 4}, {'year':...</td>\n",
       "      <td>2025-05-29T05:33:52.392876</td>\n",
       "      <td>2016-06-24</td>\n",
       "    </tr>\n",
       "    <tr>\n",
       "      <th>2</th>\n",
       "      <td>https://openalex.org/W1553564559</td>\n",
       "      <td>https://doi.org/10.48550/arxiv.1203.4745</td>\n",
       "      <td>Altmetrics in the wild: Using social media to ...</td>\n",
       "      <td>Altmetrics in the wild: Using social media to ...</td>\n",
       "      <td>2012</td>\n",
       "      <td>2012-01-01</td>\n",
       "      <td>{'openalex': 'https://openalex.org/W1553564559...</td>\n",
       "      <td>en</td>\n",
       "      <td>{'is_oa': True, 'landing_page_url': 'https://a...</td>\n",
       "      <td>preprint</td>\n",
       "      <td>...</td>\n",
       "      <td>[]</td>\n",
       "      <td>0</td>\n",
       "      <td>[]</td>\n",
       "      <td>[https://openalex.org/W3211611723, https://ope...</td>\n",
       "      <td>{'In': [0], 'growing': [1], 'numbers,': [2], '...</td>\n",
       "      <td>None</td>\n",
       "      <td>https://api.openalex.org/works?filter=cites:W1...</td>\n",
       "      <td>[{'year': 2025, 'cited_by_count': 2}, {'year':...</td>\n",
       "      <td>2025-05-16T23:01:40.514294</td>\n",
       "      <td>2016-06-24</td>\n",
       "    </tr>\n",
       "    <tr>\n",
       "      <th>3</th>\n",
       "      <td>https://openalex.org/W3130540911</td>\n",
       "      <td>None</td>\n",
       "      <td>altmetrics: a manifesto</td>\n",
       "      <td>altmetrics: a manifesto</td>\n",
       "      <td>2011</td>\n",
       "      <td>2011-01-01</td>\n",
       "      <td>{'openalex': 'https://openalex.org/W3130540911...</td>\n",
       "      <td>ca</td>\n",
       "      <td>{'is_oa': False, 'landing_page_url': 'https://...</td>\n",
       "      <td>article</td>\n",
       "      <td>...</td>\n",
       "      <td>[]</td>\n",
       "      <td>0</td>\n",
       "      <td>[]</td>\n",
       "      <td>[https://openalex.org/W2963475133, https://ope...</td>\n",
       "      <td>None</td>\n",
       "      <td>None</td>\n",
       "      <td>https://api.openalex.org/works?filter=cites:W3...</td>\n",
       "      <td>[{'year': 2021, 'cited_by_count': 14}, {'year'...</td>\n",
       "      <td>2025-05-24T20:43:35.778470</td>\n",
       "      <td>2021-03-01</td>\n",
       "    </tr>\n",
       "    <tr>\n",
       "      <th>4</th>\n",
       "      <td>https://openalex.org/W2396414759</td>\n",
       "      <td>https://doi.org/10.1371/journal.pone.0048753</td>\n",
       "      <td>The Altmetrics Collection</td>\n",
       "      <td>The Altmetrics Collection</td>\n",
       "      <td>2012</td>\n",
       "      <td>2012-11-01</td>\n",
       "      <td>{'openalex': 'https://openalex.org/W2396414759...</td>\n",
       "      <td>en</td>\n",
       "      <td>{'is_oa': True, 'landing_page_url': 'https://d...</td>\n",
       "      <td>article</td>\n",
       "      <td>...</td>\n",
       "      <td>[]</td>\n",
       "      <td>28</td>\n",
       "      <td>[https://openalex.org/W1559646899, https://ope...</td>\n",
       "      <td>[https://openalex.org/W3150373829, https://ope...</td>\n",
       "      <td>{'What': [0], 'paper': [1], 'should': [2, 7, 1...</td>\n",
       "      <td>None</td>\n",
       "      <td>https://api.openalex.org/works?filter=cites:W2...</td>\n",
       "      <td>[{'year': 2024, 'cited_by_count': 14}, {'year'...</td>\n",
       "      <td>2025-05-21T08:44:21.949114</td>\n",
       "      <td>2016-06-24</td>\n",
       "    </tr>\n",
       "  </tbody>\n",
       "</table>\n",
       "<p>5 rows × 51 columns</p>\n",
       "</div>"
      ],
      "text/plain": [
       "                                 id  \\\n",
       "0  https://openalex.org/W2741809807   \n",
       "1  https://openalex.org/W2122130843   \n",
       "2  https://openalex.org/W1553564559   \n",
       "3  https://openalex.org/W3130540911   \n",
       "4  https://openalex.org/W2396414759   \n",
       "\n",
       "                                            doi  \\\n",
       "0            https://doi.org/10.7717/peerj.4375   \n",
       "1         https://doi.org/10.5210/fm.v15i7.2874   \n",
       "2      https://doi.org/10.48550/arxiv.1203.4745   \n",
       "3                                          None   \n",
       "4  https://doi.org/10.1371/journal.pone.0048753   \n",
       "\n",
       "                                               title  \\\n",
       "0  The state of OA: a large-scale analysis of the...   \n",
       "1  Scientometrics 2.0: New metrics of scholarly i...   \n",
       "2  Altmetrics in the wild: Using social media to ...   \n",
       "3                            altmetrics: a manifesto   \n",
       "4                          The Altmetrics Collection   \n",
       "\n",
       "                                        display_name  publication_year  \\\n",
       "0  The state of OA: a large-scale analysis of the...              2018   \n",
       "1  Scientometrics 2.0: New metrics of scholarly i...              2010   \n",
       "2  Altmetrics in the wild: Using social media to ...              2012   \n",
       "3                            altmetrics: a manifesto              2011   \n",
       "4                          The Altmetrics Collection              2012   \n",
       "\n",
       "  publication_date                                                ids  \\\n",
       "0       2018-02-13  {'openalex': 'https://openalex.org/W2741809807...   \n",
       "1       2010-07-02  {'openalex': 'https://openalex.org/W2122130843...   \n",
       "2       2012-01-01  {'openalex': 'https://openalex.org/W1553564559...   \n",
       "3       2011-01-01  {'openalex': 'https://openalex.org/W3130540911...   \n",
       "4       2012-11-01  {'openalex': 'https://openalex.org/W2396414759...   \n",
       "\n",
       "  language                                   primary_location      type  ...  \\\n",
       "0       en  {'is_oa': True, 'landing_page_url': 'https://d...   article  ...   \n",
       "1       en  {'is_oa': False, 'landing_page_url': 'https://...   article  ...   \n",
       "2       en  {'is_oa': True, 'landing_page_url': 'https://a...  preprint  ...   \n",
       "3       ca  {'is_oa': False, 'landing_page_url': 'https://...   article  ...   \n",
       "4       en  {'is_oa': True, 'landing_page_url': 'https://d...   article  ...   \n",
       "\n",
       "  versions referenced_works_count  \\\n",
       "0       []                     45   \n",
       "1       []                      0   \n",
       "2       []                      0   \n",
       "3       []                      0   \n",
       "4       []                     28   \n",
       "\n",
       "                                    referenced_works  \\\n",
       "0  [https://openalex.org/W1560783210, https://ope...   \n",
       "1                                                 []   \n",
       "2                                                 []   \n",
       "3                                                 []   \n",
       "4  [https://openalex.org/W1559646899, https://ope...   \n",
       "\n",
       "                                       related_works  \\\n",
       "0  [https://openalex.org/W3203790917, https://ope...   \n",
       "1  [https://openalex.org/W4385506752, https://ope...   \n",
       "2  [https://openalex.org/W3211611723, https://ope...   \n",
       "3  [https://openalex.org/W2963475133, https://ope...   \n",
       "4  [https://openalex.org/W3150373829, https://ope...   \n",
       "\n",
       "                             abstract_inverted_index  \\\n",
       "0  {'Despite': [0], 'growing': [1], 'interest': [...   \n",
       "1  {'The': [0], 'growing': [1], 'flood': [2], 'of...   \n",
       "2  {'In': [0], 'growing': [1], 'numbers,': [2], '...   \n",
       "3                                               None   \n",
       "4  {'What': [0], 'paper': [1], 'should': [2, 7, 1...   \n",
       "\n",
       "   abstract_inverted_index_v3  \\\n",
       "0                        None   \n",
       "1                        None   \n",
       "2                        None   \n",
       "3                        None   \n",
       "4                        None   \n",
       "\n",
       "                                    cited_by_api_url  \\\n",
       "0  https://api.openalex.org/works?filter=cites:W2...   \n",
       "1  https://api.openalex.org/works?filter=cites:W2...   \n",
       "2  https://api.openalex.org/works?filter=cites:W1...   \n",
       "3  https://api.openalex.org/works?filter=cites:W3...   \n",
       "4  https://api.openalex.org/works?filter=cites:W2...   \n",
       "\n",
       "                                      counts_by_year  \\\n",
       "0  [{'year': 2025, 'cited_by_count': 30}, {'year'...   \n",
       "1  [{'year': 2025, 'cited_by_count': 4}, {'year':...   \n",
       "2  [{'year': 2025, 'cited_by_count': 2}, {'year':...   \n",
       "3  [{'year': 2021, 'cited_by_count': 14}, {'year'...   \n",
       "4  [{'year': 2024, 'cited_by_count': 14}, {'year'...   \n",
       "\n",
       "                 updated_date created_date  \n",
       "0  2025-06-11T00:03:37.532706   2017-08-08  \n",
       "1  2025-05-29T05:33:52.392876   2016-06-24  \n",
       "2  2025-05-16T23:01:40.514294   2016-06-24  \n",
       "3  2025-05-24T20:43:35.778470   2021-03-01  \n",
       "4  2025-05-21T08:44:21.949114   2016-06-24  \n",
       "\n",
       "[5 rows x 51 columns]"
      ]
     },
     "execution_count": 16,
     "metadata": {},
     "output_type": "execute_result"
    }
   ],
   "source": [
    "# Write your own code\n",
    "\n",
    "df_results = pd.DataFrame(search_results[\"results\"])\n",
    "df_results.info()\n",
    "df_results.head()\n"
   ]
  },
  {
   "cell_type": "markdown",
   "metadata": {},
   "source": [
    "# <span style=\"color:darkblue\"> IV. Hands-on Experience </span>"
   ]
  },
  {
   "cell_type": "markdown",
   "metadata": {},
   "source": [
    "The Open Library also contains bibliographic information.\n",
    "\n",
    "You can search for sports books with the API link\n",
    "\n",
    "http://openlibrary.org/search.json?title=sports\n",
    "\n",
    "1. Get information from this website using requests\n",
    "2. Store the result in a JSON file and open it with data viewer.\n",
    "2. Find out the main keys\n",
    "3. How many search results are there?\n",
    "4. What data can you obtain? Think carefully about <br>\n",
    "how to convert this into a workable pandas format"
   ]
  },
  {
   "cell_type": "code",
   "execution_count": 17,
   "metadata": {},
   "outputs": [
    {
     "name": "stdout",
     "output_type": "stream",
     "text": [
      "dict_keys(['numFound', 'start', 'numFoundExact', 'num_found', 'documentation_url', 'q', 'offset', 'docs'])\n",
      "Number of search results: 41912\n",
      "<class 'pandas.core.frame.DataFrame'>\n",
      "RangeIndex: 100 entries, 0 to 99\n",
      "Data columns (total 19 columns):\n",
      " #   Column                Non-Null Count  Dtype  \n",
      "---  ------                --------------  -----  \n",
      " 0   author_key            100 non-null    object \n",
      " 1   author_name           100 non-null    object \n",
      " 2   cover_i               93 non-null     float64\n",
      " 3   ebook_access          100 non-null    object \n",
      " 4   edition_count         100 non-null    int64  \n",
      " 5   first_publish_year    100 non-null    int64  \n",
      " 6   has_fulltext          100 non-null    bool   \n",
      " 7   ia                    69 non-null     object \n",
      " 8   ia_collection_s       68 non-null     object \n",
      " 9   key                   100 non-null    object \n",
      " 10  language              98 non-null     object \n",
      " 11  lending_edition_s     41 non-null     object \n",
      " 12  lending_identifier_s  41 non-null     object \n",
      " 13  public_scan_b         100 non-null    bool   \n",
      " 14  title                 100 non-null    object \n",
      " 15  cover_edition_key     88 non-null     object \n",
      " 16  subtitle              5 non-null      object \n",
      " 17  id_project_gutenberg  1 non-null      object \n",
      " 18  id_librivox           1 non-null      object \n",
      "dtypes: bool(2), float64(1), int64(2), object(14)\n",
      "memory usage: 13.6+ KB\n"
     ]
    },
    {
     "data": {
      "application/vnd.microsoft.datawrangler.viewer.v0+json": {
       "columns": [
        {
         "name": "index",
         "rawType": "int64",
         "type": "integer"
        },
        {
         "name": "author_key",
         "rawType": "object",
         "type": "unknown"
        },
        {
         "name": "author_name",
         "rawType": "object",
         "type": "unknown"
        },
        {
         "name": "cover_i",
         "rawType": "float64",
         "type": "float"
        },
        {
         "name": "ebook_access",
         "rawType": "object",
         "type": "string"
        },
        {
         "name": "edition_count",
         "rawType": "int64",
         "type": "integer"
        },
        {
         "name": "first_publish_year",
         "rawType": "int64",
         "type": "integer"
        },
        {
         "name": "has_fulltext",
         "rawType": "bool",
         "type": "boolean"
        },
        {
         "name": "ia",
         "rawType": "object",
         "type": "unknown"
        },
        {
         "name": "ia_collection_s",
         "rawType": "object",
         "type": "unknown"
        },
        {
         "name": "key",
         "rawType": "object",
         "type": "string"
        },
        {
         "name": "language",
         "rawType": "object",
         "type": "unknown"
        },
        {
         "name": "lending_edition_s",
         "rawType": "object",
         "type": "unknown"
        },
        {
         "name": "lending_identifier_s",
         "rawType": "object",
         "type": "unknown"
        },
        {
         "name": "public_scan_b",
         "rawType": "bool",
         "type": "boolean"
        },
        {
         "name": "title",
         "rawType": "object",
         "type": "string"
        },
        {
         "name": "cover_edition_key",
         "rawType": "object",
         "type": "unknown"
        },
        {
         "name": "subtitle",
         "rawType": "object",
         "type": "unknown"
        },
        {
         "name": "id_project_gutenberg",
         "rawType": "object",
         "type": "unknown"
        },
        {
         "name": "id_librivox",
         "rawType": "object",
         "type": "unknown"
        }
       ],
       "ref": "9add2bf9-749c-4e39-b424-be5c78d5cebe",
       "rows": [
        [
         "0",
         "['OL22258A', 'OL10447468A']",
         "['James Patterson', 'Valentina de Angelis']",
         "6450803.0",
         "borrowable",
         "34",
         "1998",
         "True",
         "['savingworld0000patt', 'isbn_9780756983536', 'maximumridesavin0000patt', 'maximumridesavin00patt', 'savingworldother0000patt_j5n2', 'savingworldother0000patt_r4w1', 'isbn_9780786298877', 'savingworldother0000patt_z4w7', 'savingworldother0000patt_d3e6', 'savingworldother0000patt', 'savingworldother00patt']",
         "cnusd-ol;delawarecountydistrictlibrary-ol;denverpubliclibrary-ol;goffstownlibrary-ol;inlibrary;internetarchivebooks;miltonpubliclibrary-ol;openlibrary-d-ol;printdisabled;salisburyfreelibrary-ol;schoollibrary;spokanepubliclibrary-ol;stmaryscountylibrary;worthingtonlibraries-ol",
         "/works/OL5337360W",
         "['eng']",
         "OL26443392M",
         "savingworld0000patt",
         "False",
         "Saving the World and Other Extreme Sports",
         null,
         null,
         null,
         null
        ],
        [
         "1",
         "['OL68744A']",
         "['Francie Alexander']",
         "277661.0",
         "borrowable",
         "48",
         "2003",
         "True",
         "['isbn_9780439406789', 'phonicsfun00fran_0', 'phonicsfun00fran_n9x', 'phonicsfun00fran', 'isbn_9780439409346', 'phonicsfun00fran_1']",
         "inlibrary;internetarchivebooks;printdisabled",
         "/works/OL816016W",
         "['eng']",
         "OL10251173M",
         "isbn_9780439406789",
         "False",
         "Good Sports (Clifford the Big Red Dog Phonics Fun Reading Program, Book 2)",
         "OL7512703M",
         null,
         null,
         null
        ],
        [
         "2",
         "['OL241533A']",
         "['Robert S. Weinberg']",
         "1364042.0",
         "borrowable",
         "7",
         "1995",
         "True",
         "['foundationsofspo0003wein', 'foundationsofspo0000wein_2ndEd.', 'foundationsofspo0000wein', 'foundationsofspo00wein']",
         "americana;barryuniversity-ol;binghamton-ol;inlibrary;internetarchivebooks;marygrovecollege;occidentalcollegelibrary-ol;printdisabled;riceuniversity-ol;schroederlibrary-ol;unb-ol;uni-ol;universityofthewest-ol",
         "/works/OL2005230W",
         "['eng']",
         "OL19133813M",
         "foundationsofspo0003wein",
         "False",
         "Foundations of sport and exercise psychology",
         "OL3556484M",
         null,
         null,
         null
        ],
        [
         "3",
         "['OL27064A']",
         "['Dick Francis']",
         "6688382.0",
         "borrowable",
         "45",
         "1967",
         "True",
         "['bloodsport0000dick_r1f0', 'bloodsport0000dick', 'bloodsportharper0000dick', 'bloodsport0000fran_p1h8', 'bloodsport00dick', 'bloodshort0000unse', 'bloodsport00fran', 'bloodsport0000fran_p2h7', 'bloodsport0000fran']",
         "americana;delawarecountydistrictlibrary;inlibrary;internetarchivebooks;library_of_atlantis;openlibrary-d-ol;printdisabled;unb-ol",
         "/works/OL463330W",
         "['eng']",
         "OL47837916M",
         "bloodsport0000dick_r1f0",
         "False",
         "Blood sport",
         "OL20941658M",
         null,
         null,
         null
        ],
        [
         "4",
         "['OL8222957A']",
         "['Robert Smith Surtees']",
         "11946684.0",
         "no_ebook",
         "57",
         "1984",
         "False",
         null,
         null,
         "/works/OL25030921W",
         "['eng']",
         null,
         null,
         "False",
         "Mr. Sponge's Sporting Tour",
         "OL33279842M",
         null,
         null,
         null
        ]
       ],
       "shape": {
        "columns": 19,
        "rows": 5
       }
      },
      "text/html": [
       "<div>\n",
       "<style scoped>\n",
       "    .dataframe tbody tr th:only-of-type {\n",
       "        vertical-align: middle;\n",
       "    }\n",
       "\n",
       "    .dataframe tbody tr th {\n",
       "        vertical-align: top;\n",
       "    }\n",
       "\n",
       "    .dataframe thead th {\n",
       "        text-align: right;\n",
       "    }\n",
       "</style>\n",
       "<table border=\"1\" class=\"dataframe\">\n",
       "  <thead>\n",
       "    <tr style=\"text-align: right;\">\n",
       "      <th></th>\n",
       "      <th>author_key</th>\n",
       "      <th>author_name</th>\n",
       "      <th>cover_i</th>\n",
       "      <th>ebook_access</th>\n",
       "      <th>edition_count</th>\n",
       "      <th>first_publish_year</th>\n",
       "      <th>has_fulltext</th>\n",
       "      <th>ia</th>\n",
       "      <th>ia_collection_s</th>\n",
       "      <th>key</th>\n",
       "      <th>language</th>\n",
       "      <th>lending_edition_s</th>\n",
       "      <th>lending_identifier_s</th>\n",
       "      <th>public_scan_b</th>\n",
       "      <th>title</th>\n",
       "      <th>cover_edition_key</th>\n",
       "      <th>subtitle</th>\n",
       "      <th>id_project_gutenberg</th>\n",
       "      <th>id_librivox</th>\n",
       "    </tr>\n",
       "  </thead>\n",
       "  <tbody>\n",
       "    <tr>\n",
       "      <th>0</th>\n",
       "      <td>[OL22258A, OL10447468A]</td>\n",
       "      <td>[James Patterson, Valentina de Angelis]</td>\n",
       "      <td>6450803.0</td>\n",
       "      <td>borrowable</td>\n",
       "      <td>34</td>\n",
       "      <td>1998</td>\n",
       "      <td>True</td>\n",
       "      <td>[savingworld0000patt, isbn_9780756983536, maxi...</td>\n",
       "      <td>cnusd-ol;delawarecountydistrictlibrary-ol;denv...</td>\n",
       "      <td>/works/OL5337360W</td>\n",
       "      <td>[eng]</td>\n",
       "      <td>OL26443392M</td>\n",
       "      <td>savingworld0000patt</td>\n",
       "      <td>False</td>\n",
       "      <td>Saving the World and Other Extreme Sports</td>\n",
       "      <td>NaN</td>\n",
       "      <td>NaN</td>\n",
       "      <td>NaN</td>\n",
       "      <td>NaN</td>\n",
       "    </tr>\n",
       "    <tr>\n",
       "      <th>1</th>\n",
       "      <td>[OL68744A]</td>\n",
       "      <td>[Francie Alexander]</td>\n",
       "      <td>277661.0</td>\n",
       "      <td>borrowable</td>\n",
       "      <td>48</td>\n",
       "      <td>2003</td>\n",
       "      <td>True</td>\n",
       "      <td>[isbn_9780439406789, phonicsfun00fran_0, phoni...</td>\n",
       "      <td>inlibrary;internetarchivebooks;printdisabled</td>\n",
       "      <td>/works/OL816016W</td>\n",
       "      <td>[eng]</td>\n",
       "      <td>OL10251173M</td>\n",
       "      <td>isbn_9780439406789</td>\n",
       "      <td>False</td>\n",
       "      <td>Good Sports (Clifford the Big Red Dog Phonics ...</td>\n",
       "      <td>OL7512703M</td>\n",
       "      <td>NaN</td>\n",
       "      <td>NaN</td>\n",
       "      <td>NaN</td>\n",
       "    </tr>\n",
       "    <tr>\n",
       "      <th>2</th>\n",
       "      <td>[OL241533A]</td>\n",
       "      <td>[Robert S. Weinberg]</td>\n",
       "      <td>1364042.0</td>\n",
       "      <td>borrowable</td>\n",
       "      <td>7</td>\n",
       "      <td>1995</td>\n",
       "      <td>True</td>\n",
       "      <td>[foundationsofspo0003wein, foundationsofspo000...</td>\n",
       "      <td>americana;barryuniversity-ol;binghamton-ol;inl...</td>\n",
       "      <td>/works/OL2005230W</td>\n",
       "      <td>[eng]</td>\n",
       "      <td>OL19133813M</td>\n",
       "      <td>foundationsofspo0003wein</td>\n",
       "      <td>False</td>\n",
       "      <td>Foundations of sport and exercise psychology</td>\n",
       "      <td>OL3556484M</td>\n",
       "      <td>NaN</td>\n",
       "      <td>NaN</td>\n",
       "      <td>NaN</td>\n",
       "    </tr>\n",
       "    <tr>\n",
       "      <th>3</th>\n",
       "      <td>[OL27064A]</td>\n",
       "      <td>[Dick Francis]</td>\n",
       "      <td>6688382.0</td>\n",
       "      <td>borrowable</td>\n",
       "      <td>45</td>\n",
       "      <td>1967</td>\n",
       "      <td>True</td>\n",
       "      <td>[bloodsport0000dick_r1f0, bloodsport0000dick, ...</td>\n",
       "      <td>americana;delawarecountydistrictlibrary;inlibr...</td>\n",
       "      <td>/works/OL463330W</td>\n",
       "      <td>[eng]</td>\n",
       "      <td>OL47837916M</td>\n",
       "      <td>bloodsport0000dick_r1f0</td>\n",
       "      <td>False</td>\n",
       "      <td>Blood sport</td>\n",
       "      <td>OL20941658M</td>\n",
       "      <td>NaN</td>\n",
       "      <td>NaN</td>\n",
       "      <td>NaN</td>\n",
       "    </tr>\n",
       "    <tr>\n",
       "      <th>4</th>\n",
       "      <td>[OL8222957A]</td>\n",
       "      <td>[Robert Smith Surtees]</td>\n",
       "      <td>11946684.0</td>\n",
       "      <td>no_ebook</td>\n",
       "      <td>57</td>\n",
       "      <td>1984</td>\n",
       "      <td>False</td>\n",
       "      <td>NaN</td>\n",
       "      <td>NaN</td>\n",
       "      <td>/works/OL25030921W</td>\n",
       "      <td>[eng]</td>\n",
       "      <td>NaN</td>\n",
       "      <td>NaN</td>\n",
       "      <td>False</td>\n",
       "      <td>Mr. Sponge's Sporting Tour</td>\n",
       "      <td>OL33279842M</td>\n",
       "      <td>NaN</td>\n",
       "      <td>NaN</td>\n",
       "      <td>NaN</td>\n",
       "    </tr>\n",
       "  </tbody>\n",
       "</table>\n",
       "</div>"
      ],
      "text/plain": [
       "                author_key                              author_name  \\\n",
       "0  [OL22258A, OL10447468A]  [James Patterson, Valentina de Angelis]   \n",
       "1               [OL68744A]                      [Francie Alexander]   \n",
       "2              [OL241533A]                     [Robert S. Weinberg]   \n",
       "3               [OL27064A]                           [Dick Francis]   \n",
       "4             [OL8222957A]                   [Robert Smith Surtees]   \n",
       "\n",
       "      cover_i ebook_access  edition_count  first_publish_year  has_fulltext  \\\n",
       "0   6450803.0   borrowable             34                1998          True   \n",
       "1    277661.0   borrowable             48                2003          True   \n",
       "2   1364042.0   borrowable              7                1995          True   \n",
       "3   6688382.0   borrowable             45                1967          True   \n",
       "4  11946684.0     no_ebook             57                1984         False   \n",
       "\n",
       "                                                  ia  \\\n",
       "0  [savingworld0000patt, isbn_9780756983536, maxi...   \n",
       "1  [isbn_9780439406789, phonicsfun00fran_0, phoni...   \n",
       "2  [foundationsofspo0003wein, foundationsofspo000...   \n",
       "3  [bloodsport0000dick_r1f0, bloodsport0000dick, ...   \n",
       "4                                                NaN   \n",
       "\n",
       "                                     ia_collection_s                 key  \\\n",
       "0  cnusd-ol;delawarecountydistrictlibrary-ol;denv...   /works/OL5337360W   \n",
       "1       inlibrary;internetarchivebooks;printdisabled    /works/OL816016W   \n",
       "2  americana;barryuniversity-ol;binghamton-ol;inl...   /works/OL2005230W   \n",
       "3  americana;delawarecountydistrictlibrary;inlibr...    /works/OL463330W   \n",
       "4                                                NaN  /works/OL25030921W   \n",
       "\n",
       "  language lending_edition_s      lending_identifier_s  public_scan_b  \\\n",
       "0    [eng]       OL26443392M       savingworld0000patt          False   \n",
       "1    [eng]       OL10251173M        isbn_9780439406789          False   \n",
       "2    [eng]       OL19133813M  foundationsofspo0003wein          False   \n",
       "3    [eng]       OL47837916M   bloodsport0000dick_r1f0          False   \n",
       "4    [eng]               NaN                       NaN          False   \n",
       "\n",
       "                                               title cover_edition_key  \\\n",
       "0          Saving the World and Other Extreme Sports               NaN   \n",
       "1  Good Sports (Clifford the Big Red Dog Phonics ...        OL7512703M   \n",
       "2       Foundations of sport and exercise psychology        OL3556484M   \n",
       "3                                        Blood sport       OL20941658M   \n",
       "4                         Mr. Sponge's Sporting Tour       OL33279842M   \n",
       "\n",
       "  subtitle id_project_gutenberg id_librivox  \n",
       "0      NaN                  NaN         NaN  \n",
       "1      NaN                  NaN         NaN  \n",
       "2      NaN                  NaN         NaN  \n",
       "3      NaN                  NaN         NaN  \n",
       "4      NaN                  NaN         NaN  "
      ]
     },
     "execution_count": 17,
     "metadata": {},
     "output_type": "execute_result"
    }
   ],
   "source": [
    "# Write your own code\n",
    "\n",
    "# 1. Get information from the Open Library API\n",
    "openlibrary_url = \"http://openlibrary.org/search.json?title=sports\"\n",
    "openlibrary_results = requests.get(openlibrary_url).json()\n",
    "\n",
    "# 2. Store the result in a JSON file\n",
    "with open('json_files/openlibrary_sports.json', 'w') as f:\n",
    "    f.write(json.dumps(openlibrary_results, indent=4))\n",
    "\n",
    "# 3. Find out the main keys\n",
    "print(openlibrary_results.keys())\n",
    "\n",
    "# 4. How many search results are there?\n",
    "print(\"Number of search results:\", openlibrary_results.get('numFound', 0))\n",
    "\n",
    "# 5. Convert the 'docs' list to a pandas DataFrame for further analysis\n",
    "df_openlibrary = pd.DataFrame(openlibrary_results['docs'])\n",
    "df_openlibrary.info()\n",
    "df_openlibrary.head()\n",
    "\n",
    "\n",
    "\n"
   ]
  },
  {
   "cell_type": "markdown",
   "metadata": {},
   "source": [
    "# <span style=\"color:darkblue\"> V. Further Reading </span>"
   ]
  },
  {
   "cell_type": "markdown",
   "metadata": {},
   "source": [
    "<font size = \"5\">\n",
    "\n",
    "Learn more about how to use advanced JSON queries with JMES at\n",
    "\n",
    "- This can be very useful to navigate the nested structure\n",
    "- Examples of syntax and advanced search terms\n",
    "\n",
    "https://jmespath.org/tutorial.html"
   ]
  },
  {
   "cell_type": "markdown",
   "metadata": {},
   "source": [
    "<font size = \"5\">\n",
    "\n",
    "Learn more about JSON at <br>\n",
    "\n",
    "https://www.w3schools.com/js/js_json_intro.asp"
   ]
  },
  {
   "cell_type": "markdown",
   "metadata": {},
   "source": [
    "<font size = \"5\">\n",
    "\n",
    "https://saturncloud.io/blog/how-to-convert-nested-json-to-pandas-dataframe-with-specific-format/\n"
   ]
  },
  {
   "cell_type": "markdown",
   "metadata": {},
   "source": [
    "<font size = \"5\">\n",
    "\n",
    "Check the following textbook on our reading list, Chapter 7:\n",
    "\n",
    "https://www.amazon.com/Introduction-Programming-Business-Science-Applications/dp/1544377444"
   ]
  },
  {
   "cell_type": "markdown",
   "metadata": {},
   "source": [
    "<font size = \"5\">\n",
    "\n",
    "There are several online resources for further practice at:\n",
    "\n",
    "https://study.sagepub.com/researchmethods/statistics/kaefer-intro-to-python"
   ]
  }
 ],
 "metadata": {
  "kernelspec": {
   "display_name": "base",
   "language": "python",
   "name": "python3"
  },
  "language_info": {
   "codemirror_mode": {
    "name": "ipython",
    "version": 3
   },
   "file_extension": ".py",
   "mimetype": "text/x-python",
   "name": "python",
   "nbconvert_exporter": "python",
   "pygments_lexer": "ipython3",
   "version": "3.12.7"
  },
  "orig_nbformat": 4,
  "vscode": {
   "interpreter": {
    "hash": "45fc1f684f6f416f40889115beff3ddf69879b64cf4bfee48cb72a61e9d15d1a"
   }
  }
 },
 "nbformat": 4,
 "nbformat_minor": 2
}
